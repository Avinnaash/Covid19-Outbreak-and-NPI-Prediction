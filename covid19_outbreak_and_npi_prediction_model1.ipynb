{
  "nbformat": 4,
  "nbformat_minor": 0,
  "metadata": {
    "kernelspec": {
      "display_name": "Python 3",
      "language": "python",
      "name": "python3"
    },
    "language_info": {
      "name": "python",
      "version": "3.6.4",
      "mimetype": "text/x-python",
      "codemirror_mode": {
        "name": "ipython",
        "version": 3
      },
      "pygments_lexer": "ipython3",
      "nbconvert_exporter": "python",
      "file_extension": ".py"
    },
    "colab": {
      "name": "covid19-outbreak-and-npi-prediction-model.ipynb",
      "provenance": [],
      "include_colab_link": true
    },
    "widgets": {
      "application/vnd.jupyter.widget-state+json": {
        "865f90cb25c742079aadd6ed81c72cdc": {
          "model_module": "@jupyter-widgets/controls",
          "model_name": "ImageModel",
          "state": {
            "_view_name": "ImageView",
            "_dom_classes": [],
            "_model_name": "ImageModel",
            "format": "png",
            "_view_module": "@jupyter-widgets/controls",
            "_model_module_version": "1.5.0",
            "_view_count": null,
            "width": "",
            "_view_module_version": "1.5.0",
            "layout": "IPY_MODEL_06920dc13e444d8981d927787e5b822c",
            "height": "",
            "_model_module": "@jupyter-widgets/controls"
          }
        },
        "06920dc13e444d8981d927787e5b822c": {
          "model_module": "@jupyter-widgets/base",
          "model_name": "LayoutModel",
          "state": {
            "_view_name": "LayoutView",
            "grid_template_rows": null,
            "right": null,
            "justify_content": null,
            "_view_module": "@jupyter-widgets/base",
            "overflow": null,
            "_model_module_version": "1.2.0",
            "_view_count": null,
            "flex_flow": null,
            "width": null,
            "min_width": null,
            "border": null,
            "align_items": null,
            "bottom": null,
            "_model_module": "@jupyter-widgets/base",
            "top": null,
            "grid_column": null,
            "overflow_y": null,
            "overflow_x": null,
            "grid_auto_flow": null,
            "grid_area": null,
            "grid_template_columns": null,
            "flex": null,
            "_model_name": "LayoutModel",
            "justify_items": null,
            "grid_row": null,
            "max_height": null,
            "align_content": null,
            "visibility": null,
            "align_self": null,
            "height": null,
            "min_height": null,
            "padding": null,
            "grid_auto_rows": null,
            "grid_gap": null,
            "max_width": null,
            "order": null,
            "_view_module_version": "1.2.0",
            "grid_template_areas": null,
            "object_position": null,
            "object_fit": null,
            "grid_auto_columns": null,
            "margin": null,
            "display": null,
            "left": null
          }
        }
      }
    }
  },
  "cells": [
    {
      "cell_type": "markdown",
      "metadata": {
        "id": "view-in-github",
        "colab_type": "text"
      },
      "source": [
        "<a href=\"https://colab.research.google.com/github/sakethbachu/Covid19-Outbreak-and-NPI-Prediction/blob/master/covid19_outbreak_and_npi_prediction_model1.ipynb\" target=\"_parent\"><img src=\"https://colab.research.google.com/assets/colab-badge.svg\" alt=\"Open In Colab\"/></a>"
      ]
    },
    {
      "cell_type": "code",
      "metadata": {
        "id": "C3v5T_mAQawj",
        "colab_type": "code",
        "colab": {
          "base_uri": "https://localhost:8080/",
          "height": 121
        },
        "outputId": "aae47b30-1dfa-4477-ae17-3d9fb28a0a57"
      },
      "source": [
        "from google.colab import drive\n",
        "drive.mount('/content/gdrive')"
      ],
      "execution_count": 1,
      "outputs": [
        {
          "output_type": "stream",
          "text": [
            "Go to this URL in a browser: https://accounts.google.com/o/oauth2/auth?client_id=947318989803-6bn6qk8qdgf4n4g3pfee6491hc0brc4i.apps.googleusercontent.com&redirect_uri=urn%3aietf%3awg%3aoauth%3a2.0%3aoob&response_type=code&scope=email%20https%3a%2f%2fwww.googleapis.com%2fauth%2fdocs.test%20https%3a%2f%2fwww.googleapis.com%2fauth%2fdrive%20https%3a%2f%2fwww.googleapis.com%2fauth%2fdrive.photos.readonly%20https%3a%2f%2fwww.googleapis.com%2fauth%2fpeopleapi.readonly\n",
            "\n",
            "Enter your authorization code:\n",
            "··········\n",
            "Mounted at /content/gdrive\n"
          ],
          "name": "stdout"
        }
      ]
    },
    {
      "cell_type": "markdown",
      "metadata": {
        "id": "VjS6w3ChQCmx",
        "colab_type": "text"
      },
      "source": [
        "# Building a model that can assist in scaling up the implementation of NPIs based on kalman filter and machine learning algorithms.\n",
        "\n",
        "As we know the **Covid19** is frightening all of us and has affected more than 185 countries, there is an urgent need in ways to control its further spread and help people saving lives. There is a lot of research work that is being done currently in the field of effectiveness of different mitigation measures for **Covid19**. In this notebook we describe an effective way that can be used to deploy npis in regions based on various parameters. We hope this work would help us fighting the covid19 pandemic in an effective way."
      ]
    },
    {
      "cell_type": "markdown",
      "metadata": {
        "id": "JgAFcDxuQCm0",
        "colab_type": "text"
      },
      "source": [
        "This map shows the present status of the coronavirus infections across the world."
      ]
    },
    {
      "cell_type": "code",
      "metadata": {
        "trusted": true,
        "id": "DzPxr5SyQCm2",
        "colab_type": "code",
        "colab": {
          "base_uri": "https://localhost:8080/",
          "height": 583,
          "referenced_widgets": [
            "865f90cb25c742079aadd6ed81c72cdc",
            "06920dc13e444d8981d927787e5b822c"
          ]
        },
        "outputId": "d85505d5-ad15-40f6-d45f-76af28f5a9a0"
      },
      "source": [
        "from ipywidgets import Image\n",
        "f = open(\"/content/gdrive/My Drive/covid19h/c1.jpg\", \"rb\")\n",
        "image = f.read()\n",
        "Image(value=image)"
      ],
      "execution_count": 2,
      "outputs": [
        {
          "output_type": "display_data",
          "data": {
            "application/vnd.jupyter.widget-view+json": {
              "model_id": "865f90cb25c742079aadd6ed81c72cdc",
              "version_minor": 0,
              "version_major": 2
            },
            "text/plain": [
              "Image(value=b'\\xff\\xd8\\xff\\xe0\\x00\\x10JFIF\\x00\\x01\\x02\\x00\\x00\\x01\\x00\\x01\\x00\\x00\\xff\\xdb\\x00C\\x00\\x06\\x04\\x0…"
            ]
          },
          "metadata": {
            "tags": []
          }
        }
      ]
    },
    {
      "cell_type": "markdown",
      "metadata": {
        "id": "F4Kjuh6iQCnJ",
        "colab_type": "text"
      },
      "source": [
        "# Goal/Tasks\n",
        "\n",
        "1) Our major goal is to provide guidance on ways to scale up NPIs in a more coordinated way (e.g., establish funding, infrastructure and authorities to support real time, authoritative (qualified participants) collaboration with all states to gain consensus on consistent guidance and to mobilize resources to geographic areas where critical shortfalls are identified) to give us time to enhance our health care delivery system capacity to respond to an increase in cases.\n",
        "\n",
        "2) Rapid assessment of the likely efficacy of school closures, travel bans, bans on mass gatherings of various sizes, and other social distancing approaches.\n",
        "\n",
        "3) Models of potential interventions to predict costs and benefits that take account of such factors as race, income, disability, age, geographic location, immigration status, housing status, employment status, and health insurance status.\n",
        "\n",
        "4) The last point would be building a guideline model that will help control, any such pandemic and not let things go too far."
      ]
    },
    {
      "cell_type": "markdown",
      "metadata": {
        "id": "QbYJvgLZQCnL",
        "colab_type": "text"
      },
      "source": [
        "# What all did we do?\n",
        "\n",
        "1) First step: Prediction of the outbreak, forecasting in terms of number of cases, number of deaths etc.\n",
        "\n",
        "2) Second step: Prediction of the best-suited npi for the particular situation based on the previous history of implementations.\n"
      ]
    },
    {
      "cell_type": "markdown",
      "metadata": {
        "id": "LkP788FCQCnN",
        "colab_type": "text"
      },
      "source": [
        "* **Methods used for the first step:** We used regression techniques accompanied by a tool called Kalman filter which is found effective to give accurate predictions for such outbreaks.\n",
        "\n",
        "* Kalman filter: In statistics and control theory, Kalman filtering, also known as linear quadratic estimation (LQE), is an algorithm that uses a series of measurements observed over time, containing statistical noise and other inaccuracies, and produces estimates of unknown variables that tend to be more accurate than those based on a single measurement alone, by estimating a joint probability distribution over the variables for each timeframe. The filter is named after Rudolf E. Kálmán, one of the primary developers of its theory.\n",
        "\n",
        "* Source: https://en.wikipedia.org/wiki/Kalman_filter\n",
        "\n",
        "* **Methods used for the second step** We have techniques like SMOTE(synthetic minority oversampling technique) to tackle our data-imbalance problem, various machine learning techniques like Random-Forest, KNearNeighboursClassifier, Decision trees etc. We have shown the performance of some of the best machine-learning techniques on our dataset in step two."
      ]
    },
    {
      "cell_type": "markdown",
      "metadata": {
        "id": "ceUN0XeqQCnP",
        "colab_type": "text"
      },
      "source": [
        "# Internet must be turned on for this notebook to work."
      ]
    },
    {
      "cell_type": "markdown",
      "metadata": {
        "id": "obg6eAywQCnR",
        "colab_type": "text"
      },
      "source": [
        "**Importing the necessary packages and libraries that are necessary for step-one.**"
      ]
    },
    {
      "cell_type": "code",
      "metadata": {
        "id": "KvnEBAYTm4DR",
        "trusted": true,
        "colab_type": "code",
        "colab": {}
      },
      "source": [
        "import numpy as np\n",
        "from math import sqrt\n",
        "from sklearn.metrics import mean_squared_error\n",
        "import pandas as pd\n",
        "import cv2\n"
      ],
      "execution_count": 0,
      "outputs": []
    },
    {
      "cell_type": "markdown",
      "metadata": {
        "id": "ociC0DZcQCnd",
        "colab_type": "text"
      },
      "source": [
        "* All the time-series data that is required for our analysis and prediction is taken from: https://www.kaggle.com/sudalairajkumar/novel-corona-virus-2019-dataset\n",
        "\n",
        "* Although similar data is being maintained by this github repository: https://github.com/CSSEGISandData/COVID-19\n",
        "\n",
        "* We will be going ahead with the data that is maintained by the above-mentioned **repository**.\n",
        "\n",
        "* **Disclaimer**: Turn your internet on for this."
      ]
    },
    {
      "cell_type": "markdown",
      "metadata": {
        "id": "VACQQ5cLQCnf",
        "colab_type": "text"
      },
      "source": [
        "* Using the urls, we import the required data and store it different dataframes.\n",
        "\n",
        "* We are using the **Pandas** library for doing this task.\n",
        "\n",
        "* You can read the **official-documentation** for any additional information: https://pandas.pydata.org/"
      ]
    },
    {
      "cell_type": "code",
      "metadata": {
        "id": "e8gHkwW5nHK1",
        "trusted": true,
        "colab_type": "code",
        "colab": {}
      },
      "source": [
        "\n",
        "url = 'https://raw.githubusercontent.com/CSSEGISandData/COVID-19/master/csse_covid_19_data/csse_covid_19_time_series/time_series_covid19_confirmed_global.csv'\n",
        "confirmed = pd.read_csv(url, error_bad_lines=False)\n",
        "url = 'https://raw.githubusercontent.com/CSSEGISandData/COVID-19/master/csse_covid_19_data/csse_covid_19_time_series/time_series_covid19_deaths_global.csv'\n",
        "death = pd.read_csv(url, error_bad_lines=False)\n",
        "url = 'https://raw.githubusercontent.com/CSSEGISandData/COVID-19/master/csse_covid_19_data/csse_covid_19_time_series/time_series_covid19_recovered_global.csv'\n",
        "recover = pd.read_csv(url, error_bad_lines=False)"
      ],
      "execution_count": 0,
      "outputs": []
    },
    {
      "cell_type": "markdown",
      "metadata": {
        "id": "u0eohn9ZQCnr",
        "colab_type": "text"
      },
      "source": [
        "# Replacing some of the column names."
      ]
    },
    {
      "cell_type": "code",
      "metadata": {
        "id": "v_FOeJqInHUE",
        "trusted": true,
        "colab_type": "code",
        "colab": {}
      },
      "source": [
        "# replacing the region names\n",
        "confirmed['Country/Region']= confirmed['Country/Region'].str.replace(\"Mainland China\", \"China\")\n",
        "confirmed['Country/Region']= confirmed['Country/Region'].str.replace(\"US\", \"Unites States\")\n",
        "death['Country/Region']= death['Country/Region'].str.replace(\"Mainland China\", \"China\")\n",
        "death['Country/Region']= death['Country/Region'].str.replace(\"US\", \"Unites States\")\n",
        "recover['Country/Region']= recover['Country/Region'].str.replace(\"Mainland China\", \"China\")\n",
        "recover['Country/Region']= recover['Country/Region'].str.replace(\"US\", \"Unites States\")"
      ],
      "execution_count": 0,
      "outputs": []
    },
    {
      "cell_type": "markdown",
      "metadata": {
        "id": "wZpifD9vQCn1",
        "colab_type": "text"
      },
      "source": [
        "* In the next step, we are going to merge the population-values of different countries with all the above created dataframes.\n",
        "\n",
        "* The population-values are being taken from this dataset on kaggle: https://www.kaggle.com/fernandol/countries-of-the-world"
      ]
    },
    {
      "cell_type": "code",
      "metadata": {
        "id": "2pbyHeX7nHOb",
        "trusted": true,
        "colab_type": "code",
        "colab": {}
      },
      "source": [
        "population=pd.read_csv('/content/gdrive/My Drive/covid19h/population.csv', sep=',', encoding='latin1') \n",
        "confirmed=pd.merge(confirmed, population,how='left' ,on=['Province/State','Country/Region'])\n",
        "death=pd.merge(death, population,how='left' ,on=['Province/State','Country/Region'])\n",
        "recover=pd.merge(recover, population,how='left' ,on=['Province/State','Country/Region'])"
      ],
      "execution_count": 0,
      "outputs": []
    },
    {
      "cell_type": "markdown",
      "metadata": {
        "id": "o9KdMWgCQCoI",
        "colab_type": "text"
      },
      "source": [
        "* We make sure this is working by looking at the first 5 rows of the dataframe, by calling the pandas.dataframe.head() function.\n",
        "\n",
        "* You can find more information regarding this function here: https://pandas.pydata.org/pandas-docs/stable/reference/api/pandas.DataFrame.head.html"
      ]
    },
    {
      "cell_type": "code",
      "metadata": {
        "trusted": true,
        "id": "ak6240ZuQCoL",
        "colab_type": "code",
        "colab": {
          "base_uri": "https://localhost:8080/",
          "height": 244
        },
        "outputId": "2dfd1f69-a88d-406b-c5cd-95e514544ea7"
      },
      "source": [
        "confirmed.head()"
      ],
      "execution_count": 7,
      "outputs": [
        {
          "output_type": "execute_result",
          "data": {
            "text/html": [
              "<div>\n",
              "<style scoped>\n",
              "    .dataframe tbody tr th:only-of-type {\n",
              "        vertical-align: middle;\n",
              "    }\n",
              "\n",
              "    .dataframe tbody tr th {\n",
              "        vertical-align: top;\n",
              "    }\n",
              "\n",
              "    .dataframe thead th {\n",
              "        text-align: right;\n",
              "    }\n",
              "</style>\n",
              "<table border=\"1\" class=\"dataframe\">\n",
              "  <thead>\n",
              "    <tr style=\"text-align: right;\">\n",
              "      <th></th>\n",
              "      <th>Province/State</th>\n",
              "      <th>Country/Region</th>\n",
              "      <th>Lat</th>\n",
              "      <th>Long</th>\n",
              "      <th>1/22/20</th>\n",
              "      <th>1/23/20</th>\n",
              "      <th>1/24/20</th>\n",
              "      <th>1/25/20</th>\n",
              "      <th>1/26/20</th>\n",
              "      <th>1/27/20</th>\n",
              "      <th>1/28/20</th>\n",
              "      <th>1/29/20</th>\n",
              "      <th>1/30/20</th>\n",
              "      <th>1/31/20</th>\n",
              "      <th>2/1/20</th>\n",
              "      <th>2/2/20</th>\n",
              "      <th>2/3/20</th>\n",
              "      <th>2/4/20</th>\n",
              "      <th>2/5/20</th>\n",
              "      <th>2/6/20</th>\n",
              "      <th>2/7/20</th>\n",
              "      <th>2/8/20</th>\n",
              "      <th>2/9/20</th>\n",
              "      <th>2/10/20</th>\n",
              "      <th>2/11/20</th>\n",
              "      <th>2/12/20</th>\n",
              "      <th>2/13/20</th>\n",
              "      <th>2/14/20</th>\n",
              "      <th>2/15/20</th>\n",
              "      <th>2/16/20</th>\n",
              "      <th>2/17/20</th>\n",
              "      <th>2/18/20</th>\n",
              "      <th>2/19/20</th>\n",
              "      <th>2/20/20</th>\n",
              "      <th>2/21/20</th>\n",
              "      <th>2/22/20</th>\n",
              "      <th>2/23/20</th>\n",
              "      <th>2/24/20</th>\n",
              "      <th>2/25/20</th>\n",
              "      <th>2/26/20</th>\n",
              "      <th>...</th>\n",
              "      <th>3/22/20</th>\n",
              "      <th>3/23/20</th>\n",
              "      <th>3/24/20</th>\n",
              "      <th>3/25/20</th>\n",
              "      <th>3/26/20</th>\n",
              "      <th>3/27/20</th>\n",
              "      <th>3/28/20</th>\n",
              "      <th>3/29/20</th>\n",
              "      <th>3/30/20</th>\n",
              "      <th>3/31/20</th>\n",
              "      <th>4/1/20</th>\n",
              "      <th>4/2/20</th>\n",
              "      <th>4/3/20</th>\n",
              "      <th>4/4/20</th>\n",
              "      <th>4/5/20</th>\n",
              "      <th>4/6/20</th>\n",
              "      <th>4/7/20</th>\n",
              "      <th>4/8/20</th>\n",
              "      <th>4/9/20</th>\n",
              "      <th>4/10/20</th>\n",
              "      <th>4/11/20</th>\n",
              "      <th>4/12/20</th>\n",
              "      <th>4/13/20</th>\n",
              "      <th>4/14/20</th>\n",
              "      <th>4/15/20</th>\n",
              "      <th>4/16/20</th>\n",
              "      <th>4/17/20</th>\n",
              "      <th>4/18/20</th>\n",
              "      <th>4/19/20</th>\n",
              "      <th>4/20/20</th>\n",
              "      <th>4/21/20</th>\n",
              "      <th>4/22/20</th>\n",
              "      <th>4/23/20</th>\n",
              "      <th>4/24/20</th>\n",
              "      <th>4/25/20</th>\n",
              "      <th>4/26/20</th>\n",
              "      <th>4/27/20</th>\n",
              "      <th>4/28/20</th>\n",
              "      <th>4/29/20</th>\n",
              "      <th>Population</th>\n",
              "    </tr>\n",
              "  </thead>\n",
              "  <tbody>\n",
              "    <tr>\n",
              "      <th>0</th>\n",
              "      <td>NaN</td>\n",
              "      <td>Afghanistan</td>\n",
              "      <td>33.0000</td>\n",
              "      <td>65.0000</td>\n",
              "      <td>0</td>\n",
              "      <td>0</td>\n",
              "      <td>0</td>\n",
              "      <td>0</td>\n",
              "      <td>0</td>\n",
              "      <td>0</td>\n",
              "      <td>0</td>\n",
              "      <td>0</td>\n",
              "      <td>0</td>\n",
              "      <td>0</td>\n",
              "      <td>0</td>\n",
              "      <td>0</td>\n",
              "      <td>0</td>\n",
              "      <td>0</td>\n",
              "      <td>0</td>\n",
              "      <td>0</td>\n",
              "      <td>0</td>\n",
              "      <td>0</td>\n",
              "      <td>0</td>\n",
              "      <td>0</td>\n",
              "      <td>0</td>\n",
              "      <td>0</td>\n",
              "      <td>0</td>\n",
              "      <td>0</td>\n",
              "      <td>0</td>\n",
              "      <td>0</td>\n",
              "      <td>0</td>\n",
              "      <td>0</td>\n",
              "      <td>0</td>\n",
              "      <td>0</td>\n",
              "      <td>0</td>\n",
              "      <td>0</td>\n",
              "      <td>0</td>\n",
              "      <td>1</td>\n",
              "      <td>1</td>\n",
              "      <td>1</td>\n",
              "      <td>...</td>\n",
              "      <td>40</td>\n",
              "      <td>40</td>\n",
              "      <td>74</td>\n",
              "      <td>84</td>\n",
              "      <td>94</td>\n",
              "      <td>110</td>\n",
              "      <td>110</td>\n",
              "      <td>120</td>\n",
              "      <td>170</td>\n",
              "      <td>174</td>\n",
              "      <td>237</td>\n",
              "      <td>273</td>\n",
              "      <td>281</td>\n",
              "      <td>299</td>\n",
              "      <td>349</td>\n",
              "      <td>367</td>\n",
              "      <td>423</td>\n",
              "      <td>444</td>\n",
              "      <td>484</td>\n",
              "      <td>521</td>\n",
              "      <td>555</td>\n",
              "      <td>607</td>\n",
              "      <td>665</td>\n",
              "      <td>714</td>\n",
              "      <td>784</td>\n",
              "      <td>840</td>\n",
              "      <td>906</td>\n",
              "      <td>933</td>\n",
              "      <td>996</td>\n",
              "      <td>1026</td>\n",
              "      <td>1092</td>\n",
              "      <td>1176</td>\n",
              "      <td>1279</td>\n",
              "      <td>1351</td>\n",
              "      <td>1463</td>\n",
              "      <td>1531</td>\n",
              "      <td>1703</td>\n",
              "      <td>1828</td>\n",
              "      <td>1939</td>\n",
              "      <td>35,530,000</td>\n",
              "    </tr>\n",
              "    <tr>\n",
              "      <th>1</th>\n",
              "      <td>NaN</td>\n",
              "      <td>Albania</td>\n",
              "      <td>41.1533</td>\n",
              "      <td>20.1683</td>\n",
              "      <td>0</td>\n",
              "      <td>0</td>\n",
              "      <td>0</td>\n",
              "      <td>0</td>\n",
              "      <td>0</td>\n",
              "      <td>0</td>\n",
              "      <td>0</td>\n",
              "      <td>0</td>\n",
              "      <td>0</td>\n",
              "      <td>0</td>\n",
              "      <td>0</td>\n",
              "      <td>0</td>\n",
              "      <td>0</td>\n",
              "      <td>0</td>\n",
              "      <td>0</td>\n",
              "      <td>0</td>\n",
              "      <td>0</td>\n",
              "      <td>0</td>\n",
              "      <td>0</td>\n",
              "      <td>0</td>\n",
              "      <td>0</td>\n",
              "      <td>0</td>\n",
              "      <td>0</td>\n",
              "      <td>0</td>\n",
              "      <td>0</td>\n",
              "      <td>0</td>\n",
              "      <td>0</td>\n",
              "      <td>0</td>\n",
              "      <td>0</td>\n",
              "      <td>0</td>\n",
              "      <td>0</td>\n",
              "      <td>0</td>\n",
              "      <td>0</td>\n",
              "      <td>0</td>\n",
              "      <td>0</td>\n",
              "      <td>0</td>\n",
              "      <td>...</td>\n",
              "      <td>89</td>\n",
              "      <td>104</td>\n",
              "      <td>123</td>\n",
              "      <td>146</td>\n",
              "      <td>174</td>\n",
              "      <td>186</td>\n",
              "      <td>197</td>\n",
              "      <td>212</td>\n",
              "      <td>223</td>\n",
              "      <td>243</td>\n",
              "      <td>259</td>\n",
              "      <td>277</td>\n",
              "      <td>304</td>\n",
              "      <td>333</td>\n",
              "      <td>361</td>\n",
              "      <td>377</td>\n",
              "      <td>383</td>\n",
              "      <td>400</td>\n",
              "      <td>409</td>\n",
              "      <td>416</td>\n",
              "      <td>433</td>\n",
              "      <td>446</td>\n",
              "      <td>467</td>\n",
              "      <td>475</td>\n",
              "      <td>494</td>\n",
              "      <td>518</td>\n",
              "      <td>539</td>\n",
              "      <td>548</td>\n",
              "      <td>562</td>\n",
              "      <td>584</td>\n",
              "      <td>609</td>\n",
              "      <td>634</td>\n",
              "      <td>663</td>\n",
              "      <td>678</td>\n",
              "      <td>712</td>\n",
              "      <td>726</td>\n",
              "      <td>736</td>\n",
              "      <td>750</td>\n",
              "      <td>766</td>\n",
              "      <td>NaN</td>\n",
              "    </tr>\n",
              "    <tr>\n",
              "      <th>2</th>\n",
              "      <td>NaN</td>\n",
              "      <td>Algeria</td>\n",
              "      <td>28.0339</td>\n",
              "      <td>1.6596</td>\n",
              "      <td>0</td>\n",
              "      <td>0</td>\n",
              "      <td>0</td>\n",
              "      <td>0</td>\n",
              "      <td>0</td>\n",
              "      <td>0</td>\n",
              "      <td>0</td>\n",
              "      <td>0</td>\n",
              "      <td>0</td>\n",
              "      <td>0</td>\n",
              "      <td>0</td>\n",
              "      <td>0</td>\n",
              "      <td>0</td>\n",
              "      <td>0</td>\n",
              "      <td>0</td>\n",
              "      <td>0</td>\n",
              "      <td>0</td>\n",
              "      <td>0</td>\n",
              "      <td>0</td>\n",
              "      <td>0</td>\n",
              "      <td>0</td>\n",
              "      <td>0</td>\n",
              "      <td>0</td>\n",
              "      <td>0</td>\n",
              "      <td>0</td>\n",
              "      <td>0</td>\n",
              "      <td>0</td>\n",
              "      <td>0</td>\n",
              "      <td>0</td>\n",
              "      <td>0</td>\n",
              "      <td>0</td>\n",
              "      <td>0</td>\n",
              "      <td>0</td>\n",
              "      <td>0</td>\n",
              "      <td>1</td>\n",
              "      <td>1</td>\n",
              "      <td>...</td>\n",
              "      <td>201</td>\n",
              "      <td>230</td>\n",
              "      <td>264</td>\n",
              "      <td>302</td>\n",
              "      <td>367</td>\n",
              "      <td>409</td>\n",
              "      <td>454</td>\n",
              "      <td>511</td>\n",
              "      <td>584</td>\n",
              "      <td>716</td>\n",
              "      <td>847</td>\n",
              "      <td>986</td>\n",
              "      <td>1171</td>\n",
              "      <td>1251</td>\n",
              "      <td>1320</td>\n",
              "      <td>1423</td>\n",
              "      <td>1468</td>\n",
              "      <td>1572</td>\n",
              "      <td>1666</td>\n",
              "      <td>1761</td>\n",
              "      <td>1825</td>\n",
              "      <td>1914</td>\n",
              "      <td>1983</td>\n",
              "      <td>2070</td>\n",
              "      <td>2160</td>\n",
              "      <td>2268</td>\n",
              "      <td>2418</td>\n",
              "      <td>2534</td>\n",
              "      <td>2629</td>\n",
              "      <td>2718</td>\n",
              "      <td>2811</td>\n",
              "      <td>2910</td>\n",
              "      <td>3007</td>\n",
              "      <td>3127</td>\n",
              "      <td>3256</td>\n",
              "      <td>3382</td>\n",
              "      <td>3517</td>\n",
              "      <td>3649</td>\n",
              "      <td>3848</td>\n",
              "      <td>41,320,000</td>\n",
              "    </tr>\n",
              "    <tr>\n",
              "      <th>3</th>\n",
              "      <td>NaN</td>\n",
              "      <td>Andorra</td>\n",
              "      <td>42.5063</td>\n",
              "      <td>1.5218</td>\n",
              "      <td>0</td>\n",
              "      <td>0</td>\n",
              "      <td>0</td>\n",
              "      <td>0</td>\n",
              "      <td>0</td>\n",
              "      <td>0</td>\n",
              "      <td>0</td>\n",
              "      <td>0</td>\n",
              "      <td>0</td>\n",
              "      <td>0</td>\n",
              "      <td>0</td>\n",
              "      <td>0</td>\n",
              "      <td>0</td>\n",
              "      <td>0</td>\n",
              "      <td>0</td>\n",
              "      <td>0</td>\n",
              "      <td>0</td>\n",
              "      <td>0</td>\n",
              "      <td>0</td>\n",
              "      <td>0</td>\n",
              "      <td>0</td>\n",
              "      <td>0</td>\n",
              "      <td>0</td>\n",
              "      <td>0</td>\n",
              "      <td>0</td>\n",
              "      <td>0</td>\n",
              "      <td>0</td>\n",
              "      <td>0</td>\n",
              "      <td>0</td>\n",
              "      <td>0</td>\n",
              "      <td>0</td>\n",
              "      <td>0</td>\n",
              "      <td>0</td>\n",
              "      <td>0</td>\n",
              "      <td>0</td>\n",
              "      <td>0</td>\n",
              "      <td>...</td>\n",
              "      <td>113</td>\n",
              "      <td>133</td>\n",
              "      <td>164</td>\n",
              "      <td>188</td>\n",
              "      <td>224</td>\n",
              "      <td>267</td>\n",
              "      <td>308</td>\n",
              "      <td>334</td>\n",
              "      <td>370</td>\n",
              "      <td>376</td>\n",
              "      <td>390</td>\n",
              "      <td>428</td>\n",
              "      <td>439</td>\n",
              "      <td>466</td>\n",
              "      <td>501</td>\n",
              "      <td>525</td>\n",
              "      <td>545</td>\n",
              "      <td>564</td>\n",
              "      <td>583</td>\n",
              "      <td>601</td>\n",
              "      <td>601</td>\n",
              "      <td>638</td>\n",
              "      <td>646</td>\n",
              "      <td>659</td>\n",
              "      <td>673</td>\n",
              "      <td>673</td>\n",
              "      <td>696</td>\n",
              "      <td>704</td>\n",
              "      <td>713</td>\n",
              "      <td>717</td>\n",
              "      <td>717</td>\n",
              "      <td>723</td>\n",
              "      <td>723</td>\n",
              "      <td>731</td>\n",
              "      <td>738</td>\n",
              "      <td>738</td>\n",
              "      <td>743</td>\n",
              "      <td>743</td>\n",
              "      <td>743</td>\n",
              "      <td>NaN</td>\n",
              "    </tr>\n",
              "    <tr>\n",
              "      <th>4</th>\n",
              "      <td>NaN</td>\n",
              "      <td>Angola</td>\n",
              "      <td>-11.2027</td>\n",
              "      <td>17.8739</td>\n",
              "      <td>0</td>\n",
              "      <td>0</td>\n",
              "      <td>0</td>\n",
              "      <td>0</td>\n",
              "      <td>0</td>\n",
              "      <td>0</td>\n",
              "      <td>0</td>\n",
              "      <td>0</td>\n",
              "      <td>0</td>\n",
              "      <td>0</td>\n",
              "      <td>0</td>\n",
              "      <td>0</td>\n",
              "      <td>0</td>\n",
              "      <td>0</td>\n",
              "      <td>0</td>\n",
              "      <td>0</td>\n",
              "      <td>0</td>\n",
              "      <td>0</td>\n",
              "      <td>0</td>\n",
              "      <td>0</td>\n",
              "      <td>0</td>\n",
              "      <td>0</td>\n",
              "      <td>0</td>\n",
              "      <td>0</td>\n",
              "      <td>0</td>\n",
              "      <td>0</td>\n",
              "      <td>0</td>\n",
              "      <td>0</td>\n",
              "      <td>0</td>\n",
              "      <td>0</td>\n",
              "      <td>0</td>\n",
              "      <td>0</td>\n",
              "      <td>0</td>\n",
              "      <td>0</td>\n",
              "      <td>0</td>\n",
              "      <td>0</td>\n",
              "      <td>...</td>\n",
              "      <td>2</td>\n",
              "      <td>3</td>\n",
              "      <td>3</td>\n",
              "      <td>3</td>\n",
              "      <td>4</td>\n",
              "      <td>4</td>\n",
              "      <td>5</td>\n",
              "      <td>7</td>\n",
              "      <td>7</td>\n",
              "      <td>7</td>\n",
              "      <td>8</td>\n",
              "      <td>8</td>\n",
              "      <td>8</td>\n",
              "      <td>10</td>\n",
              "      <td>14</td>\n",
              "      <td>16</td>\n",
              "      <td>17</td>\n",
              "      <td>19</td>\n",
              "      <td>19</td>\n",
              "      <td>19</td>\n",
              "      <td>19</td>\n",
              "      <td>19</td>\n",
              "      <td>19</td>\n",
              "      <td>19</td>\n",
              "      <td>19</td>\n",
              "      <td>19</td>\n",
              "      <td>19</td>\n",
              "      <td>24</td>\n",
              "      <td>24</td>\n",
              "      <td>24</td>\n",
              "      <td>24</td>\n",
              "      <td>25</td>\n",
              "      <td>25</td>\n",
              "      <td>25</td>\n",
              "      <td>25</td>\n",
              "      <td>26</td>\n",
              "      <td>27</td>\n",
              "      <td>27</td>\n",
              "      <td>27</td>\n",
              "      <td>NaN</td>\n",
              "    </tr>\n",
              "  </tbody>\n",
              "</table>\n",
              "<p>5 rows × 104 columns</p>\n",
              "</div>"
            ],
            "text/plain": [
              "  Province/State Country/Region      Lat  ...  4/28/20  4/29/20   Population \n",
              "0            NaN    Afghanistan  33.0000  ...     1828     1939    35,530,000\n",
              "1            NaN        Albania  41.1533  ...      750      766           NaN\n",
              "2            NaN        Algeria  28.0339  ...     3649     3848    41,320,000\n",
              "3            NaN        Andorra  42.5063  ...      743      743           NaN\n",
              "4            NaN         Angola -11.2027  ...       27       27           NaN\n",
              "\n",
              "[5 rows x 104 columns]"
            ]
          },
          "metadata": {
            "tags": []
          },
          "execution_count": 7
        }
      ]
    },
    {
      "cell_type": "code",
      "metadata": {
        "id": "u2oMrBHsoI3a",
        "outputId": "d76c5de4-97ce-4fbf-f5ec-2ca4fa1d0325",
        "trusted": true,
        "colab_type": "code",
        "colab": {
          "base_uri": "https://localhost:8080/",
          "height": 261
        }
      },
      "source": [
        "#now we merge the regions\n",
        "confirmed['region']=confirmed['Country/Region'].map(str)+'_'+confirmed['Province/State'].map(str)\n",
        "death['region']=death['Country/Region'].map(str)+'_'+death['Province/State'].map(str)\n",
        "recover['region']=recover['Country/Region'].map(str)+'_'+recover['Province/State'].map(str)\n",
        "confirmed=confirmed[confirmed.iloc[:,confirmed.shape[1]-3]>1000]# regions having more than 1000 active cases till date.\n",
        "confirmed.iloc[:5,:]"
      ],
      "execution_count": 8,
      "outputs": [
        {
          "output_type": "execute_result",
          "data": {
            "text/html": [
              "<div>\n",
              "<style scoped>\n",
              "    .dataframe tbody tr th:only-of-type {\n",
              "        vertical-align: middle;\n",
              "    }\n",
              "\n",
              "    .dataframe tbody tr th {\n",
              "        vertical-align: top;\n",
              "    }\n",
              "\n",
              "    .dataframe thead th {\n",
              "        text-align: right;\n",
              "    }\n",
              "</style>\n",
              "<table border=\"1\" class=\"dataframe\">\n",
              "  <thead>\n",
              "    <tr style=\"text-align: right;\">\n",
              "      <th></th>\n",
              "      <th>Province/State</th>\n",
              "      <th>Country/Region</th>\n",
              "      <th>Lat</th>\n",
              "      <th>Long</th>\n",
              "      <th>1/22/20</th>\n",
              "      <th>1/23/20</th>\n",
              "      <th>1/24/20</th>\n",
              "      <th>1/25/20</th>\n",
              "      <th>1/26/20</th>\n",
              "      <th>1/27/20</th>\n",
              "      <th>1/28/20</th>\n",
              "      <th>1/29/20</th>\n",
              "      <th>1/30/20</th>\n",
              "      <th>1/31/20</th>\n",
              "      <th>2/1/20</th>\n",
              "      <th>2/2/20</th>\n",
              "      <th>2/3/20</th>\n",
              "      <th>2/4/20</th>\n",
              "      <th>2/5/20</th>\n",
              "      <th>2/6/20</th>\n",
              "      <th>2/7/20</th>\n",
              "      <th>2/8/20</th>\n",
              "      <th>2/9/20</th>\n",
              "      <th>2/10/20</th>\n",
              "      <th>2/11/20</th>\n",
              "      <th>2/12/20</th>\n",
              "      <th>2/13/20</th>\n",
              "      <th>2/14/20</th>\n",
              "      <th>2/15/20</th>\n",
              "      <th>2/16/20</th>\n",
              "      <th>2/17/20</th>\n",
              "      <th>2/18/20</th>\n",
              "      <th>2/19/20</th>\n",
              "      <th>2/20/20</th>\n",
              "      <th>2/21/20</th>\n",
              "      <th>2/22/20</th>\n",
              "      <th>2/23/20</th>\n",
              "      <th>2/24/20</th>\n",
              "      <th>2/25/20</th>\n",
              "      <th>2/26/20</th>\n",
              "      <th>...</th>\n",
              "      <th>3/23/20</th>\n",
              "      <th>3/24/20</th>\n",
              "      <th>3/25/20</th>\n",
              "      <th>3/26/20</th>\n",
              "      <th>3/27/20</th>\n",
              "      <th>3/28/20</th>\n",
              "      <th>3/29/20</th>\n",
              "      <th>3/30/20</th>\n",
              "      <th>3/31/20</th>\n",
              "      <th>4/1/20</th>\n",
              "      <th>4/2/20</th>\n",
              "      <th>4/3/20</th>\n",
              "      <th>4/4/20</th>\n",
              "      <th>4/5/20</th>\n",
              "      <th>4/6/20</th>\n",
              "      <th>4/7/20</th>\n",
              "      <th>4/8/20</th>\n",
              "      <th>4/9/20</th>\n",
              "      <th>4/10/20</th>\n",
              "      <th>4/11/20</th>\n",
              "      <th>4/12/20</th>\n",
              "      <th>4/13/20</th>\n",
              "      <th>4/14/20</th>\n",
              "      <th>4/15/20</th>\n",
              "      <th>4/16/20</th>\n",
              "      <th>4/17/20</th>\n",
              "      <th>4/18/20</th>\n",
              "      <th>4/19/20</th>\n",
              "      <th>4/20/20</th>\n",
              "      <th>4/21/20</th>\n",
              "      <th>4/22/20</th>\n",
              "      <th>4/23/20</th>\n",
              "      <th>4/24/20</th>\n",
              "      <th>4/25/20</th>\n",
              "      <th>4/26/20</th>\n",
              "      <th>4/27/20</th>\n",
              "      <th>4/28/20</th>\n",
              "      <th>4/29/20</th>\n",
              "      <th>Population</th>\n",
              "      <th>region</th>\n",
              "    </tr>\n",
              "  </thead>\n",
              "  <tbody>\n",
              "    <tr>\n",
              "      <th>0</th>\n",
              "      <td>NaN</td>\n",
              "      <td>Afghanistan</td>\n",
              "      <td>33.0000</td>\n",
              "      <td>65.0000</td>\n",
              "      <td>0</td>\n",
              "      <td>0</td>\n",
              "      <td>0</td>\n",
              "      <td>0</td>\n",
              "      <td>0</td>\n",
              "      <td>0</td>\n",
              "      <td>0</td>\n",
              "      <td>0</td>\n",
              "      <td>0</td>\n",
              "      <td>0</td>\n",
              "      <td>0</td>\n",
              "      <td>0</td>\n",
              "      <td>0</td>\n",
              "      <td>0</td>\n",
              "      <td>0</td>\n",
              "      <td>0</td>\n",
              "      <td>0</td>\n",
              "      <td>0</td>\n",
              "      <td>0</td>\n",
              "      <td>0</td>\n",
              "      <td>0</td>\n",
              "      <td>0</td>\n",
              "      <td>0</td>\n",
              "      <td>0</td>\n",
              "      <td>0</td>\n",
              "      <td>0</td>\n",
              "      <td>0</td>\n",
              "      <td>0</td>\n",
              "      <td>0</td>\n",
              "      <td>0</td>\n",
              "      <td>0</td>\n",
              "      <td>0</td>\n",
              "      <td>0</td>\n",
              "      <td>1</td>\n",
              "      <td>1</td>\n",
              "      <td>1</td>\n",
              "      <td>...</td>\n",
              "      <td>40</td>\n",
              "      <td>74</td>\n",
              "      <td>84</td>\n",
              "      <td>94</td>\n",
              "      <td>110</td>\n",
              "      <td>110</td>\n",
              "      <td>120</td>\n",
              "      <td>170</td>\n",
              "      <td>174</td>\n",
              "      <td>237</td>\n",
              "      <td>273</td>\n",
              "      <td>281</td>\n",
              "      <td>299</td>\n",
              "      <td>349</td>\n",
              "      <td>367</td>\n",
              "      <td>423</td>\n",
              "      <td>444</td>\n",
              "      <td>484</td>\n",
              "      <td>521</td>\n",
              "      <td>555</td>\n",
              "      <td>607</td>\n",
              "      <td>665</td>\n",
              "      <td>714</td>\n",
              "      <td>784</td>\n",
              "      <td>840</td>\n",
              "      <td>906</td>\n",
              "      <td>933</td>\n",
              "      <td>996</td>\n",
              "      <td>1026</td>\n",
              "      <td>1092</td>\n",
              "      <td>1176</td>\n",
              "      <td>1279</td>\n",
              "      <td>1351</td>\n",
              "      <td>1463</td>\n",
              "      <td>1531</td>\n",
              "      <td>1703</td>\n",
              "      <td>1828</td>\n",
              "      <td>1939</td>\n",
              "      <td>35,530,000</td>\n",
              "      <td>Afghanistan_nan</td>\n",
              "    </tr>\n",
              "    <tr>\n",
              "      <th>2</th>\n",
              "      <td>NaN</td>\n",
              "      <td>Algeria</td>\n",
              "      <td>28.0339</td>\n",
              "      <td>1.6596</td>\n",
              "      <td>0</td>\n",
              "      <td>0</td>\n",
              "      <td>0</td>\n",
              "      <td>0</td>\n",
              "      <td>0</td>\n",
              "      <td>0</td>\n",
              "      <td>0</td>\n",
              "      <td>0</td>\n",
              "      <td>0</td>\n",
              "      <td>0</td>\n",
              "      <td>0</td>\n",
              "      <td>0</td>\n",
              "      <td>0</td>\n",
              "      <td>0</td>\n",
              "      <td>0</td>\n",
              "      <td>0</td>\n",
              "      <td>0</td>\n",
              "      <td>0</td>\n",
              "      <td>0</td>\n",
              "      <td>0</td>\n",
              "      <td>0</td>\n",
              "      <td>0</td>\n",
              "      <td>0</td>\n",
              "      <td>0</td>\n",
              "      <td>0</td>\n",
              "      <td>0</td>\n",
              "      <td>0</td>\n",
              "      <td>0</td>\n",
              "      <td>0</td>\n",
              "      <td>0</td>\n",
              "      <td>0</td>\n",
              "      <td>0</td>\n",
              "      <td>0</td>\n",
              "      <td>0</td>\n",
              "      <td>1</td>\n",
              "      <td>1</td>\n",
              "      <td>...</td>\n",
              "      <td>230</td>\n",
              "      <td>264</td>\n",
              "      <td>302</td>\n",
              "      <td>367</td>\n",
              "      <td>409</td>\n",
              "      <td>454</td>\n",
              "      <td>511</td>\n",
              "      <td>584</td>\n",
              "      <td>716</td>\n",
              "      <td>847</td>\n",
              "      <td>986</td>\n",
              "      <td>1171</td>\n",
              "      <td>1251</td>\n",
              "      <td>1320</td>\n",
              "      <td>1423</td>\n",
              "      <td>1468</td>\n",
              "      <td>1572</td>\n",
              "      <td>1666</td>\n",
              "      <td>1761</td>\n",
              "      <td>1825</td>\n",
              "      <td>1914</td>\n",
              "      <td>1983</td>\n",
              "      <td>2070</td>\n",
              "      <td>2160</td>\n",
              "      <td>2268</td>\n",
              "      <td>2418</td>\n",
              "      <td>2534</td>\n",
              "      <td>2629</td>\n",
              "      <td>2718</td>\n",
              "      <td>2811</td>\n",
              "      <td>2910</td>\n",
              "      <td>3007</td>\n",
              "      <td>3127</td>\n",
              "      <td>3256</td>\n",
              "      <td>3382</td>\n",
              "      <td>3517</td>\n",
              "      <td>3649</td>\n",
              "      <td>3848</td>\n",
              "      <td>41,320,000</td>\n",
              "      <td>Algeria_nan</td>\n",
              "    </tr>\n",
              "    <tr>\n",
              "      <th>6</th>\n",
              "      <td>NaN</td>\n",
              "      <td>Argentina</td>\n",
              "      <td>-38.4161</td>\n",
              "      <td>-63.6167</td>\n",
              "      <td>0</td>\n",
              "      <td>0</td>\n",
              "      <td>0</td>\n",
              "      <td>0</td>\n",
              "      <td>0</td>\n",
              "      <td>0</td>\n",
              "      <td>0</td>\n",
              "      <td>0</td>\n",
              "      <td>0</td>\n",
              "      <td>0</td>\n",
              "      <td>0</td>\n",
              "      <td>0</td>\n",
              "      <td>0</td>\n",
              "      <td>0</td>\n",
              "      <td>0</td>\n",
              "      <td>0</td>\n",
              "      <td>0</td>\n",
              "      <td>0</td>\n",
              "      <td>0</td>\n",
              "      <td>0</td>\n",
              "      <td>0</td>\n",
              "      <td>0</td>\n",
              "      <td>0</td>\n",
              "      <td>0</td>\n",
              "      <td>0</td>\n",
              "      <td>0</td>\n",
              "      <td>0</td>\n",
              "      <td>0</td>\n",
              "      <td>0</td>\n",
              "      <td>0</td>\n",
              "      <td>0</td>\n",
              "      <td>0</td>\n",
              "      <td>0</td>\n",
              "      <td>0</td>\n",
              "      <td>0</td>\n",
              "      <td>0</td>\n",
              "      <td>...</td>\n",
              "      <td>301</td>\n",
              "      <td>387</td>\n",
              "      <td>387</td>\n",
              "      <td>502</td>\n",
              "      <td>589</td>\n",
              "      <td>690</td>\n",
              "      <td>745</td>\n",
              "      <td>820</td>\n",
              "      <td>1054</td>\n",
              "      <td>1054</td>\n",
              "      <td>1133</td>\n",
              "      <td>1265</td>\n",
              "      <td>1451</td>\n",
              "      <td>1451</td>\n",
              "      <td>1554</td>\n",
              "      <td>1628</td>\n",
              "      <td>1715</td>\n",
              "      <td>1795</td>\n",
              "      <td>1975</td>\n",
              "      <td>1975</td>\n",
              "      <td>2142</td>\n",
              "      <td>2208</td>\n",
              "      <td>2277</td>\n",
              "      <td>2443</td>\n",
              "      <td>2571</td>\n",
              "      <td>2669</td>\n",
              "      <td>2758</td>\n",
              "      <td>2839</td>\n",
              "      <td>2941</td>\n",
              "      <td>3031</td>\n",
              "      <td>3144</td>\n",
              "      <td>3435</td>\n",
              "      <td>3607</td>\n",
              "      <td>3780</td>\n",
              "      <td>3892</td>\n",
              "      <td>4003</td>\n",
              "      <td>4127</td>\n",
              "      <td>4285</td>\n",
              "      <td>NaN</td>\n",
              "      <td>Argentina_nan</td>\n",
              "    </tr>\n",
              "    <tr>\n",
              "      <th>7</th>\n",
              "      <td>NaN</td>\n",
              "      <td>Armenia</td>\n",
              "      <td>40.0691</td>\n",
              "      <td>45.0382</td>\n",
              "      <td>0</td>\n",
              "      <td>0</td>\n",
              "      <td>0</td>\n",
              "      <td>0</td>\n",
              "      <td>0</td>\n",
              "      <td>0</td>\n",
              "      <td>0</td>\n",
              "      <td>0</td>\n",
              "      <td>0</td>\n",
              "      <td>0</td>\n",
              "      <td>0</td>\n",
              "      <td>0</td>\n",
              "      <td>0</td>\n",
              "      <td>0</td>\n",
              "      <td>0</td>\n",
              "      <td>0</td>\n",
              "      <td>0</td>\n",
              "      <td>0</td>\n",
              "      <td>0</td>\n",
              "      <td>0</td>\n",
              "      <td>0</td>\n",
              "      <td>0</td>\n",
              "      <td>0</td>\n",
              "      <td>0</td>\n",
              "      <td>0</td>\n",
              "      <td>0</td>\n",
              "      <td>0</td>\n",
              "      <td>0</td>\n",
              "      <td>0</td>\n",
              "      <td>0</td>\n",
              "      <td>0</td>\n",
              "      <td>0</td>\n",
              "      <td>0</td>\n",
              "      <td>0</td>\n",
              "      <td>0</td>\n",
              "      <td>0</td>\n",
              "      <td>...</td>\n",
              "      <td>235</td>\n",
              "      <td>249</td>\n",
              "      <td>265</td>\n",
              "      <td>290</td>\n",
              "      <td>329</td>\n",
              "      <td>407</td>\n",
              "      <td>424</td>\n",
              "      <td>482</td>\n",
              "      <td>532</td>\n",
              "      <td>571</td>\n",
              "      <td>663</td>\n",
              "      <td>736</td>\n",
              "      <td>770</td>\n",
              "      <td>822</td>\n",
              "      <td>833</td>\n",
              "      <td>853</td>\n",
              "      <td>881</td>\n",
              "      <td>921</td>\n",
              "      <td>937</td>\n",
              "      <td>967</td>\n",
              "      <td>1013</td>\n",
              "      <td>1039</td>\n",
              "      <td>1067</td>\n",
              "      <td>1111</td>\n",
              "      <td>1159</td>\n",
              "      <td>1201</td>\n",
              "      <td>1248</td>\n",
              "      <td>1291</td>\n",
              "      <td>1339</td>\n",
              "      <td>1401</td>\n",
              "      <td>1473</td>\n",
              "      <td>1523</td>\n",
              "      <td>1596</td>\n",
              "      <td>1677</td>\n",
              "      <td>1746</td>\n",
              "      <td>1808</td>\n",
              "      <td>1867</td>\n",
              "      <td>1932</td>\n",
              "      <td>NaN</td>\n",
              "      <td>Armenia_nan</td>\n",
              "    </tr>\n",
              "    <tr>\n",
              "      <th>9</th>\n",
              "      <td>New South Wales</td>\n",
              "      <td>Australia</td>\n",
              "      <td>-33.8688</td>\n",
              "      <td>151.2093</td>\n",
              "      <td>0</td>\n",
              "      <td>0</td>\n",
              "      <td>0</td>\n",
              "      <td>0</td>\n",
              "      <td>3</td>\n",
              "      <td>4</td>\n",
              "      <td>4</td>\n",
              "      <td>4</td>\n",
              "      <td>4</td>\n",
              "      <td>4</td>\n",
              "      <td>4</td>\n",
              "      <td>4</td>\n",
              "      <td>4</td>\n",
              "      <td>4</td>\n",
              "      <td>4</td>\n",
              "      <td>4</td>\n",
              "      <td>4</td>\n",
              "      <td>4</td>\n",
              "      <td>4</td>\n",
              "      <td>4</td>\n",
              "      <td>4</td>\n",
              "      <td>4</td>\n",
              "      <td>4</td>\n",
              "      <td>4</td>\n",
              "      <td>4</td>\n",
              "      <td>4</td>\n",
              "      <td>4</td>\n",
              "      <td>4</td>\n",
              "      <td>4</td>\n",
              "      <td>4</td>\n",
              "      <td>4</td>\n",
              "      <td>4</td>\n",
              "      <td>4</td>\n",
              "      <td>4</td>\n",
              "      <td>4</td>\n",
              "      <td>4</td>\n",
              "      <td>...</td>\n",
              "      <td>669</td>\n",
              "      <td>818</td>\n",
              "      <td>1029</td>\n",
              "      <td>1219</td>\n",
              "      <td>1405</td>\n",
              "      <td>1617</td>\n",
              "      <td>1791</td>\n",
              "      <td>2032</td>\n",
              "      <td>2032</td>\n",
              "      <td>2182</td>\n",
              "      <td>2298</td>\n",
              "      <td>2389</td>\n",
              "      <td>2493</td>\n",
              "      <td>2580</td>\n",
              "      <td>2637</td>\n",
              "      <td>2686</td>\n",
              "      <td>2734</td>\n",
              "      <td>2773</td>\n",
              "      <td>2822</td>\n",
              "      <td>2857</td>\n",
              "      <td>2857</td>\n",
              "      <td>2863</td>\n",
              "      <td>2870</td>\n",
              "      <td>2886</td>\n",
              "      <td>2897</td>\n",
              "      <td>2926</td>\n",
              "      <td>2936</td>\n",
              "      <td>2957</td>\n",
              "      <td>2963</td>\n",
              "      <td>2969</td>\n",
              "      <td>2971</td>\n",
              "      <td>2976</td>\n",
              "      <td>2982</td>\n",
              "      <td>2994</td>\n",
              "      <td>3002</td>\n",
              "      <td>3004</td>\n",
              "      <td>3016</td>\n",
              "      <td>3016</td>\n",
              "      <td>7,544,000</td>\n",
              "      <td>Australia_New South Wales</td>\n",
              "    </tr>\n",
              "  </tbody>\n",
              "</table>\n",
              "<p>5 rows × 105 columns</p>\n",
              "</div>"
            ],
            "text/plain": [
              "    Province/State Country/Region  ...   Population                      region\n",
              "0              NaN    Afghanistan  ...    35,530,000            Afghanistan_nan\n",
              "2              NaN        Algeria  ...    41,320,000                Algeria_nan\n",
              "6              NaN      Argentina  ...           NaN              Argentina_nan\n",
              "7              NaN        Armenia  ...           NaN                Armenia_nan\n",
              "9  New South Wales      Australia  ...     7,544,000  Australia_New South Wales\n",
              "\n",
              "[5 rows x 105 columns]"
            ]
          },
          "metadata": {
            "tags": []
          },
          "execution_count": 8
        }
      ]
    },
    {
      "cell_type": "markdown",
      "metadata": {
        "id": "9mpYHCovQCoZ",
        "colab_type": "text"
      },
      "source": [
        "* Now we extract the data in the form of time-series with the help the below displayed- create_ab function which accepts the dataframe as its parameter and returns a dataframe.\n",
        "\n",
        "* Along with it we drop certain columns such as Lat(i.e the latitude), as we dont have any use of them at this step."
      ]
    },
    {
      "cell_type": "code",
      "metadata": {
        "id": "ndpHxVEroM_1",
        "trusted": true,
        "colab_type": "code",
        "colab": {}
      },
      "source": [
        "#a function to just extract the time series information excluding other columns.\n",
        "def create_ab(df):\n",
        "  ab=df\n",
        "  ab=ab.drop(['Province/State', 'Country/Region','Lat', 'Long',' Population '], axis=1)\n",
        "  ab.set_index('region')\n",
        "  ab=ab.T\n",
        "  ab.columns=ab.loc['region']\n",
        "  ab=ab.drop('region')\n",
        "  ab=ab.fillna(0)\n",
        "  ab=ab.reindex(sorted(ab.columns), axis=1)\n",
        "  return (ab)"
      ],
      "execution_count": 0,
      "outputs": []
    },
    {
      "cell_type": "code",
      "metadata": {
        "id": "ucRFO8xYoOmV",
        "trusted": true,
        "colab_type": "code",
        "colab": {}
      },
      "source": [
        "#creating time series data of confirmed, deaths, recovered cases.\n",
        "ts=create_ab(confirmed)\n",
        "ts_d=create_ab(death)\n",
        "ts_rec=create_ab(recover)"
      ],
      "execution_count": 0,
      "outputs": []
    },
    {
      "cell_type": "markdown",
      "metadata": {
        "id": "60roOn_2QCop",
        "colab_type": "text"
      },
      "source": [
        "* Again we use the pd.DataFrame.head() to take a peek!"
      ]
    },
    {
      "cell_type": "code",
      "metadata": {
        "id": "hfQC5YXmw51m",
        "outputId": "87f06b1b-85fa-45cf-f1a0-f8c5fe7cc7ec",
        "trusted": true,
        "colab_type": "code",
        "colab": {
          "base_uri": "https://localhost:8080/",
          "height": 261
        }
      },
      "source": [
        "ts.head()"
      ],
      "execution_count": 11,
      "outputs": [
        {
          "output_type": "execute_result",
          "data": {
            "text/html": [
              "<div>\n",
              "<style scoped>\n",
              "    .dataframe tbody tr th:only-of-type {\n",
              "        vertical-align: middle;\n",
              "    }\n",
              "\n",
              "    .dataframe tbody tr th {\n",
              "        vertical-align: top;\n",
              "    }\n",
              "\n",
              "    .dataframe thead th {\n",
              "        text-align: right;\n",
              "    }\n",
              "</style>\n",
              "<table border=\"1\" class=\"dataframe\">\n",
              "  <thead>\n",
              "    <tr style=\"text-align: right;\">\n",
              "      <th>region</th>\n",
              "      <th>Afghanistan_nan</th>\n",
              "      <th>Algeria_nan</th>\n",
              "      <th>Argentina_nan</th>\n",
              "      <th>Armenia_nan</th>\n",
              "      <th>Australia_New South Wales</th>\n",
              "      <th>Australia_Queensland</th>\n",
              "      <th>Australia_Victoria</th>\n",
              "      <th>Austria_nan</th>\n",
              "      <th>Azerbaijan_nan</th>\n",
              "      <th>Bahrain_nan</th>\n",
              "      <th>Bangladesh_nan</th>\n",
              "      <th>Belarus_nan</th>\n",
              "      <th>Belgium_nan</th>\n",
              "      <th>Bolivia_nan</th>\n",
              "      <th>Bosnia and Herzegovina_nan</th>\n",
              "      <th>Brazil_nan</th>\n",
              "      <th>Bulgaria_nan</th>\n",
              "      <th>Cameroon_nan</th>\n",
              "      <th>Canada_Alberta</th>\n",
              "      <th>Canada_British Columbia</th>\n",
              "      <th>Canada_Ontario</th>\n",
              "      <th>Canada_Quebec</th>\n",
              "      <th>Chile_nan</th>\n",
              "      <th>China_Guangdong</th>\n",
              "      <th>China_Henan</th>\n",
              "      <th>China_Hong Kong</th>\n",
              "      <th>China_Hubei</th>\n",
              "      <th>China_Hunan</th>\n",
              "      <th>China_Zhejiang</th>\n",
              "      <th>Colombia_nan</th>\n",
              "      <th>Cote d'Ivoire_nan</th>\n",
              "      <th>Croatia_nan</th>\n",
              "      <th>Cuba_nan</th>\n",
              "      <th>Czechia_nan</th>\n",
              "      <th>Denmark_nan</th>\n",
              "      <th>Djibouti_nan</th>\n",
              "      <th>Dominican Republic_nan</th>\n",
              "      <th>Ecuador_nan</th>\n",
              "      <th>Egypt_nan</th>\n",
              "      <th>Estonia_nan</th>\n",
              "      <th>...</th>\n",
              "      <th>Kazakhstan_nan</th>\n",
              "      <th>Korea, South_nan</th>\n",
              "      <th>Kuwait_nan</th>\n",
              "      <th>Lithuania_nan</th>\n",
              "      <th>Luxembourg_nan</th>\n",
              "      <th>Malaysia_nan</th>\n",
              "      <th>Mexico_nan</th>\n",
              "      <th>Moldova_nan</th>\n",
              "      <th>Morocco_nan</th>\n",
              "      <th>Netherlands_nan</th>\n",
              "      <th>New Zealand_nan</th>\n",
              "      <th>Nigeria_nan</th>\n",
              "      <th>North Macedonia_nan</th>\n",
              "      <th>Norway_nan</th>\n",
              "      <th>Oman_nan</th>\n",
              "      <th>Pakistan_nan</th>\n",
              "      <th>Panama_nan</th>\n",
              "      <th>Peru_nan</th>\n",
              "      <th>Philippines_nan</th>\n",
              "      <th>Poland_nan</th>\n",
              "      <th>Portugal_nan</th>\n",
              "      <th>Qatar_nan</th>\n",
              "      <th>Romania_nan</th>\n",
              "      <th>Russia_nan</th>\n",
              "      <th>Saudi Arabia_nan</th>\n",
              "      <th>Serbia_nan</th>\n",
              "      <th>Singapore_nan</th>\n",
              "      <th>Slovakia_nan</th>\n",
              "      <th>Slovenia_nan</th>\n",
              "      <th>South Africa_nan</th>\n",
              "      <th>Spain_nan</th>\n",
              "      <th>Sweden_nan</th>\n",
              "      <th>Switzerland_nan</th>\n",
              "      <th>Thailand_nan</th>\n",
              "      <th>Turkey_nan</th>\n",
              "      <th>Ukraine_nan</th>\n",
              "      <th>United Arab Emirates_nan</th>\n",
              "      <th>United Kingdom_nan</th>\n",
              "      <th>Unites States_nan</th>\n",
              "      <th>Uzbekistan_nan</th>\n",
              "    </tr>\n",
              "  </thead>\n",
              "  <tbody>\n",
              "    <tr>\n",
              "      <th>1/22/20</th>\n",
              "      <td>0</td>\n",
              "      <td>0</td>\n",
              "      <td>0</td>\n",
              "      <td>0</td>\n",
              "      <td>0</td>\n",
              "      <td>0</td>\n",
              "      <td>0</td>\n",
              "      <td>0</td>\n",
              "      <td>0</td>\n",
              "      <td>0</td>\n",
              "      <td>0</td>\n",
              "      <td>0</td>\n",
              "      <td>0</td>\n",
              "      <td>0</td>\n",
              "      <td>0</td>\n",
              "      <td>0</td>\n",
              "      <td>0</td>\n",
              "      <td>0</td>\n",
              "      <td>0</td>\n",
              "      <td>0</td>\n",
              "      <td>0</td>\n",
              "      <td>0</td>\n",
              "      <td>0</td>\n",
              "      <td>26</td>\n",
              "      <td>5</td>\n",
              "      <td>0</td>\n",
              "      <td>444</td>\n",
              "      <td>4</td>\n",
              "      <td>10</td>\n",
              "      <td>0</td>\n",
              "      <td>0</td>\n",
              "      <td>0</td>\n",
              "      <td>0</td>\n",
              "      <td>0</td>\n",
              "      <td>0</td>\n",
              "      <td>0</td>\n",
              "      <td>0</td>\n",
              "      <td>0</td>\n",
              "      <td>0</td>\n",
              "      <td>0</td>\n",
              "      <td>...</td>\n",
              "      <td>0</td>\n",
              "      <td>1</td>\n",
              "      <td>0</td>\n",
              "      <td>0</td>\n",
              "      <td>0</td>\n",
              "      <td>0</td>\n",
              "      <td>0</td>\n",
              "      <td>0</td>\n",
              "      <td>0</td>\n",
              "      <td>0</td>\n",
              "      <td>0</td>\n",
              "      <td>0</td>\n",
              "      <td>0</td>\n",
              "      <td>0</td>\n",
              "      <td>0</td>\n",
              "      <td>0</td>\n",
              "      <td>0</td>\n",
              "      <td>0</td>\n",
              "      <td>0</td>\n",
              "      <td>0</td>\n",
              "      <td>0</td>\n",
              "      <td>0</td>\n",
              "      <td>0</td>\n",
              "      <td>0</td>\n",
              "      <td>0</td>\n",
              "      <td>0</td>\n",
              "      <td>0</td>\n",
              "      <td>0</td>\n",
              "      <td>0</td>\n",
              "      <td>0</td>\n",
              "      <td>0</td>\n",
              "      <td>0</td>\n",
              "      <td>0</td>\n",
              "      <td>2</td>\n",
              "      <td>0</td>\n",
              "      <td>0</td>\n",
              "      <td>0</td>\n",
              "      <td>0</td>\n",
              "      <td>1</td>\n",
              "      <td>0</td>\n",
              "    </tr>\n",
              "    <tr>\n",
              "      <th>1/23/20</th>\n",
              "      <td>0</td>\n",
              "      <td>0</td>\n",
              "      <td>0</td>\n",
              "      <td>0</td>\n",
              "      <td>0</td>\n",
              "      <td>0</td>\n",
              "      <td>0</td>\n",
              "      <td>0</td>\n",
              "      <td>0</td>\n",
              "      <td>0</td>\n",
              "      <td>0</td>\n",
              "      <td>0</td>\n",
              "      <td>0</td>\n",
              "      <td>0</td>\n",
              "      <td>0</td>\n",
              "      <td>0</td>\n",
              "      <td>0</td>\n",
              "      <td>0</td>\n",
              "      <td>0</td>\n",
              "      <td>0</td>\n",
              "      <td>0</td>\n",
              "      <td>0</td>\n",
              "      <td>0</td>\n",
              "      <td>32</td>\n",
              "      <td>5</td>\n",
              "      <td>2</td>\n",
              "      <td>444</td>\n",
              "      <td>9</td>\n",
              "      <td>27</td>\n",
              "      <td>0</td>\n",
              "      <td>0</td>\n",
              "      <td>0</td>\n",
              "      <td>0</td>\n",
              "      <td>0</td>\n",
              "      <td>0</td>\n",
              "      <td>0</td>\n",
              "      <td>0</td>\n",
              "      <td>0</td>\n",
              "      <td>0</td>\n",
              "      <td>0</td>\n",
              "      <td>...</td>\n",
              "      <td>0</td>\n",
              "      <td>1</td>\n",
              "      <td>0</td>\n",
              "      <td>0</td>\n",
              "      <td>0</td>\n",
              "      <td>0</td>\n",
              "      <td>0</td>\n",
              "      <td>0</td>\n",
              "      <td>0</td>\n",
              "      <td>0</td>\n",
              "      <td>0</td>\n",
              "      <td>0</td>\n",
              "      <td>0</td>\n",
              "      <td>0</td>\n",
              "      <td>0</td>\n",
              "      <td>0</td>\n",
              "      <td>0</td>\n",
              "      <td>0</td>\n",
              "      <td>0</td>\n",
              "      <td>0</td>\n",
              "      <td>0</td>\n",
              "      <td>0</td>\n",
              "      <td>0</td>\n",
              "      <td>0</td>\n",
              "      <td>0</td>\n",
              "      <td>0</td>\n",
              "      <td>1</td>\n",
              "      <td>0</td>\n",
              "      <td>0</td>\n",
              "      <td>0</td>\n",
              "      <td>0</td>\n",
              "      <td>0</td>\n",
              "      <td>0</td>\n",
              "      <td>3</td>\n",
              "      <td>0</td>\n",
              "      <td>0</td>\n",
              "      <td>0</td>\n",
              "      <td>0</td>\n",
              "      <td>1</td>\n",
              "      <td>0</td>\n",
              "    </tr>\n",
              "    <tr>\n",
              "      <th>1/24/20</th>\n",
              "      <td>0</td>\n",
              "      <td>0</td>\n",
              "      <td>0</td>\n",
              "      <td>0</td>\n",
              "      <td>0</td>\n",
              "      <td>0</td>\n",
              "      <td>0</td>\n",
              "      <td>0</td>\n",
              "      <td>0</td>\n",
              "      <td>0</td>\n",
              "      <td>0</td>\n",
              "      <td>0</td>\n",
              "      <td>0</td>\n",
              "      <td>0</td>\n",
              "      <td>0</td>\n",
              "      <td>0</td>\n",
              "      <td>0</td>\n",
              "      <td>0</td>\n",
              "      <td>0</td>\n",
              "      <td>0</td>\n",
              "      <td>0</td>\n",
              "      <td>0</td>\n",
              "      <td>0</td>\n",
              "      <td>53</td>\n",
              "      <td>9</td>\n",
              "      <td>2</td>\n",
              "      <td>549</td>\n",
              "      <td>24</td>\n",
              "      <td>43</td>\n",
              "      <td>0</td>\n",
              "      <td>0</td>\n",
              "      <td>0</td>\n",
              "      <td>0</td>\n",
              "      <td>0</td>\n",
              "      <td>0</td>\n",
              "      <td>0</td>\n",
              "      <td>0</td>\n",
              "      <td>0</td>\n",
              "      <td>0</td>\n",
              "      <td>0</td>\n",
              "      <td>...</td>\n",
              "      <td>0</td>\n",
              "      <td>2</td>\n",
              "      <td>0</td>\n",
              "      <td>0</td>\n",
              "      <td>0</td>\n",
              "      <td>0</td>\n",
              "      <td>0</td>\n",
              "      <td>0</td>\n",
              "      <td>0</td>\n",
              "      <td>0</td>\n",
              "      <td>0</td>\n",
              "      <td>0</td>\n",
              "      <td>0</td>\n",
              "      <td>0</td>\n",
              "      <td>0</td>\n",
              "      <td>0</td>\n",
              "      <td>0</td>\n",
              "      <td>0</td>\n",
              "      <td>0</td>\n",
              "      <td>0</td>\n",
              "      <td>0</td>\n",
              "      <td>0</td>\n",
              "      <td>0</td>\n",
              "      <td>0</td>\n",
              "      <td>0</td>\n",
              "      <td>0</td>\n",
              "      <td>3</td>\n",
              "      <td>0</td>\n",
              "      <td>0</td>\n",
              "      <td>0</td>\n",
              "      <td>0</td>\n",
              "      <td>0</td>\n",
              "      <td>0</td>\n",
              "      <td>5</td>\n",
              "      <td>0</td>\n",
              "      <td>0</td>\n",
              "      <td>0</td>\n",
              "      <td>0</td>\n",
              "      <td>2</td>\n",
              "      <td>0</td>\n",
              "    </tr>\n",
              "    <tr>\n",
              "      <th>1/25/20</th>\n",
              "      <td>0</td>\n",
              "      <td>0</td>\n",
              "      <td>0</td>\n",
              "      <td>0</td>\n",
              "      <td>0</td>\n",
              "      <td>0</td>\n",
              "      <td>0</td>\n",
              "      <td>0</td>\n",
              "      <td>0</td>\n",
              "      <td>0</td>\n",
              "      <td>0</td>\n",
              "      <td>0</td>\n",
              "      <td>0</td>\n",
              "      <td>0</td>\n",
              "      <td>0</td>\n",
              "      <td>0</td>\n",
              "      <td>0</td>\n",
              "      <td>0</td>\n",
              "      <td>0</td>\n",
              "      <td>0</td>\n",
              "      <td>0</td>\n",
              "      <td>0</td>\n",
              "      <td>0</td>\n",
              "      <td>78</td>\n",
              "      <td>32</td>\n",
              "      <td>5</td>\n",
              "      <td>761</td>\n",
              "      <td>43</td>\n",
              "      <td>62</td>\n",
              "      <td>0</td>\n",
              "      <td>0</td>\n",
              "      <td>0</td>\n",
              "      <td>0</td>\n",
              "      <td>0</td>\n",
              "      <td>0</td>\n",
              "      <td>0</td>\n",
              "      <td>0</td>\n",
              "      <td>0</td>\n",
              "      <td>0</td>\n",
              "      <td>0</td>\n",
              "      <td>...</td>\n",
              "      <td>0</td>\n",
              "      <td>2</td>\n",
              "      <td>0</td>\n",
              "      <td>0</td>\n",
              "      <td>0</td>\n",
              "      <td>3</td>\n",
              "      <td>0</td>\n",
              "      <td>0</td>\n",
              "      <td>0</td>\n",
              "      <td>0</td>\n",
              "      <td>0</td>\n",
              "      <td>0</td>\n",
              "      <td>0</td>\n",
              "      <td>0</td>\n",
              "      <td>0</td>\n",
              "      <td>0</td>\n",
              "      <td>0</td>\n",
              "      <td>0</td>\n",
              "      <td>0</td>\n",
              "      <td>0</td>\n",
              "      <td>0</td>\n",
              "      <td>0</td>\n",
              "      <td>0</td>\n",
              "      <td>0</td>\n",
              "      <td>0</td>\n",
              "      <td>0</td>\n",
              "      <td>3</td>\n",
              "      <td>0</td>\n",
              "      <td>0</td>\n",
              "      <td>0</td>\n",
              "      <td>0</td>\n",
              "      <td>0</td>\n",
              "      <td>0</td>\n",
              "      <td>7</td>\n",
              "      <td>0</td>\n",
              "      <td>0</td>\n",
              "      <td>0</td>\n",
              "      <td>0</td>\n",
              "      <td>2</td>\n",
              "      <td>0</td>\n",
              "    </tr>\n",
              "    <tr>\n",
              "      <th>1/26/20</th>\n",
              "      <td>0</td>\n",
              "      <td>0</td>\n",
              "      <td>0</td>\n",
              "      <td>0</td>\n",
              "      <td>3</td>\n",
              "      <td>0</td>\n",
              "      <td>1</td>\n",
              "      <td>0</td>\n",
              "      <td>0</td>\n",
              "      <td>0</td>\n",
              "      <td>0</td>\n",
              "      <td>0</td>\n",
              "      <td>0</td>\n",
              "      <td>0</td>\n",
              "      <td>0</td>\n",
              "      <td>0</td>\n",
              "      <td>0</td>\n",
              "      <td>0</td>\n",
              "      <td>0</td>\n",
              "      <td>0</td>\n",
              "      <td>1</td>\n",
              "      <td>0</td>\n",
              "      <td>0</td>\n",
              "      <td>111</td>\n",
              "      <td>83</td>\n",
              "      <td>8</td>\n",
              "      <td>1058</td>\n",
              "      <td>69</td>\n",
              "      <td>104</td>\n",
              "      <td>0</td>\n",
              "      <td>0</td>\n",
              "      <td>0</td>\n",
              "      <td>0</td>\n",
              "      <td>0</td>\n",
              "      <td>0</td>\n",
              "      <td>0</td>\n",
              "      <td>0</td>\n",
              "      <td>0</td>\n",
              "      <td>0</td>\n",
              "      <td>0</td>\n",
              "      <td>...</td>\n",
              "      <td>0</td>\n",
              "      <td>3</td>\n",
              "      <td>0</td>\n",
              "      <td>0</td>\n",
              "      <td>0</td>\n",
              "      <td>4</td>\n",
              "      <td>0</td>\n",
              "      <td>0</td>\n",
              "      <td>0</td>\n",
              "      <td>0</td>\n",
              "      <td>0</td>\n",
              "      <td>0</td>\n",
              "      <td>0</td>\n",
              "      <td>0</td>\n",
              "      <td>0</td>\n",
              "      <td>0</td>\n",
              "      <td>0</td>\n",
              "      <td>0</td>\n",
              "      <td>0</td>\n",
              "      <td>0</td>\n",
              "      <td>0</td>\n",
              "      <td>0</td>\n",
              "      <td>0</td>\n",
              "      <td>0</td>\n",
              "      <td>0</td>\n",
              "      <td>0</td>\n",
              "      <td>4</td>\n",
              "      <td>0</td>\n",
              "      <td>0</td>\n",
              "      <td>0</td>\n",
              "      <td>0</td>\n",
              "      <td>0</td>\n",
              "      <td>0</td>\n",
              "      <td>8</td>\n",
              "      <td>0</td>\n",
              "      <td>0</td>\n",
              "      <td>0</td>\n",
              "      <td>0</td>\n",
              "      <td>5</td>\n",
              "      <td>0</td>\n",
              "    </tr>\n",
              "  </tbody>\n",
              "</table>\n",
              "<p>5 rows × 96 columns</p>\n",
              "</div>"
            ],
            "text/plain": [
              "region   Afghanistan_nan  Algeria_nan  ...  Unites States_nan  Uzbekistan_nan\n",
              "1/22/20                0            0  ...                  1               0\n",
              "1/23/20                0            0  ...                  1               0\n",
              "1/24/20                0            0  ...                  2               0\n",
              "1/25/20                0            0  ...                  2               0\n",
              "1/26/20                0            0  ...                  5               0\n",
              "\n",
              "[5 rows x 96 columns]"
            ]
          },
          "metadata": {
            "tags": []
          },
          "execution_count": 11
        }
      ]
    },
    {
      "cell_type": "markdown",
      "metadata": {
        "id": "zteiKTo9QCou",
        "colab_type": "text"
      },
      "source": [
        "# Plotting time-series data\n",
        "* Based on whatever time-series data we created, now we are plotting it with the help of Matplotlib library.\n",
        "\n",
        "* You can find more information regarding matplotlib here: https://matplotlib.org/"
      ]
    },
    {
      "cell_type": "code",
      "metadata": {
        "id": "rDKASL4ooOpr",
        "outputId": "7e221d28-6291-499d-c382-6a65b908b66c",
        "trusted": true,
        "colab_type": "code",
        "colab": {
          "base_uri": "https://localhost:8080/",
          "height": 1000
        }
      },
      "source": [
        "import matplotlib.pyplot as plt\n",
        "p=ts.reindex(ts.max().sort_values(ascending=False).index, axis=1)\n",
        "p.iloc[:,:1].plot(marker='*',figsize=(10,4)).set_title('Daily Total Confirmed - UNITED STATES OF AMERICA',fontdict={'fontsize': 22})\n",
        "p.iloc[:,2:10].plot(marker='*',figsize=(10,4)).set_title('Daily Total Confirmed - Major areas',fontdict={'fontsize': 22})\n",
        "\n",
        "p_d=ts_d.reindex(ts.mean().sort_values(ascending=False).index, axis=1)\n",
        "p_d.iloc[:,:1].plot(marker='*',figsize=(10,4)).set_title('Daily Total Death - Hubei',fontdict={'fontsize': 22})\n",
        "p_d.iloc[:,2:10].plot(marker='*',figsize=(10,4)).set_title('Daily Total Death - Major areas',fontdict={'fontsize': 22})\n",
        "\n",
        "p_r=ts_rec.reindex(ts.mean().sort_values(ascending=False).index, axis=1)\n",
        "p_r.iloc[:,:1].plot(marker='*',figsize=(10,4)).set_title('Daily Total Recoverd - Hubei',fontdict={'fontsize': 22})\n",
        "p_r.iloc[:,2:10].plot(marker='*',figsize=(10,4)).set_title('Daily Total Recoverd - Major areas',fontdict={'fontsize': 22})"
      ],
      "execution_count": 12,
      "outputs": [
        {
          "output_type": "execute_result",
          "data": {
            "text/plain": [
              "Text(0.5, 1.0, 'Daily Total Recoverd - Major areas')"
            ]
          },
          "metadata": {
            "tags": []
          },
          "execution_count": 12
        },
        {
          "output_type": "display_data",
          "data": {
            "image/png": "[encoded data removed]",
            "text/plain": [
              "<Figure size 720x288 with 1 Axes>"
            ]
          },
          "metadata": {
            "tags": [],
            "needs_background": "light"
          }
        },
        {
          "output_type": "display_data",
          "data": {
            "image/png": "[encoded data removed]",
            "text/plain": [
              "<Figure size 720x288 with 1 Axes>"
            ]
          },
          "metadata": {
            "tags": [],
            "needs_background": "light"
          }
        },
        {
          "output_type": "display_data",
          "data": {
            "image/png": "[encoded data removed]",
            "text/plain": [
              "<Figure size 720x288 with 1 Axes>"
            ]
          },
          "metadata": {
            "tags": [],
            "needs_background": "light"
          }
        },
        {
          "output_type": "display_data",
          "data": {
            "image/png": "[encoded data removed]",
            "text/plain": [
              "<Figure size 720x288 with 1 Axes>"
            ]
          },
          "metadata": {
            "tags": [],
            "needs_background": "light"
          }
        },
        {
          "output_type": "display_data",
          "data": {
            "image/png": "[encoded data removed]",
            "text/plain": [
              "<Figure size 720x288 with 1 Axes>"
            ]
          },
          "metadata": {
            "tags": [],
            "needs_background": "light"
          }
        },
        {
          "output_type": "display_data",
          "data": {
            "image/png": "[encoded data removed]",
            "text/plain": [
              "<Figure size 720x288 with 1 Axes>"
            ]
          },
          "metadata": {
            "tags": [],
            "needs_background": "light"
          }
        }
      ]
    },
    {
      "cell_type": "markdown",
      "metadata": {
        "id": "KdF2fSSpQCo1",
        "colab_type": "text"
      },
      "source": [
        "* Now, saving the ts_r dataframe to our directory, by using the pd.to_csv() function."
      ]
    },
    {
      "cell_type": "code",
      "metadata": {
        "id": "WS_ycGmSoY0t",
        "trusted": true,
        "colab_type": "code",
        "colab": {}
      },
      "source": [
        "ts_r=ts.reset_index()\n",
        "ts_r=ts_r.rename(columns = {'index':'date'})\n",
        "ts_r['date']=pd.to_datetime(ts_r['date'] ,errors ='coerce')\n",
        "ts_r.to_csv(r'/content/gdrive/My Drive/covid19h/ts_r2.csv')"
      ],
      "execution_count": 0,
      "outputs": []
    },
    {
      "cell_type": "markdown",
      "metadata": {
        "id": "H4fymkpAQCo6",
        "colab_type": "text"
      },
      "source": [
        "* The rpy2 package helps in using R in python kernels.\n",
        "\n",
        "* You can find more information here: https://rpy2.github.io/doc/latest/html/introduction.html"
      ]
    },
    {
      "cell_type": "code",
      "metadata": {
        "id": "qioKxLCwodQU",
        "outputId": "d4cb21ce-71e7-478a-e8aa-ba67c52c856f",
        "trusted": true,
        "colab_type": "code",
        "colab": {
          "base_uri": "https://localhost:8080/",
          "height": 104
        }
      },
      "source": [
        "#importing rpy2 package for using R.\n",
        "import rpy2\n",
        "%load_ext rpy2.ipython"
      ],
      "execution_count": 14,
      "outputs": [
        {
          "output_type": "stream",
          "text": [
            "/usr/local/lib/python3.6/dist-packages/rpy2/robjects/pandas2ri.py:14: FutureWarning: pandas.core.index is deprecated and will be removed in a future version.  The public classes are available in the top-level namespace.\n",
            "  from pandas.core.index import Index as PandasIndex\n",
            "/usr/local/lib/python3.6/dist-packages/rpy2/robjects/pandas2ri.py:34: UserWarning: pandas >= 1.0 is not supported.\n",
            "  warnings.warn('pandas >= 1.0 is not supported.')\n"
          ],
          "name": "stderr"
        }
      ]
    },
    {
      "cell_type": "markdown",
      "metadata": {
        "id": "HGJERdMpQCpC",
        "colab_type": "text"
      },
      "source": [
        "* Installing pracma and reshape packages.\n",
        "\n",
        "* You can find more information regarding pracma here: https://cran.r-project.org/package=pracma\n",
        "\n",
        "* You can find more information regarding reshape here: https://cran.r-project.org/package=reshape"
      ]
    },
    {
      "cell_type": "code",
      "metadata": {
        "id": "_Lo3Tj8JodUC",
        "outputId": "ab6a46c5-14ef-4b52-a97e-51ee88239958",
        "trusted": true,
        "colab_type": "code",
        "colab": {
          "base_uri": "https://localhost:8080/",
          "height": 1000
        }
      },
      "source": [
        "%%R\n",
        "install.packages('pracma')\n",
        "install.packages('reshape')"
      ],
      "execution_count": 15,
      "outputs": [
        {
          "output_type": "stream",
          "text": [
            "R[write to console]: Installing package into ‘/usr/local/lib/R/site-library’\n",
            "(as ‘lib’ is unspecified)\n",
            "\n",
            "R[write to console]: trying URL 'https://cran.rstudio.com/src/contrib/pracma_2.2.9.tar.gz'\n",
            "\n",
            "R[write to console]: Content type 'application/x-gzip'\n",
            "R[write to console]:  length 400551 bytes (391 KB)\n",
            "\n",
            "R[write to console]: =\n",
            "R[write to console]: =\n",
            "R[write to console]: =\n",
            "R[write to console]: =\n",
            "R[write to console]: =\n",
            "R[write to console]: =\n",
            "R[write to console]: =\n",
            "R[write to console]: =\n",
            "R[write to console]: =\n",
            "R[write to console]: =\n",
            "R[write to console]: =\n",
            "R[write to console]: =\n",
            "R[write to console]: =\n",
            "R[write to console]: =\n",
            "R[write to console]: =\n",
            "R[write to console]: =\n",
            "R[write to console]: =\n",
            "R[write to console]: =\n",
            "R[write to console]: =\n",
            "R[write to console]: =\n",
            "R[write to console]: =\n",
            "R[write to console]: =\n",
            "R[write to console]: =\n",
            "R[write to console]: =\n",
            "R[write to console]: =\n",
            "R[write to console]: =\n",
            "R[write to console]: =\n",
            "R[write to console]: =\n",
            "R[write to console]: =\n",
            "R[write to console]: =\n",
            "R[write to console]: =\n",
            "R[write to console]: =\n",
            "R[write to console]: =\n",
            "R[write to console]: =\n",
            "R[write to console]: =\n",
            "R[write to console]: =\n",
            "R[write to console]: =\n",
            "R[write to console]: =\n",
            "R[write to console]: =\n",
            "R[write to console]: =\n",
            "R[write to console]: =\n",
            "R[write to console]: =\n",
            "R[write to console]: =\n",
            "R[write to console]: =\n",
            "R[write to console]: =\n",
            "R[write to console]: =\n",
            "R[write to console]: =\n",
            "R[write to console]: =\n",
            "R[write to console]: =\n",
            "R[write to console]: =\n",
            "R[write to console]: \n",
            "\n",
            "R[write to console]: downloaded 391 KB\n",
            "\n",
            "\n",
            "R[write to console]: \n",
            "\n",
            "R[write to console]: \n",
            "R[write to console]: The downloaded source packages are in\n",
            "\t‘/tmp/RtmpXHXN5d/downloaded_packages’\n",
            "R[write to console]: \n",
            "R[write to console]: \n",
            "\n",
            "R[write to console]: Installing package into ‘/usr/local/lib/R/site-library’\n",
            "(as ‘lib’ is unspecified)\n",
            "\n",
            "R[write to console]: trying URL 'https://cran.rstudio.com/src/contrib/reshape_0.8.8.tar.gz'\n",
            "\n",
            "R[write to console]: Content type 'application/x-gzip'\n",
            "R[write to console]:  length 42558 bytes (41 KB)\n",
            "\n",
            "R[write to console]: =\n",
            "R[write to console]: =\n",
            "R[write to console]: =\n",
            "R[write to console]: =\n",
            "R[write to console]: =\n",
            "R[write to console]: =\n",
            "R[write to console]: =\n",
            "R[write to console]: =\n",
            "R[write to console]: =\n",
            "R[write to console]: =\n",
            "R[write to console]: =\n",
            "R[write to console]: =\n",
            "R[write to console]: =\n",
            "R[write to console]: =\n",
            "R[write to console]: =\n",
            "R[write to console]: =\n",
            "R[write to console]: =\n",
            "R[write to console]: =\n",
            "R[write to console]: =\n",
            "R[write to console]: =\n",
            "R[write to console]: =\n",
            "R[write to console]: =\n",
            "R[write to console]: =\n",
            "R[write to console]: =\n",
            "R[write to console]: =\n",
            "R[write to console]: =\n",
            "R[write to console]: =\n",
            "R[write to console]: =\n",
            "R[write to console]: =\n",
            "R[write to console]: =\n",
            "R[write to console]: =\n",
            "R[write to console]: =\n",
            "R[write to console]: =\n",
            "R[write to console]: =\n",
            "R[write to console]: =\n",
            "R[write to console]: =\n",
            "R[write to console]: =\n",
            "R[write to console]: =\n",
            "R[write to console]: =\n",
            "R[write to console]: =\n",
            "R[write to console]: =\n",
            "R[write to console]: =\n",
            "R[write to console]: =\n",
            "R[write to console]: =\n",
            "R[write to console]: =\n",
            "R[write to console]: =\n",
            "R[write to console]: =\n",
            "R[write to console]: =\n",
            "R[write to console]: =\n",
            "R[write to console]: =\n",
            "R[write to console]: \n",
            "\n",
            "R[write to console]: downloaded 41 KB\n",
            "\n",
            "\n",
            "R[write to console]: \n",
            "\n",
            "R[write to console]: \n",
            "R[write to console]: The downloaded source packages are in\n",
            "\t‘/tmp/RtmpXHXN5d/downloaded_packages’\n",
            "R[write to console]: \n",
            "R[write to console]: \n",
            "\n"
          ],
          "name": "stderr"
        }
      ]
    },
    {
      "cell_type": "code",
      "metadata": {
        "id": "D6rsB9xXoyMT",
        "outputId": "0db38ce7-14cb-48b3-cc7e-eede0e9ca3e6",
        "trusted": false,
        "colab_type": "code",
        "colab": {
          "base_uri": "https://localhost:8080/",
          "height": 185
        }
      },
      "source": [
        "%%R\n",
        "require(pracma)\n",
        "require(Metrics)\n",
        "require(readr)\n",
        "all<- read_csv(\"/content/gdrive/My Drive/covid19h/ts_r2.csv\")\n",
        "all$X1<-NULL\n",
        "date<-all[,1]\n",
        "date[nrow(date) + 1,1] <-all[nrow(all),1]+1\n",
        "pred_all<-NULL\n",
        "for (n in 2:ncol(all)-1) {\n",
        "  Y<-ts(data = all[n+1], start = 1, end =nrow(all)+1)  \n",
        "  sig_w<-0.01\n",
        "  w<-sig_w*randn(1,100) # acceleration which denotes the fluctuation (Q/R) rnorm(100, mean = 0, sd = 1)\n",
        "  sig_v<-0.01\n",
        "  v<-sig_v*randn(1,100)   \n",
        "  t<-0.45\n",
        "  phi<-matrix(c(1,0,t,1),2,2)\n",
        "  gama<-matrix(c(0.5*t^2,t),2,1)\n",
        "  H<-matrix(c(1,0),1,2)\n",
        "  #Kalman\n",
        "  x0_0<-p0_0<-matrix(c(0,0),2,1)\n",
        "  p0_0<-matrix(c(1,0,0,1),2,2)\n",
        "  Q<-0.01\n",
        "  R<-0.01\n",
        "  X<-NULL\n",
        "  X2<-NULL\n",
        "  pred<-NULL\n",
        "  for (i in 0:nrow(all)) {\n",
        "    namp <-paste(\"p\", i+1,\"_\",i, sep = \"\")\n",
        "    assign(namp, phi%*%(get(paste(\"p\", i,\"_\",i, sep = \"\")))%*%t(phi)+gama%*%Q%*%t(gama))\n",
        "    namk <- paste(\"k\", i+1, sep = \"\")\n",
        "    assign(namk,get(paste(\"p\", i+1,\"_\",i, sep = \"\"))%*%t(H)%*%(1/(H%*%get(paste(\"p\", i+1,\"_\",i, sep = \"\"))%*%t(H)+R)))\n",
        "    namx <- paste(\"x\", i+1,\"_\",i, sep = \"\")\n",
        "    assign(namx,phi%*%get(paste(\"x\", i,\"_\",i, sep = \"\")))\n",
        "    namE <- paste(\"E\", i+1, sep = \"\")\n",
        "    assign(namE,Y[i+1]-H%*%get(paste(\"x\", i+1,\"_\",i, sep = \"\")))\n",
        "    namx2 <- paste(\"x\", i+1,\"_\",i+1, sep = \"\")\n",
        "    assign(namx2,get(paste(\"x\", i+1,\"_\",i, sep = \"\"))+get(paste(\"k\", i+1, sep = \"\"))%*%get(paste(\"E\", i+1, sep = \"\")))\n",
        "    namp2 <- paste(\"p\", i+1,\"_\",i+1, sep = \"\")\n",
        "    assign(namp2,(p0_0-get(paste(\"k\", i+1, sep = \"\"))%*%H)%*%get(paste(\"p\", i+1,\"_\",i, sep = \"\")))\n",
        "    X<-rbind(X,get(paste(\"x\", i+1,\"_\",i,sep = \"\"))[1])\n",
        "    X2<-rbind(X2,get(paste(\"x\", i+1,\"_\",i,sep = \"\"))[2])\n",
        "    if(i>2){\n",
        "      remove(list=(paste(\"p\", i-1,\"_\",i-2, sep = \"\")))\n",
        "      remove(list=(paste(\"k\", i-1, sep = \"\")))\n",
        "      remove(list=(paste(\"E\", i-1, sep = \"\")))\n",
        "      remove(list=(paste(\"p\", i-2,\"_\",i-2, sep = \"\")))\n",
        "      remove(list=(paste(\"x\", i-1,\"_\",i-2, sep = \"\")))\n",
        "      remove(list=(paste(\"x\", i-2,\"_\",i-2, sep = \"\")))}\n",
        "  }\n",
        "  pred<-NULL\n",
        "  pred<-cbind(Y,X,round(X2,4))\n",
        "  pred<-as.data.frame(pred)\n",
        "  pred$region<-colnames(all[,n+1])\n",
        "  pred$date<-date$date\n",
        "  pred$actual<-rbind(0,(cbind(pred[2:nrow(pred),1])/pred[1:nrow(pred)-1,1]-1)*100)\n",
        "  pred$predict<-rbind(0,(cbind(pred[2:nrow(pred),2])/pred[1:nrow(pred)-1,2]-1)*100)\n",
        "  pred$pred_rate<-(pred$X/pred$Y-1)*100\n",
        "  pred$X2_change<-rbind(0,(cbind(pred[2:nrow(pred),3]-pred[1:nrow(pred)-1,3])))\n",
        "  pred_all<-rbind(pred_all,pred)\n",
        "}\n",
        "pred_all<-cbind(pred_all[,4:5],pred_all[,1:3])\n",
        "names(pred_all)[5]<-\"X2\"\n",
        "pred_all=pred_all[with( pred_all, order(region, date)), ]\n",
        "pred_all<-pred_all[,3:5]"
      ],
      "execution_count": 18,
      "outputs": [
        {
          "output_type": "stream",
          "text": [
            "R[write to console]: Loading required package: Metrics\n",
            "\n",
            "R[write to console]: Parsed with column specification:\n",
            "cols(\n",
            "  .default = col_double(),\n",
            "  date = col_date(format = \"\")\n",
            ")\n",
            "\n",
            "R[write to console]: See spec(...) for full column specifications.\n",
            "\n"
          ],
          "name": "stderr"
        }
      ]
    },
    {
      "cell_type": "code",
      "metadata": {
        "id": "uzDEpxb8o-Ly",
        "trusted": false,
        "colab_type": "code",
        "colab": {}
      },
      "source": [
        "p=%R pred_all\n"
      ],
      "execution_count": 0,
      "outputs": []
    },
    {
      "cell_type": "markdown",
      "metadata": {
        "id": "GTR3onE4QCpa",
        "colab_type": "text"
      },
      "source": [
        "# Merging the R ouput due to the package problem."
      ]
    },
    {
      "cell_type": "code",
      "metadata": {
        "id": "h7QADM06pEnE",
        "trusted": false,
        "colab_type": "code",
        "colab": {}
      },
      "source": [
        "\n",
        "t=ts\n",
        "t=t.stack().reset_index(name='confirmed')\n",
        "t.columns=['date', 'region','confirmed']\n",
        "t['date']=pd.to_datetime(t['date'] ,errors ='coerce')\n",
        "t=t.sort_values(['region', 'date'])\n",
        "\n",
        "temp=t.iloc[:,:3]\n",
        "temp=temp.reset_index(drop=True)\n",
        "for i in range(1,len(t)+1):\n",
        " if(temp.iloc[i,1] is not temp.iloc[i-1,1]):\n",
        "    temp.loc[len(temp)+1] = [temp.iloc[i-1,0]+ pd.DateOffset(1),temp.iloc[i-1,1], 0] \n",
        "temp=temp.sort_values(['region', 'date'])\n",
        "p.set_index(temp.index,inplace=True)\n",
        "#temp=temp.reset_index(drop=True)\n",
        "temp['Y']=p['Y']\n",
        "temp['X']=p['X']\n",
        "temp['X2']=p['X2']\n"
      ],
      "execution_count": 0,
      "outputs": []
    },
    {
      "cell_type": "markdown",
      "metadata": {
        "id": "tni5dHIkQCpi",
        "colab_type": "text"
      },
      "source": [
        "* For details regarding minimum and maximum temperatures, reference was taken from the dataset used in this kernel: https://www.kaggle.com/davidbnn92/weather-data/data"
      ]
    },
    {
      "cell_type": "code",
      "metadata": {
        "id": "IF-Iw0cfpNuC",
        "trusted": true,
        "colab_type": "code",
        "colab": {}
      },
      "source": [
        "w=pd.read_csv('/content/gdrive/My Drive/covid19h/w.csv', sep=',', encoding='latin1')\n",
        "w['date']=pd.to_datetime(w['date'],format='%d/%m/%Y')\n",
        "#w['date']=pd.to_datetime(w['date'],errors ='coerce')\n",
        "\n",
        "w_forecast=pd.read_csv('/content/gdrive/My Drive/covid19h/w_forecast.csv', sep=',', encoding='latin1')\n",
        "w_forecast['date']=pd.to_datetime(w_forecast['date'],format='%d/%m/%Y')"
      ],
      "execution_count": 0,
      "outputs": []
    },
    {
      "cell_type": "code",
      "metadata": {
        "id": "vE-A78ggqQJJ",
        "trusted": true,
        "colab_type": "code",
        "colab": {}
      },
      "source": [
        "t=ts\n",
        "t=t.stack().reset_index(name='confirmed')\n",
        "t.columns=['date', 'region','confirmed']\n",
        "t['date']=pd.to_datetime(t['date'] ,errors ='coerce')\n",
        "t=t.sort_values(['region', 'date'])\n",
        "\n",
        "# Add 1 Future day for prediction\n",
        "t=t.reset_index(drop=True)\n",
        "for i in range(1,len(t)+1):\n",
        "  if(t.iloc[i,1] is not t.iloc[i-1,1]):\n",
        "    t.loc[len(t)+1] = [t.iloc[i-1,0]+ pd.DateOffset(1),t.iloc[i-1,1], 0] \n",
        "t=t.sort_values(['region', 'date'])\n",
        "t=t.reset_index(drop=True)"
      ],
      "execution_count": 0,
      "outputs": []
    },
    {
      "cell_type": "markdown",
      "metadata": {
        "id": "GA34k0aTQCpv",
        "colab_type": "text"
      },
      "source": [
        "# Training our regression algorithm."
      ]
    },
    {
      "cell_type": "code",
      "metadata": {
        "id": "8nGigR6-qeF1",
        "outputId": "20ec3635-e0e5-4d4a-f621-8396fec14e50",
        "trusted": true,
        "colab_type": "code",
        "colab": {
          "base_uri": "https://localhost:8080/",
          "height": 218
        }
      },
      "source": [
        "t['1_day_change']=t['3_day_change']=t['7_day_change']=t['1_day_change_rate']=t['3_day_change_rate']=t['7_day_change_rate']=t['last_day']=0\n",
        "for i in range(1,len(t)):\n",
        "  if(t.iloc[i,1] is t.iloc[i-2,1]):\n",
        "    t.iloc[i,3]=t.iloc[i-1,2]-t.iloc[i-2,2]\n",
        "    t.iloc[i,6]=(t.iloc[i-1,2]/t.iloc[i-2,2]-1)*100\n",
        "    t.iloc[i,9]=t.iloc[i-1,2]\n",
        "  if(t.iloc[i,1] is t.iloc[i-4,1]):\n",
        "    t.iloc[i,4]=t.iloc[i-1,2]-t.iloc[i-4,2]\n",
        "    t.iloc[i,7]=(t.iloc[i-1,2]/t.iloc[i-4,2]-1)*100\n",
        "  if(t.iloc[i,1] is t.iloc[i-8,1]):\n",
        "    t.iloc[i,5]=t.iloc[i-1,2]-t.iloc[i-8,2]\n",
        "    t.iloc[i,8]=(t.iloc[i-1,2]/t.iloc[i-8,2]-1)*100\n",
        "t=t.fillna(0)  \n",
        "t=t.merge(temp[['date','region', 'X']],how='left',on=['date','region'])\n",
        "t=t.rename(columns = {'X':'kalman_prediction'}) \n",
        "t=t.replace([np.inf, -np.inf], 0)\n",
        "t['kalman_prediction']=round(t['kalman_prediction'])\n",
        "train=t.merge(confirmed[['region',' Population ']],how='left',on='region')\n",
        "train=train.rename(columns = {' Population ':'population'})\n",
        "train['population']=train['population'].str.replace(r\" \", '')\n",
        "train['population']=train['population'].str.replace(r\",\", '')\n",
        "train['population']=train['population'].fillna(1)\n",
        "train['population']=train['population'].astype('int32')\n",
        "train['infected_rate'] =train['last_day']/train['population']*10000\n",
        "train=train.merge(w,how='left',on=['date','region'])\n",
        "train=train.sort_values(['region', 'date'])\n",
        "### fill missing weather \n",
        "for i in range(0,len(train)):\n",
        "    if(np.isnan(train.iloc[i,13])):\n",
        "        if(train.iloc[i,1] is train.iloc[i-1,1]):\n",
        "            train.iloc[i,13]=train.iloc[i-1,13]\n",
        "            train.iloc[i,14]=train.iloc[i-1,14]"
      ],
      "execution_count": 24,
      "outputs": [
        {
          "output_type": "stream",
          "text": [
            "/usr/local/lib/python3.6/dist-packages/ipykernel_launcher.py:5: RuntimeWarning: invalid value encountered in long_scalars\n",
            "  \"\"\"\n",
            "/usr/local/lib/python3.6/dist-packages/ipykernel_launcher.py:9: RuntimeWarning: invalid value encountered in long_scalars\n",
            "  if __name__ == '__main__':\n",
            "/usr/local/lib/python3.6/dist-packages/ipykernel_launcher.py:12: RuntimeWarning: invalid value encountered in long_scalars\n",
            "  if sys.path[0] == '':\n",
            "/usr/local/lib/python3.6/dist-packages/ipykernel_launcher.py:5: RuntimeWarning: divide by zero encountered in long_scalars\n",
            "  \"\"\"\n",
            "/usr/local/lib/python3.6/dist-packages/ipykernel_launcher.py:9: RuntimeWarning: divide by zero encountered in long_scalars\n",
            "  if __name__ == '__main__':\n",
            "/usr/local/lib/python3.6/dist-packages/ipykernel_launcher.py:12: RuntimeWarning: divide by zero encountered in long_scalars\n",
            "  if sys.path[0] == '':\n"
          ],
          "name": "stderr"
        }
      ]
    },
    {
      "cell_type": "code",
      "metadata": {
        "id": "4kYJ04aeq5E_",
        "outputId": "89da2e59-9dc9-4eb0-aa7d-4fd5dd653080",
        "trusted": false,
        "colab_type": "code",
        "colab": {
          "base_uri": "https://localhost:8080/",
          "height": 558
        }
      },
      "source": [
        "# Select region\n",
        "region='China_Hubei'\n",
        "place=0\n",
        "\n",
        "evaluation=pd.DataFrame(columns=['region','mse','rmse','mae'])\n",
        "for i in range(1,len(t)):\n",
        "    if(t.iloc[i,1] is not t.iloc[i-1,1]):\n",
        "        ex=np.array(t.iloc[i-len(ts):i,10])\n",
        "        pred=np.array(t.iloc[i-len(ts):i,2])\n",
        "        evaluation=evaluation.append({'region': t.iloc[i-1,1], 'mse': np.power((ex - pred),2).mean(),'rmse':sqrt(mean_squared_error(ex,pred)),'mae': (abs(ex - pred)).mean()}, ignore_index=True)\n",
        "p=t[t['region']==region][['date','region','confirmed','kalman_prediction']]\n",
        "p=p.rename(columns = {'confirmed':'confirmedd'})\n",
        "p.iloc[len(p)-1,2]=None\n",
        "p=p.set_index(['date'])\n",
        "p.iloc[:,1:].plot(marker='o',figsize=(16,8)).set_title('Kalman Prediction - Select Region to Change - {}'.format(p.iloc[0,0]))\n",
        "print(evaluation[evaluation['region']==p.iloc[0,0]])\n"
      ],
      "execution_count": 25,
      "outputs": [
        {
          "output_type": "stream",
          "text": [
            "         region           mse         rmse          mae\n",
            "26  China_Hubei  5.079873e+07  7127.322967  1525.606061\n"
          ],
          "name": "stdout"
        },
        {
          "output_type": "display_data",
          "data": {
            "image/png": "[encoded data removed]",
            "text/plain": [
              "<Figure size 1152x576 with 1 Axes>"
            ]
          },
          "metadata": {
            "tags": [],
            "needs_background": "light"
          }
        }
      ]
    },
    {
      "cell_type": "code",
      "metadata": {
        "id": "FkkiPoWNdlpy",
        "outputId": "a7e406f2-6aa1-41ee-e9f2-e9bbf2345648",
        "trusted": false,
        "colab_type": "code",
        "colab": {
          "base_uri": "https://localhost:8080/",
          "height": 586
        }
      },
      "source": [
        "plt.style.use('ggplot')\n",
        "# Select region\n",
        "#region= 'Israel_nan'\n",
        "#region='Brazil_nan'\n",
        "#region='Unites States_nan'\n",
        "region='India_nan'\n",
        "#region='China_Hubei'\n",
        "\n",
        "evaluation=pd.DataFrame(columns=['region','mse','rmse','mae'])\n",
        "place=0\n",
        "for i in range(1,len(t)):\n",
        "  if(t.iloc[i,1] is not t.iloc[i-1,1]):\n",
        "    ex=np.array(t.iloc[i-len(ts):i,10])\n",
        "    pred=np.array(t.iloc[i-len(ts):i,2])\n",
        "    evaluation=evaluation.append({'region': t.iloc[i-1,1], 'mse': np.power((ex - pred),2).mean(),'rmse':sqrt(mean_squared_error(ex,pred)),'mae': (abs(ex - pred)).mean()}, ignore_index=True)\n",
        "p=t[t['region']==region][['date','region','confirmed','kalman_prediction']]\n",
        "p=p.rename(columns = {'confirmed':'confirmed'})\n",
        "p.iloc[len(p)-1,2]=None\n",
        "p=p.set_index(['date'])\n",
        "p.iloc[30:,1:].plot(marker='o',figsize=(16,8)).set_title('Kalman Prediction - {}'.format(p.iloc[0,0]))\n",
        "print(evaluation[evaluation['region']==p.iloc[0,0]])\n"
      ],
      "execution_count": 26,
      "outputs": [
        {
          "output_type": "stream",
          "text": [
            "       region           mse         rmse         mae\n",
            "48  India_nan  1.214833e+07  3485.445168  466.161616\n"
          ],
          "name": "stdout"
        },
        {
          "output_type": "display_data",
          "data": {
            "image/png": "[encoded data removed]",
            "text/plain": [
              "<Figure size 1152x576 with 1 Axes>"
            ]
          },
          "metadata": {
            "tags": []
          }
        }
      ]
    },
    {
      "cell_type": "markdown",
      "metadata": {
        "id": "Y8MClOCqPn7H",
        "colab_type": "text"
      },
      "source": [
        "* By doing the below mentioned steps, we are trying to find out the importance of each variables, used for the the prediction, using random forest classifier provied by h20 package.\n",
        "\n",
        "* You can find further information regarding h20 here: http://docs.h2o.ai/h2o/latest-stable/h2o-py/docs/intro.html\n",
        "\n",
        "* Find more information on linear regression here: http://scikit-learn.org/stable/modules/generated/sklearn.linear_model.LinearRegression.html"
      ]
    },
    {
      "cell_type": "markdown",
      "metadata": {
        "id": "tqbuFOFNQCqV",
        "colab_type": "text"
      },
      "source": [
        "# Importing the necessary packages for finding out the variable importance"
      ]
    },
    {
      "cell_type": "code",
      "metadata": {
        "id": "p7hBdtF9nazz",
        "outputId": "1c3e28ab-3713-4453-e8c5-ebaca4bcd83f",
        "trusted": true,
        "colab_type": "code",
        "colab": {
          "base_uri": "https://localhost:8080/",
          "height": 829
        }
      },
      "source": [
        "!pip install h2o\n",
        "import h2o\n",
        "from h2o.estimators import H2ORandomForestEstimator\n",
        "from h2o.estimators.glm import H2OGeneralizedLinearEstimator\n",
        "from h2o.grid.grid_search import H2OGridSearch\n",
        "h2o.init(min_mem_size='8G')\n",
        "import numpy as np\n",
        "from sklearn.linear_model import LinearRegression"
      ],
      "execution_count": 27,
      "outputs": [
        {
          "output_type": "stream",
          "text": [
            "Collecting h2o\n",
            "\u001b[?25l  Downloading https://files.pythonhosted.org/packages/7d/f3/0da4c917ae0d32295c69280dba7ea6f01127866b5cab95f235d3da80b2d2/h2o-3.30.0.2.tar.gz (129.6MB)\n",
            "\u001b[K     |████████████████████████████████| 129.6MB 80kB/s \n",
            "\u001b[?25hRequirement already satisfied: requests in /usr/local/lib/python3.6/dist-packages (from h2o) (2.21.0)\n",
            "Requirement already satisfied: tabulate in /usr/local/lib/python3.6/dist-packages (from h2o) (0.8.7)\n",
            "Requirement already satisfied: future in /usr/local/lib/python3.6/dist-packages (from h2o) (0.16.0)\n",
            "Collecting colorama>=0.3.8\n",
            "  Downloading https://files.pythonhosted.org/packages/c9/dc/45cdef1b4d119eb96316b3117e6d5708a08029992b2fee2c143c7a0a5cc5/colorama-0.4.3-py2.py3-none-any.whl\n",
            "Requirement already satisfied: urllib3<1.25,>=1.21.1 in /usr/local/lib/python3.6/dist-packages (from requests->h2o) (1.24.3)\n",
            "Requirement already satisfied: chardet<3.1.0,>=3.0.2 in /usr/local/lib/python3.6/dist-packages (from requests->h2o) (3.0.4)\n",
            "Requirement already satisfied: idna<2.9,>=2.5 in /usr/local/lib/python3.6/dist-packages (from requests->h2o) (2.8)\n",
            "Requirement already satisfied: certifi>=2017.4.17 in /usr/local/lib/python3.6/dist-packages (from requests->h2o) (2020.4.5.1)\n",
            "Building wheels for collected packages: h2o\n",
            "  Building wheel for h2o (setup.py) ... \u001b[?25l\u001b[?25hdone\n",
            "  Created wheel for h2o: filename=h2o-3.30.0.2-py2.py3-none-any.whl size=129672980 sha256=ac07efb0f55f86105095c62adde752edb696405dd06fbe9f9e51e1f2d4f37a2d\n",
            "  Stored in directory: /root/.cache/pip/wheels/35/f0/d4/2090fb81ef10fd3dedffd1386a8a4d79b882e8e978fbee4e14\n",
            "Successfully built h2o\n",
            "Installing collected packages: colorama, h2o\n",
            "Successfully installed colorama-0.4.3 h2o-3.30.0.2\n",
            "Checking whether there is an H2O instance running at http://localhost:54321 ..... not found.\n",
            "Attempting to start a local H2O server...\n",
            "  Java Version: openjdk version \"11.0.6\" 2020-01-14; OpenJDK Runtime Environment (build 11.0.6+10-post-Ubuntu-1ubuntu118.04.1); OpenJDK 64-Bit Server VM (build 11.0.6+10-post-Ubuntu-1ubuntu118.04.1, mixed mode, sharing)\n",
            "  Starting server from /usr/local/lib/python3.6/dist-packages/h2o/backend/bin/h2o.jar\n",
            "  Ice root: /tmp/tmpxi1duftj\n",
            "  JVM stdout: /tmp/tmpxi1duftj/h2o_unknownUser_started_from_python.out\n",
            "  JVM stderr: /tmp/tmpxi1duftj/h2o_unknownUser_started_from_python.err\n",
            "  Server is running at http://127.0.0.1:54321\n",
            "Connecting to H2O server at http://127.0.0.1:54321 ... successful.\n"
          ],
          "name": "stdout"
        },
        {
          "output_type": "display_data",
          "data": {
            "text/html": [
              "<div style=\"overflow:auto\"><table style=\"width:50%\"><tr><td>H2O_cluster_uptime:</td>\n",
              "<td>02 secs</td></tr>\n",
              "<tr><td>H2O_cluster_timezone:</td>\n",
              "<td>Etc/UTC</td></tr>\n",
              "<tr><td>H2O_data_parsing_timezone:</td>\n",
              "<td>UTC</td></tr>\n",
              "<tr><td>H2O_cluster_version:</td>\n",
              "<td>3.30.0.2</td></tr>\n",
              "<tr><td>H2O_cluster_version_age:</td>\n",
              "<td>1 day </td></tr>\n",
              "<tr><td>H2O_cluster_name:</td>\n",
              "<td>H2O_from_python_unknownUser_4k0knk</td></tr>\n",
              "<tr><td>H2O_cluster_total_nodes:</td>\n",
              "<td>1</td></tr>\n",
              "<tr><td>H2O_cluster_free_memory:</td>\n",
              "<td>8 Gb</td></tr>\n",
              "<tr><td>H2O_cluster_total_cores:</td>\n",
              "<td>2</td></tr>\n",
              "<tr><td>H2O_cluster_allowed_cores:</td>\n",
              "<td>2</td></tr>\n",
              "<tr><td>H2O_cluster_status:</td>\n",
              "<td>accepting new members, healthy</td></tr>\n",
              "<tr><td>H2O_connection_url:</td>\n",
              "<td>http://127.0.0.1:54321</td></tr>\n",
              "<tr><td>H2O_connection_proxy:</td>\n",
              "<td>{\"http\": null, \"https\": null}</td></tr>\n",
              "<tr><td>H2O_internal_security:</td>\n",
              "<td>False</td></tr>\n",
              "<tr><td>H2O_API_Extensions:</td>\n",
              "<td>Amazon S3, XGBoost, Algos, AutoML, Core V3, TargetEncoder, Core V4</td></tr>\n",
              "<tr><td>Python_version:</td>\n",
              "<td>3.6.9 final</td></tr></table></div>"
            ],
            "text/plain": [
              "--------------------------  ------------------------------------------------------------------\n",
              "H2O_cluster_uptime:         02 secs\n",
              "H2O_cluster_timezone:       Etc/UTC\n",
              "H2O_data_parsing_timezone:  UTC\n",
              "H2O_cluster_version:        3.30.0.2\n",
              "H2O_cluster_version_age:    1 day\n",
              "H2O_cluster_name:           H2O_from_python_unknownUser_4k0knk\n",
              "H2O_cluster_total_nodes:    1\n",
              "H2O_cluster_free_memory:    8 Gb\n",
              "H2O_cluster_total_cores:    2\n",
              "H2O_cluster_allowed_cores:  2\n",
              "H2O_cluster_status:         accepting new members, healthy\n",
              "H2O_connection_url:         http://127.0.0.1:54321\n",
              "H2O_connection_proxy:       {\"http\": null, \"https\": null}\n",
              "H2O_internal_security:      False\n",
              "H2O_API_Extensions:         Amazon S3, XGBoost, Algos, AutoML, Core V3, TargetEncoder, Core V4\n",
              "Python_version:             3.6.9 final\n",
              "--------------------------  ------------------------------------------------------------------"
            ]
          },
          "metadata": {
            "tags": []
          }
        }
      ]
    },
    {
      "cell_type": "markdown",
      "metadata": {
        "id": "oaqD932ZQCqb",
        "colab_type": "text"
      },
      "source": [
        "# Setting the dates and giving more weight to the recent dates."
      ]
    },
    {
      "cell_type": "code",
      "metadata": {
        "id": "GgD0p2HUB36a",
        "trusted": false,
        "colab_type": "code",
        "colab": {}
      },
      "source": [
        "train=train.fillna(0) \n",
        "train_df=train[train['date']<'2020-02-17']\n",
        "boots=train_df[train_df['date']>='2020-02-14'] #to give more weight for recent days\n",
        "train_df=train_df.append([boots[boots['date']>='2020-02-14']]*1000,ignore_index=True)\n",
        "train_df_hubei=train_df[train_df['region']=='China_Hubei']\n",
        "test=train[train['date']>='2020-02-17']\n",
        "test=test[test['date']<'2020-02-19']"
      ],
      "execution_count": 0,
      "outputs": []
    },
    {
      "cell_type": "markdown",
      "metadata": {
        "id": "FY4FVznTQCqh",
        "colab_type": "text"
      },
      "source": [
        "* Taking into account, all the variables regarding the variable importance check."
      ]
    },
    {
      "cell_type": "code",
      "metadata": {
        "id": "b5FZJ91nHXVV",
        "trusted": false,
        "colab_type": "code",
        "colab": {}
      },
      "source": [
        "x_col=[#'region',\n",
        "            '1_day_change', '3_day_change','7_day_change',\n",
        "             '1_day_change_rate', \n",
        "            '3_day_change_rate',\n",
        "             '7_day_change_rate', \n",
        "            'last_day', 'kalman_prediction','infected_rate', 'min', 'max'\n",
        "          ]"
      ],
      "execution_count": 0,
      "outputs": []
    },
    {
      "cell_type": "markdown",
      "metadata": {
        "id": "zCUbwajQHhyB",
        "colab_type": "text"
      },
      "source": [
        "* Here we are using the kalmin filtered inputs for our linear regression model, which are much accurate due to the usage of the immediate previous time step."
      ]
    },
    {
      "cell_type": "code",
      "metadata": {
        "id": "GfKn9_37HaiY",
        "trusted": false,
        "colab_type": "code",
        "colab": {}
      },
      "source": [
        "x=train_df[x_col]\n",
        "y=train_df['confirmed']\n",
        "reg = LinearRegression().fit(x,y)\n",
        "\n",
        "pred2=reg.predict(test[x_col]); pred2=pd.DataFrame(pred2); pred2=round(pred2)\n",
        "pred2['confirmed']=test['confirmed'].values; pred2['date']=test['date'].values; pred2['region']=test['region'].values\n",
        "#pred2.iloc[:55]"
      ],
      "execution_count": 0,
      "outputs": []
    },
    {
      "cell_type": "code",
      "metadata": {
        "id": "NUdGPU_NIQsk",
        "outputId": "1a2d86c4-e78d-4544-8348-e8b1145fb3f4",
        "trusted": false,
        "colab_type": "code",
        "colab": {
          "base_uri": "https://localhost:8080/",
          "height": 84
        }
      },
      "source": [
        "train_h20 = h2o.H2OFrame(train_df)\n",
        "train_h20_hubei = h2o.H2OFrame(train_df_hubei) # different model for Hubei\n",
        "training_columns = ['region','1_day_change', '3_day_change', '7_day_change', '1_day_change_rate', '3_day_change_rate',\n",
        "                    '7_day_change_rate', 'last_day', 'kalman_prediction','infected_rate', 'min', 'max'\n",
        "                   ]                 \n",
        "# Output parameter train against input parameters\n",
        "response_column = 'confirmed'\n",
        "\n",
        "# model = H2ORandomForestEstimator(ntrees=300, max_depth=12)\n",
        "# model.train(x=training_columns, y=response_column, training_frame=train_h20)\n",
        "model_hubei = H2ORandomForestEstimator(ntrees=300, max_depth=12)\n",
        "model_hubei.train(x=training_columns, y=response_column, training_frame=train_h20_hubei)\n",
        "\n",
        "test_h20 = h2o.H2OFrame(test)\n",
        "#test_h20_hubei = h2o.H2OFrame(test_hubei)"
      ],
      "execution_count": 31,
      "outputs": [
        {
          "output_type": "stream",
          "text": [
            "Parse progress: |█████████████████████████████████████████████████████████| 100%\n",
            "Parse progress: |█████████████████████████████████████████████████████████| 100%\n",
            "drf Model Build progress: |███████████████████████████████████████████████| 100%\n",
            "Parse progress: |█████████████████████████████████████████████████████████| 100%\n"
          ],
          "name": "stdout"
        }
      ]
    },
    {
      "cell_type": "markdown",
      "metadata": {
        "id": "pTjprpIjQcrf",
        "colab_type": "text"
      },
      "source": [
        "Feature importance for the Hubei model using RF"
      ]
    },
    {
      "cell_type": "code",
      "metadata": {
        "id": "2XVHEifpQuYn",
        "outputId": "9d61322d-4311-4f49-eb17-96d3ba559f19",
        "trusted": false,
        "colab_type": "code",
        "colab": {
          "base_uri": "https://localhost:8080/",
          "height": 373
        }
      },
      "source": [
        "model_hubei.varimp(True).iloc[:,:] # Feature importance for Hubei Model RF"
      ],
      "execution_count": 32,
      "outputs": [
        {
          "output_type": "execute_result",
          "data": {
            "text/html": [
              "<div>\n",
              "<style scoped>\n",
              "    .dataframe tbody tr th:only-of-type {\n",
              "        vertical-align: middle;\n",
              "    }\n",
              "\n",
              "    .dataframe tbody tr th {\n",
              "        vertical-align: top;\n",
              "    }\n",
              "\n",
              "    .dataframe thead th {\n",
              "        text-align: right;\n",
              "    }\n",
              "</style>\n",
              "<table border=\"1\" class=\"dataframe\">\n",
              "  <thead>\n",
              "    <tr style=\"text-align: right;\">\n",
              "      <th></th>\n",
              "      <th>variable</th>\n",
              "      <th>relative_importance</th>\n",
              "      <th>scaled_importance</th>\n",
              "      <th>percentage</th>\n",
              "    </tr>\n",
              "  </thead>\n",
              "  <tbody>\n",
              "    <tr>\n",
              "      <th>0</th>\n",
              "      <td>kalman_prediction</td>\n",
              "      <td>4.158503e+12</td>\n",
              "      <td>1.000000</td>\n",
              "      <td>0.300505</td>\n",
              "    </tr>\n",
              "    <tr>\n",
              "      <th>1</th>\n",
              "      <td>infected_rate</td>\n",
              "      <td>2.747002e+12</td>\n",
              "      <td>0.660575</td>\n",
              "      <td>0.198506</td>\n",
              "    </tr>\n",
              "    <tr>\n",
              "      <th>2</th>\n",
              "      <td>last_day</td>\n",
              "      <td>2.463358e+12</td>\n",
              "      <td>0.592367</td>\n",
              "      <td>0.178009</td>\n",
              "    </tr>\n",
              "    <tr>\n",
              "      <th>3</th>\n",
              "      <td>3_day_change</td>\n",
              "      <td>1.683576e+12</td>\n",
              "      <td>0.404851</td>\n",
              "      <td>0.121660</td>\n",
              "    </tr>\n",
              "    <tr>\n",
              "      <th>4</th>\n",
              "      <td>7_day_change</td>\n",
              "      <td>1.129563e+12</td>\n",
              "      <td>0.271627</td>\n",
              "      <td>0.081625</td>\n",
              "    </tr>\n",
              "    <tr>\n",
              "      <th>5</th>\n",
              "      <td>1_day_change</td>\n",
              "      <td>6.969664e+11</td>\n",
              "      <td>0.167600</td>\n",
              "      <td>0.050365</td>\n",
              "    </tr>\n",
              "    <tr>\n",
              "      <th>6</th>\n",
              "      <td>3_day_change_rate</td>\n",
              "      <td>4.360796e+11</td>\n",
              "      <td>0.104865</td>\n",
              "      <td>0.031512</td>\n",
              "    </tr>\n",
              "    <tr>\n",
              "      <th>7</th>\n",
              "      <td>7_day_change_rate</td>\n",
              "      <td>2.640682e+11</td>\n",
              "      <td>0.063501</td>\n",
              "      <td>0.019082</td>\n",
              "    </tr>\n",
              "    <tr>\n",
              "      <th>8</th>\n",
              "      <td>1_day_change_rate</td>\n",
              "      <td>1.084350e+11</td>\n",
              "      <td>0.026075</td>\n",
              "      <td>0.007836</td>\n",
              "    </tr>\n",
              "    <tr>\n",
              "      <th>9</th>\n",
              "      <td>min</td>\n",
              "      <td>8.880878e+10</td>\n",
              "      <td>0.021356</td>\n",
              "      <td>0.006418</td>\n",
              "    </tr>\n",
              "    <tr>\n",
              "      <th>10</th>\n",
              "      <td>max</td>\n",
              "      <td>6.201895e+10</td>\n",
              "      <td>0.014914</td>\n",
              "      <td>0.004482</td>\n",
              "    </tr>\n",
              "  </tbody>\n",
              "</table>\n",
              "</div>"
            ],
            "text/plain": [
              "             variable  relative_importance  scaled_importance  percentage\n",
              "0   kalman_prediction         4.158503e+12           1.000000    0.300505\n",
              "1       infected_rate         2.747002e+12           0.660575    0.198506\n",
              "2            last_day         2.463358e+12           0.592367    0.178009\n",
              "3        3_day_change         1.683576e+12           0.404851    0.121660\n",
              "4        7_day_change         1.129563e+12           0.271627    0.081625\n",
              "5        1_day_change         6.969664e+11           0.167600    0.050365\n",
              "6   3_day_change_rate         4.360796e+11           0.104865    0.031512\n",
              "7   7_day_change_rate         2.640682e+11           0.063501    0.019082\n",
              "8   1_day_change_rate         1.084350e+11           0.026075    0.007836\n",
              "9                 min         8.880878e+10           0.021356    0.006418\n",
              "10                max         6.201895e+10           0.014914    0.004482"
            ]
          },
          "metadata": {
            "tags": []
          },
          "execution_count": 32
        }
      ]
    },
    {
      "cell_type": "markdown",
      "metadata": {
        "id": "IEKTGagGdyjK",
        "colab_type": "text"
      },
      "source": [
        "* The correlation matrix, for showing the variable importance."
      ]
    },
    {
      "cell_type": "code",
      "metadata": {
        "id": "Taa9AtObdvzO",
        "outputId": "b4fe6664-1805-4838-e81f-eeb2d65d47f2",
        "trusted": false,
        "colab_type": "code",
        "colab": {
          "base_uri": "https://localhost:8080/",
          "height": 707
        }
      },
      "source": [
        "from string import ascii_letters\n",
        "import seaborn as sns\n",
        "import matplotlib.pyplot as plt\n",
        "sns.set(style=\"white\")\n",
        "# Compute the correlation matrix\n",
        "corr = train.iloc[:,2:].corr()\n",
        "# Generate a mask for the upper triangle\n",
        "mask = np.triu(np.ones_like(corr, dtype=np.bool))\n",
        "# Set up the matplotlib figure\n",
        "f, ax = plt.subplots(figsize=(11, 9))\n",
        "# Generate a custom diverging colormap\n",
        "cmap = sns.diverging_palette(220, 10, as_cmap=True)\n",
        "# Draw the heatmap with the mask and correct aspect ratio\n",
        "sns.heatmap(corr, mask=mask, cmap=cmap, vmax=.9, center=0,\n",
        "            square=True, linewidths=.5, cbar_kws={\"shrink\": .5})\n",
        "print ('Correlation Matrix')"
      ],
      "execution_count": 33,
      "outputs": [
        {
          "output_type": "stream",
          "text": [
            "/usr/local/lib/python3.6/dist-packages/statsmodels/tools/_testing.py:19: FutureWarning: pandas.util.testing is deprecated. Use the functions in the public API at pandas.testing instead.\n",
            "  import pandas.util.testing as tm\n"
          ],
          "name": "stderr"
        },
        {
          "output_type": "stream",
          "text": [
            "Correlation Matrix\n"
          ],
          "name": "stdout"
        },
        {
          "output_type": "display_data",
          "data": {
            "image/png": "[encoded data removed]",
            "text/plain": [
              "<Figure size 792x648 with 2 Axes>"
            ]
          },
          "metadata": {
            "tags": []
          }
        }
      ]
    },
    {
      "cell_type": "code",
      "metadata": {
        "id": "l7ZEk94-d-f7",
        "outputId": "cee999dd-29be-4afb-f0af-365d16f84a68",
        "trusted": false,
        "colab_type": "code",
        "colab": {
          "base_uri": "https://localhost:8080/",
          "height": 269
        }
      },
      "source": [
        "print('Correlation To Confirmed') \n",
        "print (corr.confirmed)"
      ],
      "execution_count": 34,
      "outputs": [
        {
          "output_type": "stream",
          "text": [
            "Correlation To Confirmed\n",
            "confirmed            1.000000\n",
            "1_day_change         0.844749\n",
            "3_day_change         0.874227\n",
            "7_day_change         0.898513\n",
            "1_day_change_rate   -0.021572\n",
            "3_day_change_rate   -0.029276\n",
            "7_day_change_rate   -0.024637\n",
            "last_day             0.961060\n",
            "kalman_prediction    0.962011\n",
            "population           0.008592\n",
            "infected_rate        0.857105\n",
            "min                 -0.013054\n",
            "max                 -0.001980\n",
            "Name: confirmed, dtype: float64\n"
          ],
          "name": "stdout"
        }
      ]
    },
    {
      "cell_type": "markdown",
      "metadata": {
        "id": "D9w-WInVfISR",
        "colab_type": "text"
      },
      "source": [
        "* A graph showing the variation of minimum and maximum temperatures in the india Region for example purpose."
      ]
    },
    {
      "cell_type": "code",
      "metadata": {
        "id": "lrJaFHqYfCus",
        "outputId": "270c34c5-8e63-4ee4-ccd7-ef844e0d2147",
        "trusted": false,
        "colab_type": "code",
        "colab": {
          "base_uri": "https://localhost:8080/",
          "height": 332
        }
      },
      "source": [
        "import matplotlib.pyplot as plt\n",
        "p=train[['date','region','min','max']].set_index('date')\n",
        "p=p[p['region']=='India_nan']\n",
        "p.iloc[:37,:].plot(marker='*',figsize=(12,4),color=['#19303f','#cccc00']).set_title('Daily Min/Max Temperature - India',fontdict={'fontsize': 20})\n"
      ],
      "execution_count": 35,
      "outputs": [
        {
          "output_type": "execute_result",
          "data": {
            "text/plain": [
              "Text(0.5, 1.0, 'Daily Min/Max Temperature - India')"
            ]
          },
          "metadata": {
            "tags": []
          },
          "execution_count": 35
        },
        {
          "output_type": "display_data",
          "data": {
            "image/png": "[encoded data removed]",
            "text/plain": [
              "<Figure size 864x288 with 1 Axes>"
            ]
          },
          "metadata": {
            "tags": []
          }
        }
      ]
    },
    {
      "cell_type": "markdown",
      "metadata": {
        "id": "2jbPzB3JgQmP",
        "colab_type": "text"
      },
      "source": [
        "* A table showing more infected areas vs temperature."
      ]
    },
    {
      "cell_type": "code",
      "metadata": {
        "id": "hH4gS3bNgP8j",
        "trusted": false,
        "colab_type": "code",
        "colab": {}
      },
      "source": [
        "avg_temp=train[['region','confirmed','min','max']]  # from 17-02-20\n",
        "avg_temp=avg_temp.groupby(by='region').mean()\n",
        "avg_temp=avg_temp.sort_values('confirmed',ascending=False)"
      ],
      "execution_count": 0,
      "outputs": []
    },
    {
      "cell_type": "markdown",
      "metadata": {
        "id": "auOs5yvagetO",
        "colab_type": "text"
      },
      "source": [
        "## **X Day ahead prediction using kalman filter**"
      ]
    },
    {
      "cell_type": "markdown",
      "metadata": {
        "id": "-DXmR50bgt1V",
        "colab_type": "text"
      },
      "source": [
        "* Using the R interface again.\n"
      ]
    },
    {
      "cell_type": "code",
      "metadata": {
        "id": "fH_1Y7upgmpj",
        "outputId": "6ed2dbf8-5261-4577-da9b-ba01d5af25c8",
        "trusted": false,
        "colab_type": "code",
        "colab": {
          "base_uri": "https://localhost:8080/",
          "height": 1000
        }
      },
      "source": [
        "\n",
        "%%R\n",
        "install.packages('reshape')"
      ],
      "execution_count": 38,
      "outputs": [
        {
          "output_type": "stream",
          "text": [
            "WARNING:rpy2.rinterface_lib.callbacks:R[write to console]: Installing package into ‘/usr/local/lib/R/site-library’\n",
            "(as ‘lib’ is unspecified)\n",
            "\n",
            "WARNING:rpy2.rinterface_lib.callbacks:R[write to console]: trying URL 'https://cran.rstudio.com/src/contrib/reshape_0.8.8.tar.gz'\n",
            "\n",
            "WARNING:rpy2.rinterface_lib.callbacks:R[write to console]: Content type 'application/x-gzip'\n",
            "WARNING:rpy2.rinterface_lib.callbacks:R[write to console]:  length 42558 bytes (41 KB)\n",
            "\n",
            "WARNING:rpy2.rinterface_lib.callbacks:R[write to console]: =\n",
            "WARNING:rpy2.rinterface_lib.callbacks:R[write to console]: =\n",
            "WARNING:rpy2.rinterface_lib.callbacks:R[write to console]: =\n",
            "WARNING:rpy2.rinterface_lib.callbacks:R[write to console]: =\n",
            "WARNING:rpy2.rinterface_lib.callbacks:R[write to console]: =\n",
            "WARNING:rpy2.rinterface_lib.callbacks:R[write to console]: =\n",
            "WARNING:rpy2.rinterface_lib.callbacks:R[write to console]: =\n",
            "WARNING:rpy2.rinterface_lib.callbacks:R[write to console]: =\n",
            "WARNING:rpy2.rinterface_lib.callbacks:R[write to console]: =\n",
            "WARNING:rpy2.rinterface_lib.callbacks:R[write to console]: =\n",
            "WARNING:rpy2.rinterface_lib.callbacks:R[write to console]: =\n",
            "WARNING:rpy2.rinterface_lib.callbacks:R[write to console]: =\n",
            "WARNING:rpy2.rinterface_lib.callbacks:R[write to console]: =\n",
            "WARNING:rpy2.rinterface_lib.callbacks:R[write to console]: =\n",
            "WARNING:rpy2.rinterface_lib.callbacks:R[write to console]: =\n",
            "WARNING:rpy2.rinterface_lib.callbacks:R[write to console]: =\n",
            "WARNING:rpy2.rinterface_lib.callbacks:R[write to console]: =\n",
            "WARNING:rpy2.rinterface_lib.callbacks:R[write to console]: =\n",
            "WARNING:rpy2.rinterface_lib.callbacks:R[write to console]: =\n",
            "WARNING:rpy2.rinterface_lib.callbacks:R[write to console]: =\n",
            "WARNING:rpy2.rinterface_lib.callbacks:R[write to console]: =\n",
            "WARNING:rpy2.rinterface_lib.callbacks:R[write to console]: =\n",
            "WARNING:rpy2.rinterface_lib.callbacks:R[write to console]: =\n",
            "WARNING:rpy2.rinterface_lib.callbacks:R[write to console]: =\n",
            "WARNING:rpy2.rinterface_lib.callbacks:R[write to console]: =\n",
            "WARNING:rpy2.rinterface_lib.callbacks:R[write to console]: =\n",
            "WARNING:rpy2.rinterface_lib.callbacks:R[write to console]: =\n",
            "WARNING:rpy2.rinterface_lib.callbacks:R[write to console]: =\n",
            "WARNING:rpy2.rinterface_lib.callbacks:R[write to console]: =\n",
            "WARNING:rpy2.rinterface_lib.callbacks:R[write to console]: =\n",
            "WARNING:rpy2.rinterface_lib.callbacks:R[write to console]: =\n",
            "WARNING:rpy2.rinterface_lib.callbacks:R[write to console]: =\n",
            "WARNING:rpy2.rinterface_lib.callbacks:R[write to console]: =\n",
            "WARNING:rpy2.rinterface_lib.callbacks:R[write to console]: =\n",
            "WARNING:rpy2.rinterface_lib.callbacks:R[write to console]: =\n",
            "WARNING:rpy2.rinterface_lib.callbacks:R[write to console]: =\n",
            "WARNING:rpy2.rinterface_lib.callbacks:R[write to console]: =\n",
            "WARNING:rpy2.rinterface_lib.callbacks:R[write to console]: =\n",
            "WARNING:rpy2.rinterface_lib.callbacks:R[write to console]: =\n",
            "WARNING:rpy2.rinterface_lib.callbacks:R[write to console]: =\n",
            "WARNING:rpy2.rinterface_lib.callbacks:R[write to console]: =\n",
            "WARNING:rpy2.rinterface_lib.callbacks:R[write to console]: =\n",
            "WARNING:rpy2.rinterface_lib.callbacks:R[write to console]: =\n",
            "WARNING:rpy2.rinterface_lib.callbacks:R[write to console]: =\n",
            "WARNING:rpy2.rinterface_lib.callbacks:R[write to console]: =\n",
            "WARNING:rpy2.rinterface_lib.callbacks:R[write to console]: =\n",
            "WARNING:rpy2.rinterface_lib.callbacks:R[write to console]: =\n",
            "WARNING:rpy2.rinterface_lib.callbacks:R[write to console]: =\n",
            "WARNING:rpy2.rinterface_lib.callbacks:R[write to console]: =\n",
            "WARNING:rpy2.rinterface_lib.callbacks:R[write to console]: =\n",
            "WARNING:rpy2.rinterface_lib.callbacks:R[write to console]: \n",
            "\n",
            "WARNING:rpy2.rinterface_lib.callbacks:R[write to console]: downloaded 41 KB\n",
            "\n",
            "\n",
            "WARNING:rpy2.rinterface_lib.callbacks:R[write to console]: \n",
            "\n",
            "WARNING:rpy2.rinterface_lib.callbacks:R[write to console]: \n",
            "WARNING:rpy2.rinterface_lib.callbacks:R[write to console]: The downloaded source packages are in\n",
            "\t‘/tmp/RtmpXHXN5d/downloaded_packages’\n",
            "WARNING:rpy2.rinterface_lib.callbacks:R[write to console]: \n",
            "WARNING:rpy2.rinterface_lib.callbacks:R[write to console]: \n",
            "\n"
          ],
          "name": "stderr"
        }
      ]
    },
    {
      "cell_type": "markdown",
      "metadata": {
        "id": "x23y9Jj3QCsC",
        "colab_type": "text"
      },
      "source": [
        "* Find more information regarding readr here: https://cran.r-project.org/package=readr\n",
        "\n",
        "* Find more information regarding metrics here: https://cran.r-project.org/web/packages/Metrics/Metrics.pdf"
      ]
    },
    {
      "cell_type": "code",
      "metadata": {
        "id": "8EkAcJ3VhQNc",
        "outputId": "1589edd1-5d05-4005-c20c-0a97c57caff3",
        "trusted": false,
        "colab_type": "code",
        "colab": {
          "base_uri": "https://localhost:8080/",
          "height": 185
        }
      },
      "source": [
        "%%R\n",
        "require(pracma)\n",
        "require(Metrics)\n",
        "require(readr)\n",
        "library(reshape)\n",
        "all<- read_csv(\"/content/gdrive/My Drive/covid19h/ts_r2.csv\")\n",
        "all$X1<-NULL\n",
        "for (i in 1:30) { # Set i days prediction\n",
        "  if( i>1) {all<-all_new}\n",
        "  date<-all[,1]\n",
        "  date[nrow(date) + 1,1] <-all[nrow(all),1]+1\n",
        "  pred_all<-NULL\n",
        "  for (n in 2:ncol(all)-1) {\n",
        "    Y<-ts(data = all[n+1], start = 1, end =nrow(all)+1)  \n",
        "    sig_w<-0.01\n",
        "    w<-sig_w*randn(1,100) # acceleration which denotes the fluctuation (Q/R) rnorm(100, mean = 0, sd = 1)\n",
        "    sig_v<-0.01\n",
        "    v<-sig_v*randn(1,100)  \n",
        "    t<-0.45\n",
        "    phi<-matrix(c(1,0,t,1),2,2)\n",
        "    gama<-matrix(c(0.5*t^2,t),2,1)\n",
        "    H<-matrix(c(1,0),1,2)\n",
        "    #Kalman\n",
        "    x0_0<-p0_0<-matrix(c(0,0),2,1)\n",
        "    p0_0<-matrix(c(1,0,0,1),2,2)\n",
        "    Q<-0.01\n",
        "    R<-0.01\n",
        "    X<-NULL\n",
        "    X2<-NULL\n",
        "    pred<-NULL\n",
        "    for (i in 0:nrow(all)) {\n",
        "      namp <-paste(\"p\", i+1,\"_\",i, sep = \"\")\n",
        "      assign(namp, phi%*%(get(paste(\"p\", i,\"_\",i, sep = \"\")))%*%t(phi)+gama%*%Q%*%t(gama))\n",
        "      namk <- paste(\"k\", i+1, sep = \"\")\n",
        "      assign(namk,get(paste(\"p\", i+1,\"_\",i, sep = \"\"))%*%t(H)%*%(1/(H%*%get(paste(\"p\", i+1,\"_\",i, sep = \"\"))%*%t(H)+R)))\n",
        "      namx <- paste(\"x\", i+1,\"_\",i, sep = \"\")\n",
        "      assign(namx,phi%*%get(paste(\"x\", i,\"_\",i, sep = \"\")))\n",
        "      namE <- paste(\"E\", i+1, sep = \"\")\n",
        "      assign(namE,Y[i+1]-H%*%get(paste(\"x\", i+1,\"_\",i, sep = \"\")))\n",
        "      namx2 <- paste(\"x\", i+1,\"_\",i+1, sep = \"\")\n",
        "      assign(namx2,get(paste(\"x\", i+1,\"_\",i, sep = \"\"))+get(paste(\"k\", i+1, sep = \"\"))%*%get(paste(\"E\", i+1, sep = \"\")))\n",
        "      namp2 <- paste(\"p\", i+1,\"_\",i+1, sep = \"\")\n",
        "      assign(namp2,(p0_0-get(paste(\"k\", i+1, sep = \"\"))%*%H)%*%get(paste(\"p\", i+1,\"_\",i, sep = \"\")))\n",
        "      X<-rbind(X,get(paste(\"x\", i+1,\"_\",i,sep = \"\"))[1])\n",
        "      X2<-rbind(X2,get(paste(\"x\", i+1,\"_\",i,sep = \"\"))[2])\n",
        "      if(i>2){\n",
        "        remove(list=(paste(\"p\", i-1,\"_\",i-2, sep = \"\")))\n",
        "        remove(list=(paste(\"k\", i-1, sep = \"\")))\n",
        "        remove(list=(paste(\"E\", i-1, sep = \"\")))\n",
        "        remove(list=(paste(\"p\", i-2,\"_\",i-2, sep = \"\")))\n",
        "        remove(list=(paste(\"x\", i-1,\"_\",i-2, sep = \"\")))\n",
        "        remove(list=(paste(\"x\", i-2,\"_\",i-2, sep = \"\")))}\n",
        "    } \n",
        "    pred<-NULL\n",
        "    pred<-cbind(Y,X,round(X2,4))\n",
        "    pred<-as.data.frame(pred)\n",
        "    pred$region<-colnames(all[,n+1])\n",
        "    pred$date<-date$date\n",
        "    pred$actual<-rbind(0,(cbind(pred[2:nrow(pred),1])/pred[1:nrow(pred)-1,1]-1)*100)\n",
        "    pred$predict<-rbind(0,(cbind(pred[2:nrow(pred),2])/pred[1:nrow(pred)-1,2]-1)*100)\n",
        "    pred$pred_rate<-(pred$X/pred$Y-1)*100\n",
        "    pred$X2_change<-rbind(0,(cbind(pred[2:nrow(pred),3]-pred[1:nrow(pred)-1,3])))\n",
        "    pred_all<-rbind(pred_all,pred)\n",
        "  }\n",
        "  pred_all<-cbind(pred_all[,4:5],pred_all[,1:3])\n",
        "  names(pred_all)[5]<-\"X2\"\n",
        "  pred_all<-pred_all[,1:5]\n",
        "       \n",
        "pred_all_today=pred_all[with( pred_all, order(region, date)), ]\n",
        "all_new=all\n",
        "#all_new[nrow(all_new),1]<-all_new[nrow(all),1]+1\n",
        "temp<-with(pred_all_today, pred_all_today[date == all[nrow(all),1]+1, ])\n",
        "temp<-cbind(temp[,1:2],temp[,4])\n",
        "temp2<-reshape(temp, direction = \"wide\", idvar = \"date\", timevar = \"region\")\n",
        "rand_num<-runif(ncol(temp2)-1, 0.9, 1.05)\n",
        "temp2[,2:ncol(temp2)]<-temp2[,2:ncol(temp2)]*rand_num\n",
        "colnames(temp2)=colnames(all_new)\n",
        "all_new<-rbind(all_new,temp2)\n",
        "all_new[,2:ncol(all_new)]<-round(all_new[,2:ncol(all_new)])\n",
        "for (i in 2:ncol(all_new)) {\n",
        "  all_new[nrow(all_new),i]=max(all_new[nrow(all_new)-1,i],all_new[nrow(all_new),i])}\n",
        "}"
      ],
      "execution_count": 40,
      "outputs": [
        {
          "output_type": "stream",
          "text": [
            "WARNING:rpy2.rinterface_lib.callbacks:R[write to console]: Loading required package: Metrics\n",
            "\n",
            "WARNING:rpy2.rinterface_lib.callbacks:R[write to console]: Parsed with column specification:\n",
            "cols(\n",
            "  .default = col_double(),\n",
            "  date = col_date(format = \"\")\n",
            ")\n",
            "\n",
            "WARNING:rpy2.rinterface_lib.callbacks:R[write to console]: See spec(...) for full column specifications.\n",
            "\n"
          ],
          "name": "stderr"
        }
      ]
    },
    {
      "cell_type": "code",
      "metadata": {
        "id": "xRyVFYtfh4Zm",
        "trusted": false,
        "colab_type": "code",
        "colab": {}
      },
      "source": [
        "all_new=%R all_new"
      ],
      "execution_count": 0,
      "outputs": []
    },
    {
      "cell_type": "markdown",
      "metadata": {
        "id": "7Yc6af5QQCsO",
        "colab_type": "text"
      },
      "source": [
        "* Converting the date column values dtype to datetime format.\n",
        "\n",
        "* Find out more information here: https://pandas.pydata.org/pandas-docs/stable/reference/api/pandas.to_datetime.html"
      ]
    },
    {
      "cell_type": "code",
      "metadata": {
        "id": "0jw2SpU_h9QK",
        "trusted": false,
        "colab_type": "code",
        "colab": {}
      },
      "source": [
        "all_new['date']=pd.to_datetime(all_new['date'],unit='d')"
      ],
      "execution_count": 0,
      "outputs": []
    },
    {
      "cell_type": "code",
      "metadata": {
        "id": "3SM1sdtqiDOZ",
        "outputId": "8e63a4f4-5044-4fee-f592-c5478d358399",
        "trusted": false,
        "colab_type": "code",
        "colab": {
          "base_uri": "https://localhost:8080/",
          "height": 547
        }
      },
      "source": [
        "# Select region\n",
        "region=['date','China_Anhui', 'China_Beijing',\n",
        "       'China_Chongqing', 'China_Fujian', 'China_Gansu',\n",
        "       'China_Guangdong', 'China_Guangxi', 'China_Guizhou',\n",
        "       'China_Hainan', 'China_Hebei', 'China_Heilongjiang', 'China_Henan','China_Hunan', \n",
        "       'China_Jiangsu', 'China_Jiangxi', 'China_Jilin', 'China_Liaoning',\n",
        "       'China_Ningxia', 'China_Qinghai', 'China_Shaanxi',\n",
        "       'China_Shandong', 'China_Shanghai', 'China_Shanxi',\n",
        "       'China_Sichuan',  'China_Xinjiang',\n",
        "       'China_Yunnan', 'China_Zhejiang', \n",
        "        'Hong Kong_Hong Kong','Japan_nan','Others_Diamond Princess cruise ship']\n",
        "#p_kalman=all_new[region]\n",
        "#p=all_new\n",
        "#p.iloc[len(p)-1,2]=None\n",
        "#p_kalman=p_kalman.set_index(['date'])\n",
        "#p_kalman.iloc[:,:].plot(marker='o',figsize=(24,14)).set_title('Kalman Prediction')\n",
        "\n",
        "p_kalman2=all_new[['date','India_nan']]\n",
        "p_kalman2=p_kalman2.set_index(['date'])\n",
        "p_kalman2.iloc[:,:].plot(marker='o',figsize=(16,8)).set_title('Kalman Prediction - Select Region to Change - {}'.format(p_kalman2.columns[0]))\n"
      ],
      "execution_count": 43,
      "outputs": [
        {
          "output_type": "execute_result",
          "data": {
            "text/plain": [
              "Text(0.5, 1.0, 'Kalman Prediction - Select Region to Change - India_nan')"
            ]
          },
          "metadata": {
            "tags": []
          },
          "execution_count": 43
        },
        {
          "output_type": "display_data",
          "data": {
            "image/png": "[encoded data removed]",
            "text/plain": [
              "<Figure size 1152x576 with 1 Axes>"
            ]
          },
          "metadata": {
            "tags": []
          }
        }
      ]
    },
    {
      "cell_type": "code",
      "metadata": {
        "id": "QNTnYVFWkh9F",
        "outputId": "33f1f5f5-ffcf-43cf-d360-33d23567c18c",
        "trusted": false,
        "colab_type": "code",
        "colab": {
          "base_uri": "https://localhost:8080/",
          "height": 606
        }
      },
      "source": [
        "all_new"
      ],
      "execution_count": 45,
      "outputs": [
        {
          "output_type": "execute_result",
          "data": {
            "text/html": [
              "<div>\n",
              "<style scoped>\n",
              "    .dataframe tbody tr th:only-of-type {\n",
              "        vertical-align: middle;\n",
              "    }\n",
              "\n",
              "    .dataframe tbody tr th {\n",
              "        vertical-align: top;\n",
              "    }\n",
              "\n",
              "    .dataframe thead th {\n",
              "        text-align: right;\n",
              "    }\n",
              "</style>\n",
              "<table border=\"1\" class=\"dataframe\">\n",
              "  <thead>\n",
              "    <tr style=\"text-align: right;\">\n",
              "      <th></th>\n",
              "      <th>date</th>\n",
              "      <th>Afghanistan_nan</th>\n",
              "      <th>Algeria_nan</th>\n",
              "      <th>Argentina_nan</th>\n",
              "      <th>Armenia_nan</th>\n",
              "      <th>Australia_New South Wales</th>\n",
              "      <th>Australia_Queensland</th>\n",
              "      <th>Australia_Victoria</th>\n",
              "      <th>Austria_nan</th>\n",
              "      <th>Azerbaijan_nan</th>\n",
              "      <th>Bahrain_nan</th>\n",
              "      <th>Bangladesh_nan</th>\n",
              "      <th>Belarus_nan</th>\n",
              "      <th>Belgium_nan</th>\n",
              "      <th>Bolivia_nan</th>\n",
              "      <th>Bosnia and Herzegovina_nan</th>\n",
              "      <th>Brazil_nan</th>\n",
              "      <th>Bulgaria_nan</th>\n",
              "      <th>Cameroon_nan</th>\n",
              "      <th>Canada_Alberta</th>\n",
              "      <th>Canada_British Columbia</th>\n",
              "      <th>Canada_Ontario</th>\n",
              "      <th>Canada_Quebec</th>\n",
              "      <th>Chile_nan</th>\n",
              "      <th>China_Guangdong</th>\n",
              "      <th>China_Henan</th>\n",
              "      <th>China_Hong Kong</th>\n",
              "      <th>China_Hubei</th>\n",
              "      <th>China_Hunan</th>\n",
              "      <th>China_Zhejiang</th>\n",
              "      <th>Colombia_nan</th>\n",
              "      <th>Cote d'Ivoire_nan</th>\n",
              "      <th>Croatia_nan</th>\n",
              "      <th>Cuba_nan</th>\n",
              "      <th>Czechia_nan</th>\n",
              "      <th>Denmark_nan</th>\n",
              "      <th>Djibouti_nan</th>\n",
              "      <th>Dominican Republic_nan</th>\n",
              "      <th>Ecuador_nan</th>\n",
              "      <th>Egypt_nan</th>\n",
              "      <th>...</th>\n",
              "      <th>Kazakhstan_nan</th>\n",
              "      <th>Korea, South_nan</th>\n",
              "      <th>Kuwait_nan</th>\n",
              "      <th>Lithuania_nan</th>\n",
              "      <th>Luxembourg_nan</th>\n",
              "      <th>Malaysia_nan</th>\n",
              "      <th>Mexico_nan</th>\n",
              "      <th>Moldova_nan</th>\n",
              "      <th>Morocco_nan</th>\n",
              "      <th>Netherlands_nan</th>\n",
              "      <th>New Zealand_nan</th>\n",
              "      <th>Nigeria_nan</th>\n",
              "      <th>North Macedonia_nan</th>\n",
              "      <th>Norway_nan</th>\n",
              "      <th>Oman_nan</th>\n",
              "      <th>Pakistan_nan</th>\n",
              "      <th>Panama_nan</th>\n",
              "      <th>Peru_nan</th>\n",
              "      <th>Philippines_nan</th>\n",
              "      <th>Poland_nan</th>\n",
              "      <th>Portugal_nan</th>\n",
              "      <th>Qatar_nan</th>\n",
              "      <th>Romania_nan</th>\n",
              "      <th>Russia_nan</th>\n",
              "      <th>Saudi Arabia_nan</th>\n",
              "      <th>Serbia_nan</th>\n",
              "      <th>Singapore_nan</th>\n",
              "      <th>Slovakia_nan</th>\n",
              "      <th>Slovenia_nan</th>\n",
              "      <th>South Africa_nan</th>\n",
              "      <th>Spain_nan</th>\n",
              "      <th>Sweden_nan</th>\n",
              "      <th>Switzerland_nan</th>\n",
              "      <th>Thailand_nan</th>\n",
              "      <th>Turkey_nan</th>\n",
              "      <th>Ukraine_nan</th>\n",
              "      <th>United Arab Emirates_nan</th>\n",
              "      <th>United Kingdom_nan</th>\n",
              "      <th>Unites States_nan</th>\n",
              "      <th>Uzbekistan_nan</th>\n",
              "    </tr>\n",
              "  </thead>\n",
              "  <tbody>\n",
              "    <tr>\n",
              "      <th>1</th>\n",
              "      <td>2020-01-22</td>\n",
              "      <td>0.0</td>\n",
              "      <td>0.0</td>\n",
              "      <td>0.0</td>\n",
              "      <td>0.0</td>\n",
              "      <td>0.0</td>\n",
              "      <td>0.0</td>\n",
              "      <td>0.0</td>\n",
              "      <td>0.0</td>\n",
              "      <td>0.0</td>\n",
              "      <td>0.0</td>\n",
              "      <td>0.0</td>\n",
              "      <td>0.0</td>\n",
              "      <td>0.0</td>\n",
              "      <td>0.0</td>\n",
              "      <td>0.0</td>\n",
              "      <td>0.0</td>\n",
              "      <td>0.0</td>\n",
              "      <td>0.0</td>\n",
              "      <td>0.0</td>\n",
              "      <td>0.0</td>\n",
              "      <td>0.0</td>\n",
              "      <td>0.0</td>\n",
              "      <td>0.0</td>\n",
              "      <td>26.0</td>\n",
              "      <td>5.0</td>\n",
              "      <td>0.0</td>\n",
              "      <td>444.0</td>\n",
              "      <td>4.0</td>\n",
              "      <td>10.0</td>\n",
              "      <td>0.0</td>\n",
              "      <td>0.0</td>\n",
              "      <td>0.0</td>\n",
              "      <td>0.0</td>\n",
              "      <td>0.0</td>\n",
              "      <td>0.0</td>\n",
              "      <td>0.0</td>\n",
              "      <td>0.0</td>\n",
              "      <td>0.0</td>\n",
              "      <td>0.0</td>\n",
              "      <td>...</td>\n",
              "      <td>0.0</td>\n",
              "      <td>1.0</td>\n",
              "      <td>0.0</td>\n",
              "      <td>0.0</td>\n",
              "      <td>0.0</td>\n",
              "      <td>0.0</td>\n",
              "      <td>0.0</td>\n",
              "      <td>0.0</td>\n",
              "      <td>0.0</td>\n",
              "      <td>0.0</td>\n",
              "      <td>0.0</td>\n",
              "      <td>0.0</td>\n",
              "      <td>0.0</td>\n",
              "      <td>0.0</td>\n",
              "      <td>0.0</td>\n",
              "      <td>0.0</td>\n",
              "      <td>0.0</td>\n",
              "      <td>0.0</td>\n",
              "      <td>0.0</td>\n",
              "      <td>0.0</td>\n",
              "      <td>0.0</td>\n",
              "      <td>0.0</td>\n",
              "      <td>0.0</td>\n",
              "      <td>0.0</td>\n",
              "      <td>0.0</td>\n",
              "      <td>0.0</td>\n",
              "      <td>0.0</td>\n",
              "      <td>0.0</td>\n",
              "      <td>0.0</td>\n",
              "      <td>0.0</td>\n",
              "      <td>0.0</td>\n",
              "      <td>0.0</td>\n",
              "      <td>0.0</td>\n",
              "      <td>2.0</td>\n",
              "      <td>0.0</td>\n",
              "      <td>0.0</td>\n",
              "      <td>0.0</td>\n",
              "      <td>0.0</td>\n",
              "      <td>1.0</td>\n",
              "      <td>0.0</td>\n",
              "    </tr>\n",
              "    <tr>\n",
              "      <th>2</th>\n",
              "      <td>2020-01-23</td>\n",
              "      <td>0.0</td>\n",
              "      <td>0.0</td>\n",
              "      <td>0.0</td>\n",
              "      <td>0.0</td>\n",
              "      <td>0.0</td>\n",
              "      <td>0.0</td>\n",
              "      <td>0.0</td>\n",
              "      <td>0.0</td>\n",
              "      <td>0.0</td>\n",
              "      <td>0.0</td>\n",
              "      <td>0.0</td>\n",
              "      <td>0.0</td>\n",
              "      <td>0.0</td>\n",
              "      <td>0.0</td>\n",
              "      <td>0.0</td>\n",
              "      <td>0.0</td>\n",
              "      <td>0.0</td>\n",
              "      <td>0.0</td>\n",
              "      <td>0.0</td>\n",
              "      <td>0.0</td>\n",
              "      <td>0.0</td>\n",
              "      <td>0.0</td>\n",
              "      <td>0.0</td>\n",
              "      <td>32.0</td>\n",
              "      <td>5.0</td>\n",
              "      <td>2.0</td>\n",
              "      <td>444.0</td>\n",
              "      <td>9.0</td>\n",
              "      <td>27.0</td>\n",
              "      <td>0.0</td>\n",
              "      <td>0.0</td>\n",
              "      <td>0.0</td>\n",
              "      <td>0.0</td>\n",
              "      <td>0.0</td>\n",
              "      <td>0.0</td>\n",
              "      <td>0.0</td>\n",
              "      <td>0.0</td>\n",
              "      <td>0.0</td>\n",
              "      <td>0.0</td>\n",
              "      <td>...</td>\n",
              "      <td>0.0</td>\n",
              "      <td>1.0</td>\n",
              "      <td>0.0</td>\n",
              "      <td>0.0</td>\n",
              "      <td>0.0</td>\n",
              "      <td>0.0</td>\n",
              "      <td>0.0</td>\n",
              "      <td>0.0</td>\n",
              "      <td>0.0</td>\n",
              "      <td>0.0</td>\n",
              "      <td>0.0</td>\n",
              "      <td>0.0</td>\n",
              "      <td>0.0</td>\n",
              "      <td>0.0</td>\n",
              "      <td>0.0</td>\n",
              "      <td>0.0</td>\n",
              "      <td>0.0</td>\n",
              "      <td>0.0</td>\n",
              "      <td>0.0</td>\n",
              "      <td>0.0</td>\n",
              "      <td>0.0</td>\n",
              "      <td>0.0</td>\n",
              "      <td>0.0</td>\n",
              "      <td>0.0</td>\n",
              "      <td>0.0</td>\n",
              "      <td>0.0</td>\n",
              "      <td>1.0</td>\n",
              "      <td>0.0</td>\n",
              "      <td>0.0</td>\n",
              "      <td>0.0</td>\n",
              "      <td>0.0</td>\n",
              "      <td>0.0</td>\n",
              "      <td>0.0</td>\n",
              "      <td>3.0</td>\n",
              "      <td>0.0</td>\n",
              "      <td>0.0</td>\n",
              "      <td>0.0</td>\n",
              "      <td>0.0</td>\n",
              "      <td>1.0</td>\n",
              "      <td>0.0</td>\n",
              "    </tr>\n",
              "    <tr>\n",
              "      <th>3</th>\n",
              "      <td>2020-01-24</td>\n",
              "      <td>0.0</td>\n",
              "      <td>0.0</td>\n",
              "      <td>0.0</td>\n",
              "      <td>0.0</td>\n",
              "      <td>0.0</td>\n",
              "      <td>0.0</td>\n",
              "      <td>0.0</td>\n",
              "      <td>0.0</td>\n",
              "      <td>0.0</td>\n",
              "      <td>0.0</td>\n",
              "      <td>0.0</td>\n",
              "      <td>0.0</td>\n",
              "      <td>0.0</td>\n",
              "      <td>0.0</td>\n",
              "      <td>0.0</td>\n",
              "      <td>0.0</td>\n",
              "      <td>0.0</td>\n",
              "      <td>0.0</td>\n",
              "      <td>0.0</td>\n",
              "      <td>0.0</td>\n",
              "      <td>0.0</td>\n",
              "      <td>0.0</td>\n",
              "      <td>0.0</td>\n",
              "      <td>53.0</td>\n",
              "      <td>9.0</td>\n",
              "      <td>2.0</td>\n",
              "      <td>549.0</td>\n",
              "      <td>24.0</td>\n",
              "      <td>43.0</td>\n",
              "      <td>0.0</td>\n",
              "      <td>0.0</td>\n",
              "      <td>0.0</td>\n",
              "      <td>0.0</td>\n",
              "      <td>0.0</td>\n",
              "      <td>0.0</td>\n",
              "      <td>0.0</td>\n",
              "      <td>0.0</td>\n",
              "      <td>0.0</td>\n",
              "      <td>0.0</td>\n",
              "      <td>...</td>\n",
              "      <td>0.0</td>\n",
              "      <td>2.0</td>\n",
              "      <td>0.0</td>\n",
              "      <td>0.0</td>\n",
              "      <td>0.0</td>\n",
              "      <td>0.0</td>\n",
              "      <td>0.0</td>\n",
              "      <td>0.0</td>\n",
              "      <td>0.0</td>\n",
              "      <td>0.0</td>\n",
              "      <td>0.0</td>\n",
              "      <td>0.0</td>\n",
              "      <td>0.0</td>\n",
              "      <td>0.0</td>\n",
              "      <td>0.0</td>\n",
              "      <td>0.0</td>\n",
              "      <td>0.0</td>\n",
              "      <td>0.0</td>\n",
              "      <td>0.0</td>\n",
              "      <td>0.0</td>\n",
              "      <td>0.0</td>\n",
              "      <td>0.0</td>\n",
              "      <td>0.0</td>\n",
              "      <td>0.0</td>\n",
              "      <td>0.0</td>\n",
              "      <td>0.0</td>\n",
              "      <td>3.0</td>\n",
              "      <td>0.0</td>\n",
              "      <td>0.0</td>\n",
              "      <td>0.0</td>\n",
              "      <td>0.0</td>\n",
              "      <td>0.0</td>\n",
              "      <td>0.0</td>\n",
              "      <td>5.0</td>\n",
              "      <td>0.0</td>\n",
              "      <td>0.0</td>\n",
              "      <td>0.0</td>\n",
              "      <td>0.0</td>\n",
              "      <td>2.0</td>\n",
              "      <td>0.0</td>\n",
              "    </tr>\n",
              "    <tr>\n",
              "      <th>4</th>\n",
              "      <td>2020-01-25</td>\n",
              "      <td>0.0</td>\n",
              "      <td>0.0</td>\n",
              "      <td>0.0</td>\n",
              "      <td>0.0</td>\n",
              "      <td>0.0</td>\n",
              "      <td>0.0</td>\n",
              "      <td>0.0</td>\n",
              "      <td>0.0</td>\n",
              "      <td>0.0</td>\n",
              "      <td>0.0</td>\n",
              "      <td>0.0</td>\n",
              "      <td>0.0</td>\n",
              "      <td>0.0</td>\n",
              "      <td>0.0</td>\n",
              "      <td>0.0</td>\n",
              "      <td>0.0</td>\n",
              "      <td>0.0</td>\n",
              "      <td>0.0</td>\n",
              "      <td>0.0</td>\n",
              "      <td>0.0</td>\n",
              "      <td>0.0</td>\n",
              "      <td>0.0</td>\n",
              "      <td>0.0</td>\n",
              "      <td>78.0</td>\n",
              "      <td>32.0</td>\n",
              "      <td>5.0</td>\n",
              "      <td>761.0</td>\n",
              "      <td>43.0</td>\n",
              "      <td>62.0</td>\n",
              "      <td>0.0</td>\n",
              "      <td>0.0</td>\n",
              "      <td>0.0</td>\n",
              "      <td>0.0</td>\n",
              "      <td>0.0</td>\n",
              "      <td>0.0</td>\n",
              "      <td>0.0</td>\n",
              "      <td>0.0</td>\n",
              "      <td>0.0</td>\n",
              "      <td>0.0</td>\n",
              "      <td>...</td>\n",
              "      <td>0.0</td>\n",
              "      <td>2.0</td>\n",
              "      <td>0.0</td>\n",
              "      <td>0.0</td>\n",
              "      <td>0.0</td>\n",
              "      <td>3.0</td>\n",
              "      <td>0.0</td>\n",
              "      <td>0.0</td>\n",
              "      <td>0.0</td>\n",
              "      <td>0.0</td>\n",
              "      <td>0.0</td>\n",
              "      <td>0.0</td>\n",
              "      <td>0.0</td>\n",
              "      <td>0.0</td>\n",
              "      <td>0.0</td>\n",
              "      <td>0.0</td>\n",
              "      <td>0.0</td>\n",
              "      <td>0.0</td>\n",
              "      <td>0.0</td>\n",
              "      <td>0.0</td>\n",
              "      <td>0.0</td>\n",
              "      <td>0.0</td>\n",
              "      <td>0.0</td>\n",
              "      <td>0.0</td>\n",
              "      <td>0.0</td>\n",
              "      <td>0.0</td>\n",
              "      <td>3.0</td>\n",
              "      <td>0.0</td>\n",
              "      <td>0.0</td>\n",
              "      <td>0.0</td>\n",
              "      <td>0.0</td>\n",
              "      <td>0.0</td>\n",
              "      <td>0.0</td>\n",
              "      <td>7.0</td>\n",
              "      <td>0.0</td>\n",
              "      <td>0.0</td>\n",
              "      <td>0.0</td>\n",
              "      <td>0.0</td>\n",
              "      <td>2.0</td>\n",
              "      <td>0.0</td>\n",
              "    </tr>\n",
              "    <tr>\n",
              "      <th>5</th>\n",
              "      <td>2020-01-26</td>\n",
              "      <td>0.0</td>\n",
              "      <td>0.0</td>\n",
              "      <td>0.0</td>\n",
              "      <td>0.0</td>\n",
              "      <td>3.0</td>\n",
              "      <td>0.0</td>\n",
              "      <td>1.0</td>\n",
              "      <td>0.0</td>\n",
              "      <td>0.0</td>\n",
              "      <td>0.0</td>\n",
              "      <td>0.0</td>\n",
              "      <td>0.0</td>\n",
              "      <td>0.0</td>\n",
              "      <td>0.0</td>\n",
              "      <td>0.0</td>\n",
              "      <td>0.0</td>\n",
              "      <td>0.0</td>\n",
              "      <td>0.0</td>\n",
              "      <td>0.0</td>\n",
              "      <td>0.0</td>\n",
              "      <td>1.0</td>\n",
              "      <td>0.0</td>\n",
              "      <td>0.0</td>\n",
              "      <td>111.0</td>\n",
              "      <td>83.0</td>\n",
              "      <td>8.0</td>\n",
              "      <td>1058.0</td>\n",
              "      <td>69.0</td>\n",
              "      <td>104.0</td>\n",
              "      <td>0.0</td>\n",
              "      <td>0.0</td>\n",
              "      <td>0.0</td>\n",
              "      <td>0.0</td>\n",
              "      <td>0.0</td>\n",
              "      <td>0.0</td>\n",
              "      <td>0.0</td>\n",
              "      <td>0.0</td>\n",
              "      <td>0.0</td>\n",
              "      <td>0.0</td>\n",
              "      <td>...</td>\n",
              "      <td>0.0</td>\n",
              "      <td>3.0</td>\n",
              "      <td>0.0</td>\n",
              "      <td>0.0</td>\n",
              "      <td>0.0</td>\n",
              "      <td>4.0</td>\n",
              "      <td>0.0</td>\n",
              "      <td>0.0</td>\n",
              "      <td>0.0</td>\n",
              "      <td>0.0</td>\n",
              "      <td>0.0</td>\n",
              "      <td>0.0</td>\n",
              "      <td>0.0</td>\n",
              "      <td>0.0</td>\n",
              "      <td>0.0</td>\n",
              "      <td>0.0</td>\n",
              "      <td>0.0</td>\n",
              "      <td>0.0</td>\n",
              "      <td>0.0</td>\n",
              "      <td>0.0</td>\n",
              "      <td>0.0</td>\n",
              "      <td>0.0</td>\n",
              "      <td>0.0</td>\n",
              "      <td>0.0</td>\n",
              "      <td>0.0</td>\n",
              "      <td>0.0</td>\n",
              "      <td>4.0</td>\n",
              "      <td>0.0</td>\n",
              "      <td>0.0</td>\n",
              "      <td>0.0</td>\n",
              "      <td>0.0</td>\n",
              "      <td>0.0</td>\n",
              "      <td>0.0</td>\n",
              "      <td>8.0</td>\n",
              "      <td>0.0</td>\n",
              "      <td>0.0</td>\n",
              "      <td>0.0</td>\n",
              "      <td>0.0</td>\n",
              "      <td>5.0</td>\n",
              "      <td>0.0</td>\n",
              "    </tr>\n",
              "    <tr>\n",
              "      <th>...</th>\n",
              "      <td>...</td>\n",
              "      <td>...</td>\n",
              "      <td>...</td>\n",
              "      <td>...</td>\n",
              "      <td>...</td>\n",
              "      <td>...</td>\n",
              "      <td>...</td>\n",
              "      <td>...</td>\n",
              "      <td>...</td>\n",
              "      <td>...</td>\n",
              "      <td>...</td>\n",
              "      <td>...</td>\n",
              "      <td>...</td>\n",
              "      <td>...</td>\n",
              "      <td>...</td>\n",
              "      <td>...</td>\n",
              "      <td>...</td>\n",
              "      <td>...</td>\n",
              "      <td>...</td>\n",
              "      <td>...</td>\n",
              "      <td>...</td>\n",
              "      <td>...</td>\n",
              "      <td>...</td>\n",
              "      <td>...</td>\n",
              "      <td>...</td>\n",
              "      <td>...</td>\n",
              "      <td>...</td>\n",
              "      <td>...</td>\n",
              "      <td>...</td>\n",
              "      <td>...</td>\n",
              "      <td>...</td>\n",
              "      <td>...</td>\n",
              "      <td>...</td>\n",
              "      <td>...</td>\n",
              "      <td>...</td>\n",
              "      <td>...</td>\n",
              "      <td>...</td>\n",
              "      <td>...</td>\n",
              "      <td>...</td>\n",
              "      <td>...</td>\n",
              "      <td>...</td>\n",
              "      <td>...</td>\n",
              "      <td>...</td>\n",
              "      <td>...</td>\n",
              "      <td>...</td>\n",
              "      <td>...</td>\n",
              "      <td>...</td>\n",
              "      <td>...</td>\n",
              "      <td>...</td>\n",
              "      <td>...</td>\n",
              "      <td>...</td>\n",
              "      <td>...</td>\n",
              "      <td>...</td>\n",
              "      <td>...</td>\n",
              "      <td>...</td>\n",
              "      <td>...</td>\n",
              "      <td>...</td>\n",
              "      <td>...</td>\n",
              "      <td>...</td>\n",
              "      <td>...</td>\n",
              "      <td>...</td>\n",
              "      <td>...</td>\n",
              "      <td>...</td>\n",
              "      <td>...</td>\n",
              "      <td>...</td>\n",
              "      <td>...</td>\n",
              "      <td>...</td>\n",
              "      <td>...</td>\n",
              "      <td>...</td>\n",
              "      <td>...</td>\n",
              "      <td>...</td>\n",
              "      <td>...</td>\n",
              "      <td>...</td>\n",
              "      <td>...</td>\n",
              "      <td>...</td>\n",
              "      <td>...</td>\n",
              "      <td>...</td>\n",
              "      <td>...</td>\n",
              "      <td>...</td>\n",
              "      <td>...</td>\n",
              "      <td>...</td>\n",
              "    </tr>\n",
              "    <tr>\n",
              "      <th>125</th>\n",
              "      <td>2020-05-25</td>\n",
              "      <td>3699.0</td>\n",
              "      <td>5894.0</td>\n",
              "      <td>7491.0</td>\n",
              "      <td>2468.0</td>\n",
              "      <td>3524.0</td>\n",
              "      <td>1763.0</td>\n",
              "      <td>1838.0</td>\n",
              "      <td>16891.0</td>\n",
              "      <td>3026.0</td>\n",
              "      <td>5696.0</td>\n",
              "      <td>14271.0</td>\n",
              "      <td>22387.0</td>\n",
              "      <td>62555.0</td>\n",
              "      <td>1725.0</td>\n",
              "      <td>2477.0</td>\n",
              "      <td>116661.0</td>\n",
              "      <td>2283.0</td>\n",
              "      <td>3154.0</td>\n",
              "      <td>8777.0</td>\n",
              "      <td>3708.0</td>\n",
              "      <td>25172.0</td>\n",
              "      <td>32396.0</td>\n",
              "      <td>27030.0</td>\n",
              "      <td>2173.0</td>\n",
              "      <td>1629.0</td>\n",
              "      <td>1645.0</td>\n",
              "      <td>97833.0</td>\n",
              "      <td>1194.0</td>\n",
              "      <td>1443.0</td>\n",
              "      <td>10485.0</td>\n",
              "      <td>1948.0</td>\n",
              "      <td>2998.0</td>\n",
              "      <td>2657.0</td>\n",
              "      <td>11750.0</td>\n",
              "      <td>14274.0</td>\n",
              "      <td>1457.0</td>\n",
              "      <td>9125.0</td>\n",
              "      <td>49134.0</td>\n",
              "      <td>8630.0</td>\n",
              "      <td>...</td>\n",
              "      <td>4450.0</td>\n",
              "      <td>18478.0</td>\n",
              "      <td>7492.0</td>\n",
              "      <td>1827.0</td>\n",
              "      <td>5022.0</td>\n",
              "      <td>7222.0</td>\n",
              "      <td>34684.0</td>\n",
              "      <td>6987.0</td>\n",
              "      <td>8029.0</td>\n",
              "      <td>51458.0</td>\n",
              "      <td>1915.0</td>\n",
              "      <td>2859.0</td>\n",
              "      <td>1984.0</td>\n",
              "      <td>10262.0</td>\n",
              "      <td>5860.0</td>\n",
              "      <td>27669.0</td>\n",
              "      <td>12838.0</td>\n",
              "      <td>57335.0</td>\n",
              "      <td>11494.0</td>\n",
              "      <td>15237.0</td>\n",
              "      <td>34209.0</td>\n",
              "      <td>33288.0</td>\n",
              "      <td>15992.0</td>\n",
              "      <td>150365.0</td>\n",
              "      <td>36138.0</td>\n",
              "      <td>9782.0</td>\n",
              "      <td>38953.0</td>\n",
              "      <td>2145.0</td>\n",
              "      <td>2149.0</td>\n",
              "      <td>11905.0</td>\n",
              "      <td>272891.0</td>\n",
              "      <td>34324.0</td>\n",
              "      <td>32870.0</td>\n",
              "      <td>3825.0</td>\n",
              "      <td>167567.0</td>\n",
              "      <td>14872.0</td>\n",
              "      <td>23453.0</td>\n",
              "      <td>252446.0</td>\n",
              "      <td>1383346.0</td>\n",
              "      <td>2820.0</td>\n",
              "    </tr>\n",
              "    <tr>\n",
              "      <th>126</th>\n",
              "      <td>2020-05-26</td>\n",
              "      <td>3699.0</td>\n",
              "      <td>6071.0</td>\n",
              "      <td>7491.0</td>\n",
              "      <td>2504.0</td>\n",
              "      <td>3694.0</td>\n",
              "      <td>1883.0</td>\n",
              "      <td>1929.0</td>\n",
              "      <td>17361.0</td>\n",
              "      <td>3222.0</td>\n",
              "      <td>5877.0</td>\n",
              "      <td>14271.0</td>\n",
              "      <td>23208.0</td>\n",
              "      <td>62555.0</td>\n",
              "      <td>1820.0</td>\n",
              "      <td>2477.0</td>\n",
              "      <td>116661.0</td>\n",
              "      <td>2283.0</td>\n",
              "      <td>3154.0</td>\n",
              "      <td>8806.0</td>\n",
              "      <td>3708.0</td>\n",
              "      <td>25172.0</td>\n",
              "      <td>33475.0</td>\n",
              "      <td>27432.0</td>\n",
              "      <td>2173.0</td>\n",
              "      <td>1636.0</td>\n",
              "      <td>1659.0</td>\n",
              "      <td>97833.0</td>\n",
              "      <td>1217.0</td>\n",
              "      <td>1443.0</td>\n",
              "      <td>10485.0</td>\n",
              "      <td>1948.0</td>\n",
              "      <td>2998.0</td>\n",
              "      <td>2657.0</td>\n",
              "      <td>11814.0</td>\n",
              "      <td>14311.0</td>\n",
              "      <td>1494.0</td>\n",
              "      <td>9125.0</td>\n",
              "      <td>49134.0</td>\n",
              "      <td>8630.0</td>\n",
              "      <td>...</td>\n",
              "      <td>4450.0</td>\n",
              "      <td>18478.0</td>\n",
              "      <td>7820.0</td>\n",
              "      <td>1827.0</td>\n",
              "      <td>5102.0</td>\n",
              "      <td>7222.0</td>\n",
              "      <td>36129.0</td>\n",
              "      <td>7274.0</td>\n",
              "      <td>8508.0</td>\n",
              "      <td>51458.0</td>\n",
              "      <td>1915.0</td>\n",
              "      <td>2859.0</td>\n",
              "      <td>2027.0</td>\n",
              "      <td>10869.0</td>\n",
              "      <td>5860.0</td>\n",
              "      <td>27669.0</td>\n",
              "      <td>12838.0</td>\n",
              "      <td>61049.0</td>\n",
              "      <td>11740.0</td>\n",
              "      <td>15237.0</td>\n",
              "      <td>35207.0</td>\n",
              "      <td>33288.0</td>\n",
              "      <td>15992.0</td>\n",
              "      <td>155459.0</td>\n",
              "      <td>36138.0</td>\n",
              "      <td>9782.0</td>\n",
              "      <td>39403.0</td>\n",
              "      <td>2186.0</td>\n",
              "      <td>2149.0</td>\n",
              "      <td>11905.0</td>\n",
              "      <td>272891.0</td>\n",
              "      <td>36448.0</td>\n",
              "      <td>32870.0</td>\n",
              "      <td>3825.0</td>\n",
              "      <td>167567.0</td>\n",
              "      <td>14872.0</td>\n",
              "      <td>24025.0</td>\n",
              "      <td>252446.0</td>\n",
              "      <td>1383346.0</td>\n",
              "      <td>2838.0</td>\n",
              "    </tr>\n",
              "    <tr>\n",
              "      <th>127</th>\n",
              "      <td>2020-05-27</td>\n",
              "      <td>3792.0</td>\n",
              "      <td>6071.0</td>\n",
              "      <td>7491.0</td>\n",
              "      <td>2619.0</td>\n",
              "      <td>3739.0</td>\n",
              "      <td>1958.0</td>\n",
              "      <td>1929.0</td>\n",
              "      <td>17638.0</td>\n",
              "      <td>3222.0</td>\n",
              "      <td>6213.0</td>\n",
              "      <td>14271.0</td>\n",
              "      <td>23208.0</td>\n",
              "      <td>63050.0</td>\n",
              "      <td>1820.0</td>\n",
              "      <td>2477.0</td>\n",
              "      <td>116661.0</td>\n",
              "      <td>2489.0</td>\n",
              "      <td>3154.0</td>\n",
              "      <td>9412.0</td>\n",
              "      <td>3708.0</td>\n",
              "      <td>25172.0</td>\n",
              "      <td>33671.0</td>\n",
              "      <td>27432.0</td>\n",
              "      <td>2189.0</td>\n",
              "      <td>1636.0</td>\n",
              "      <td>1771.0</td>\n",
              "      <td>98668.0</td>\n",
              "      <td>1217.0</td>\n",
              "      <td>1460.0</td>\n",
              "      <td>10485.0</td>\n",
              "      <td>1948.0</td>\n",
              "      <td>3195.0</td>\n",
              "      <td>2657.0</td>\n",
              "      <td>11814.0</td>\n",
              "      <td>14311.0</td>\n",
              "      <td>1494.0</td>\n",
              "      <td>9125.0</td>\n",
              "      <td>49134.0</td>\n",
              "      <td>9204.0</td>\n",
              "      <td>...</td>\n",
              "      <td>4536.0</td>\n",
              "      <td>18919.0</td>\n",
              "      <td>8006.0</td>\n",
              "      <td>1827.0</td>\n",
              "      <td>5102.0</td>\n",
              "      <td>7339.0</td>\n",
              "      <td>36129.0</td>\n",
              "      <td>7608.0</td>\n",
              "      <td>8508.0</td>\n",
              "      <td>51458.0</td>\n",
              "      <td>1915.0</td>\n",
              "      <td>2859.0</td>\n",
              "      <td>2062.0</td>\n",
              "      <td>11382.0</td>\n",
              "      <td>6212.0</td>\n",
              "      <td>27669.0</td>\n",
              "      <td>12838.0</td>\n",
              "      <td>61049.0</td>\n",
              "      <td>11740.0</td>\n",
              "      <td>15237.0</td>\n",
              "      <td>36358.0</td>\n",
              "      <td>33427.0</td>\n",
              "      <td>15992.0</td>\n",
              "      <td>160493.0</td>\n",
              "      <td>36138.0</td>\n",
              "      <td>10372.0</td>\n",
              "      <td>39403.0</td>\n",
              "      <td>2186.0</td>\n",
              "      <td>2280.0</td>\n",
              "      <td>11905.0</td>\n",
              "      <td>272891.0</td>\n",
              "      <td>36448.0</td>\n",
              "      <td>33482.0</td>\n",
              "      <td>3825.0</td>\n",
              "      <td>167567.0</td>\n",
              "      <td>14872.0</td>\n",
              "      <td>24060.0</td>\n",
              "      <td>255079.0</td>\n",
              "      <td>1383346.0</td>\n",
              "      <td>2838.0</td>\n",
              "    </tr>\n",
              "    <tr>\n",
              "      <th>128</th>\n",
              "      <td>2020-05-28</td>\n",
              "      <td>3839.0</td>\n",
              "      <td>6382.0</td>\n",
              "      <td>7491.0</td>\n",
              "      <td>2652.0</td>\n",
              "      <td>3741.0</td>\n",
              "      <td>1958.0</td>\n",
              "      <td>1929.0</td>\n",
              "      <td>17638.0</td>\n",
              "      <td>3391.0</td>\n",
              "      <td>6511.0</td>\n",
              "      <td>14271.0</td>\n",
              "      <td>24762.0</td>\n",
              "      <td>63050.0</td>\n",
              "      <td>1829.0</td>\n",
              "      <td>2477.0</td>\n",
              "      <td>118448.0</td>\n",
              "      <td>2489.0</td>\n",
              "      <td>3216.0</td>\n",
              "      <td>9412.0</td>\n",
              "      <td>3946.0</td>\n",
              "      <td>25172.0</td>\n",
              "      <td>33671.0</td>\n",
              "      <td>27432.0</td>\n",
              "      <td>2189.0</td>\n",
              "      <td>1708.0</td>\n",
              "      <td>1805.0</td>\n",
              "      <td>98668.0</td>\n",
              "      <td>1217.0</td>\n",
              "      <td>1460.0</td>\n",
              "      <td>10485.0</td>\n",
              "      <td>1948.0</td>\n",
              "      <td>3295.0</td>\n",
              "      <td>2657.0</td>\n",
              "      <td>12102.0</td>\n",
              "      <td>14311.0</td>\n",
              "      <td>1505.0</td>\n",
              "      <td>9691.0</td>\n",
              "      <td>51544.0</td>\n",
              "      <td>9204.0</td>\n",
              "      <td>...</td>\n",
              "      <td>4536.0</td>\n",
              "      <td>19176.0</td>\n",
              "      <td>8006.0</td>\n",
              "      <td>1827.0</td>\n",
              "      <td>5102.0</td>\n",
              "      <td>7339.0</td>\n",
              "      <td>38547.0</td>\n",
              "      <td>8042.0</td>\n",
              "      <td>8617.0</td>\n",
              "      <td>51458.0</td>\n",
              "      <td>2017.0</td>\n",
              "      <td>3002.0</td>\n",
              "      <td>2188.0</td>\n",
              "      <td>11383.0</td>\n",
              "      <td>6438.0</td>\n",
              "      <td>27669.0</td>\n",
              "      <td>13210.0</td>\n",
              "      <td>61538.0</td>\n",
              "      <td>11740.0</td>\n",
              "      <td>15535.0</td>\n",
              "      <td>37340.0</td>\n",
              "      <td>33792.0</td>\n",
              "      <td>16001.0</td>\n",
              "      <td>160493.0</td>\n",
              "      <td>36138.0</td>\n",
              "      <td>10372.0</td>\n",
              "      <td>41218.0</td>\n",
              "      <td>2211.0</td>\n",
              "      <td>2373.0</td>\n",
              "      <td>11905.0</td>\n",
              "      <td>272891.0</td>\n",
              "      <td>36448.0</td>\n",
              "      <td>33482.0</td>\n",
              "      <td>3825.0</td>\n",
              "      <td>167567.0</td>\n",
              "      <td>15582.0</td>\n",
              "      <td>24745.0</td>\n",
              "      <td>261704.0</td>\n",
              "      <td>1383346.0</td>\n",
              "      <td>2852.0</td>\n",
              "    </tr>\n",
              "    <tr>\n",
              "      <th>129</th>\n",
              "      <td>2020-05-29</td>\n",
              "      <td>3839.0</td>\n",
              "      <td>6382.0</td>\n",
              "      <td>7491.0</td>\n",
              "      <td>2774.0</td>\n",
              "      <td>3844.0</td>\n",
              "      <td>2086.0</td>\n",
              "      <td>2025.0</td>\n",
              "      <td>18653.0</td>\n",
              "      <td>3627.0</td>\n",
              "      <td>6897.0</td>\n",
              "      <td>14863.0</td>\n",
              "      <td>26120.0</td>\n",
              "      <td>63050.0</td>\n",
              "      <td>1829.0</td>\n",
              "      <td>2631.0</td>\n",
              "      <td>124308.0</td>\n",
              "      <td>2564.0</td>\n",
              "      <td>3216.0</td>\n",
              "      <td>9412.0</td>\n",
              "      <td>4091.0</td>\n",
              "      <td>25172.0</td>\n",
              "      <td>35094.0</td>\n",
              "      <td>27432.0</td>\n",
              "      <td>2189.0</td>\n",
              "      <td>1719.0</td>\n",
              "      <td>1857.0</td>\n",
              "      <td>98668.0</td>\n",
              "      <td>1217.0</td>\n",
              "      <td>1460.0</td>\n",
              "      <td>10485.0</td>\n",
              "      <td>1948.0</td>\n",
              "      <td>3295.0</td>\n",
              "      <td>2820.0</td>\n",
              "      <td>12102.0</td>\n",
              "      <td>14342.0</td>\n",
              "      <td>1505.0</td>\n",
              "      <td>9691.0</td>\n",
              "      <td>52224.0</td>\n",
              "      <td>9204.0</td>\n",
              "      <td>...</td>\n",
              "      <td>4692.0</td>\n",
              "      <td>19176.0</td>\n",
              "      <td>8006.0</td>\n",
              "      <td>1931.0</td>\n",
              "      <td>5102.0</td>\n",
              "      <td>7339.0</td>\n",
              "      <td>38547.0</td>\n",
              "      <td>8042.0</td>\n",
              "      <td>8617.0</td>\n",
              "      <td>53031.0</td>\n",
              "      <td>2017.0</td>\n",
              "      <td>3002.0</td>\n",
              "      <td>2188.0</td>\n",
              "      <td>11383.0</td>\n",
              "      <td>6721.0</td>\n",
              "      <td>27669.0</td>\n",
              "      <td>13210.0</td>\n",
              "      <td>61538.0</td>\n",
              "      <td>11740.0</td>\n",
              "      <td>15535.0</td>\n",
              "      <td>37340.0</td>\n",
              "      <td>33792.0</td>\n",
              "      <td>16073.0</td>\n",
              "      <td>160493.0</td>\n",
              "      <td>36138.0</td>\n",
              "      <td>10845.0</td>\n",
              "      <td>43876.0</td>\n",
              "      <td>2341.0</td>\n",
              "      <td>2373.0</td>\n",
              "      <td>12477.0</td>\n",
              "      <td>273265.0</td>\n",
              "      <td>36448.0</td>\n",
              "      <td>33482.0</td>\n",
              "      <td>3825.0</td>\n",
              "      <td>176913.0</td>\n",
              "      <td>16073.0</td>\n",
              "      <td>25880.0</td>\n",
              "      <td>272402.0</td>\n",
              "      <td>1383346.0</td>\n",
              "      <td>2976.0</td>\n",
              "    </tr>\n",
              "  </tbody>\n",
              "</table>\n",
              "<p>129 rows × 97 columns</p>\n",
              "</div>"
            ],
            "text/plain": [
              "          date  Afghanistan_nan  ...  Unites States_nan  Uzbekistan_nan\n",
              "1   2020-01-22              0.0  ...                1.0             0.0\n",
              "2   2020-01-23              0.0  ...                1.0             0.0\n",
              "3   2020-01-24              0.0  ...                2.0             0.0\n",
              "4   2020-01-25              0.0  ...                2.0             0.0\n",
              "5   2020-01-26              0.0  ...                5.0             0.0\n",
              "..         ...              ...  ...                ...             ...\n",
              "125 2020-05-25           3699.0  ...          1383346.0          2820.0\n",
              "126 2020-05-26           3699.0  ...          1383346.0          2838.0\n",
              "127 2020-05-27           3792.0  ...          1383346.0          2838.0\n",
              "128 2020-05-28           3839.0  ...          1383346.0          2852.0\n",
              "129 2020-05-29           3839.0  ...          1383346.0          2976.0\n",
              "\n",
              "[129 rows x 97 columns]"
            ]
          },
          "metadata": {
            "tags": []
          },
          "execution_count": 45
        }
      ]
    },
    {
      "cell_type": "markdown",
      "metadata": {
        "id": "fG1bQXnGltDt",
        "colab_type": "text"
      },
      "source": [
        "All the countries having the predictions"
      ]
    },
    {
      "cell_type": "markdown",
      "metadata": {
        "id": "St7UvHAImOqL",
        "colab_type": "text"
      },
      "source": [
        "# **Iterative Regression**"
      ]
    },
    {
      "cell_type": "markdown",
      "metadata": {
        "id": "VfQAdlAVQCsz",
        "colab_type": "text"
      },
      "source": [
        "* Fitting the regression model to our data."
      ]
    },
    {
      "cell_type": "code",
      "metadata": {
        "id": "A0twXJiOl1VL",
        "outputId": "e57358e3-9b9c-4396-f9fa-ef39648a9d0d",
        "trusted": false,
        "colab_type": "code",
        "colab": {
          "base_uri": "https://localhost:8080/",
          "height": 118
        }
      },
      "source": [
        "t_iter=all_new.set_index(['date'])\n",
        "t_iter=t_iter.stack().reset_index(name='confirmed')\n",
        "t_iter.columns=['date', 'region','confirmed']\n",
        "t_iter['date']=pd.to_datetime(t_iter['date'] ,errors ='coerce')\n",
        "t_iter=t_iter.sort_values(['region', 'date'])\n",
        "\n",
        "t_iter=t_iter.reset_index(drop=True)\n",
        "for i in range(1,len(t_iter)+1):\n",
        "  if(t_iter.iloc[i,1] is not t_iter.iloc[i-1,1]):\n",
        "    t_iter.loc[len(t_iter)+1] = [t_iter.iloc[i-1,0]+ pd.DateOffset(1),t_iter.iloc[i-1,1], 0] \n",
        "t_iter=t_iter.sort_values(['region', 'date'])\n",
        "t_iter=t_iter.reset_index(drop=True)\n",
        "\n",
        "t_iter['1_day_change']=t_iter['3_day_change']=t_iter['7_day_change']=t_iter['1_day_change_rate']=t_iter['3_day_change_rate']=t_iter['7_day_change_rate']=t_iter['last_day']=0\n",
        "for i in range(1,len(t_iter)):\n",
        "  if(t_iter.iloc[i,1] is t_iter.iloc[i-2,1]):\n",
        "    t_iter.iloc[i,3]=t_iter.iloc[i-1,2]-t_iter.iloc[i-2,2]\n",
        "    t_iter.iloc[i,6]=(t_iter.iloc[i-1,2]/t_iter.iloc[i-2,2]-1)*100\n",
        "    t_iter.iloc[i,9]=t_iter.iloc[i-1,2]\n",
        "  if(t_iter.iloc[i,1] is t_iter.iloc[i-4,1]):\n",
        "    t_iter.iloc[i,4]=t_iter.iloc[i-1,2]-t_iter.iloc[i-4,2]\n",
        "    t_iter.iloc[i,7]=(t_iter.iloc[i-1,2]/t_iter.iloc[i-4,2]-1)*100\n",
        "  if(t_iter.iloc[i,1] is t_iter.iloc[i-8,1]):\n",
        "    t_iter.iloc[i,5]=t_iter.iloc[i-1,2]-t_iter.iloc[i-8,2]\n",
        "    t_iter.iloc[i,8]=(t_iter.iloc[i-1,2]/t_iter.iloc[i-8,2]-1)*100\n",
        "t_iter=t_iter.fillna(0)  \n",
        "\n",
        "# t_iter=t_iter.merge(temp[['date','region', 'X']],how='left',on=['date','region'])\n",
        "# t_iter=t_iter.rename(columns = {'X':'kalman_prediction'}) \n",
        "t_iter=t_iter.replace([np.inf, -np.inf], 0)\n",
        "t_iter['kalman_prediction']=round(t_iter['confirmed'])\n",
        "test_iter=t_iter.merge(confirmed[['region',' Population ']],how='left',on='region')\n",
        "test_iter=test_iter.rename(columns = {' Population ':'population'})\n",
        "test_iter['population']=test_iter['population'].str.replace(r\" \", '')\n",
        "test_iter['population']=test_iter['population'].str.replace(r\",\", '')\n",
        "test_iter['population']=test_iter['population'].fillna(1)\n",
        "test_iter['population']=test_iter['population'].astype('int32')\n",
        "test_iter['infected_rate'] =test_iter['last_day']/test_iter['population']*10000\n",
        "test_iter=test_iter.merge(w,how='left',on=['date','region'])\n",
        "#test_iter=test_iter.sort_values(['region', 'date'])\n",
        "test_iter_temp=test_iter[np.isnan(test_iter['min'])]\n",
        "test_iter_temp=test_iter_temp.drop(columns=['min', 'max'])\n",
        "test_iter_temp=test_iter_temp.merge(w_forecast,how='left',on=['date','region'])\n",
        "test_iter=test_iter.dropna()\n",
        "test_iter=test_iter.append(test_iter_temp)\n",
        "test_iter=test_iter.sort_values(['region', 'date'])\n",
        "### fill missing weather \n",
        "for i in range(0,len(test_iter)):\n",
        "  if(np.isnan(test_iter.iloc[i,13])):\n",
        "    if(test_iter.iloc[i,1] is test_iter.iloc[i-1,1]):\n",
        "      test_iter.iloc[i,13]=test_iter.iloc[i-1,13]+abs(test_iter.iloc[i-1,13]*.01)\n",
        "      test_iter.iloc[i,14]=test_iter.iloc[i-1,14]+abs(test_iter.iloc[i-1,14]*.01)"
      ],
      "execution_count": 46,
      "outputs": [
        {
          "output_type": "stream",
          "text": [
            "/usr/local/lib/python3.6/dist-packages/ipykernel_launcher.py:18: RuntimeWarning: invalid value encountered in double_scalars\n",
            "/usr/local/lib/python3.6/dist-packages/ipykernel_launcher.py:22: RuntimeWarning: invalid value encountered in double_scalars\n",
            "/usr/local/lib/python3.6/dist-packages/ipykernel_launcher.py:25: RuntimeWarning: invalid value encountered in double_scalars\n",
            "/usr/local/lib/python3.6/dist-packages/ipykernel_launcher.py:18: RuntimeWarning: divide by zero encountered in double_scalars\n",
            "/usr/local/lib/python3.6/dist-packages/ipykernel_launcher.py:22: RuntimeWarning: divide by zero encountered in double_scalars\n",
            "/usr/local/lib/python3.6/dist-packages/ipykernel_launcher.py:25: RuntimeWarning: divide by zero encountered in double_scalars\n"
          ],
          "name": "stderr"
        }
      ]
    },
    {
      "cell_type": "markdown",
      "metadata": {
        "id": "pEmAqKjaQCs6",
        "colab_type": "text"
      },
      "source": [
        "* Filling the missing values with 0 values."
      ]
    },
    {
      "cell_type": "code",
      "metadata": {
        "id": "F_SHDEnVmdP0",
        "trusted": false,
        "colab_type": "code",
        "colab": {}
      },
      "source": [
        "test_iter=test_iter.fillna(0) "
      ],
      "execution_count": 0,
      "outputs": []
    },
    {
      "cell_type": "code",
      "metadata": {
        "id": "vvQE36ZTnDiU",
        "trusted": false,
        "colab_type": "code",
        "colab": {}
      },
      "source": [
        "pred=reg.predict(test_iter[x_col]); pred=pd.DataFrame(pred); pred.columns = ['prediction'];pred=round(pred)\n",
        "pred['confirmed']=test_iter['confirmed'].values; pred['date']=test_iter['date'].values; pred['region']=test_iter['region'].values\n",
        "for i in range(1,len(pred)):\n",
        "    if(pred.iloc[i,3] is pred.iloc[i-1,3]):\n",
        "      if(pred.iloc[i,0]<pred.iloc[i-1,1]):\n",
        "        pred.iloc[i,0]=pred.iloc[i-1,1]\n",
        "pred = pred.pivot_table(index='date',columns='region',values='prediction') # pivot pred df"
      ],
      "execution_count": 0,
      "outputs": []
    },
    {
      "cell_type": "markdown",
      "metadata": {
        "id": "OeCpfe-nQCtO",
        "colab_type": "text"
      },
      "source": [
        "* Displaying the information about the datatypes present in different columns of the pred-DataFrame."
      ]
    },
    {
      "cell_type": "code",
      "metadata": {
        "id": "cuRv8_YZjWKu",
        "outputId": "c41a3d04-2949-49b4-f9f4-020fffb01729",
        "trusted": false,
        "colab_type": "code",
        "colab": {
          "base_uri": "https://localhost:8080/",
          "height": 1000
        }
      },
      "source": [
        "pred.info()"
      ],
      "execution_count": 49,
      "outputs": [
        {
          "output_type": "stream",
          "text": [
            "<class 'pandas.core.frame.DataFrame'>\n",
            "DatetimeIndex: 130 entries, 2020-01-22 to 2020-05-30\n",
            "Data columns (total 96 columns):\n",
            " #   Column                      Non-Null Count  Dtype  \n",
            "---  ------                      --------------  -----  \n",
            " 0   Afghanistan_nan             130 non-null    float64\n",
            " 1   Algeria_nan                 130 non-null    float64\n",
            " 2   Argentina_nan               130 non-null    float64\n",
            " 3   Armenia_nan                 130 non-null    float64\n",
            " 4   Australia_New South Wales   130 non-null    float64\n",
            " 5   Australia_Queensland        130 non-null    float64\n",
            " 6   Australia_Victoria          130 non-null    float64\n",
            " 7   Austria_nan                 130 non-null    float64\n",
            " 8   Azerbaijan_nan              130 non-null    float64\n",
            " 9   Bahrain_nan                 130 non-null    float64\n",
            " 10  Bangladesh_nan              130 non-null    float64\n",
            " 11  Belarus_nan                 130 non-null    float64\n",
            " 12  Belgium_nan                 130 non-null    float64\n",
            " 13  Bolivia_nan                 130 non-null    float64\n",
            " 14  Bosnia and Herzegovina_nan  130 non-null    float64\n",
            " 15  Brazil_nan                  130 non-null    float64\n",
            " 16  Bulgaria_nan                130 non-null    float64\n",
            " 17  Cameroon_nan                130 non-null    float64\n",
            " 18  Canada_Alberta              130 non-null    float64\n",
            " 19  Canada_British Columbia     130 non-null    float64\n",
            " 20  Canada_Ontario              130 non-null    float64\n",
            " 21  Canada_Quebec               130 non-null    float64\n",
            " 22  Chile_nan                   130 non-null    float64\n",
            " 23  China_Guangdong             130 non-null    float64\n",
            " 24  China_Henan                 130 non-null    float64\n",
            " 25  China_Hong Kong             130 non-null    float64\n",
            " 26  China_Hubei                 130 non-null    float64\n",
            " 27  China_Hunan                 130 non-null    float64\n",
            " 28  China_Zhejiang              130 non-null    float64\n",
            " 29  Colombia_nan                130 non-null    float64\n",
            " 30  Cote d'Ivoire_nan           130 non-null    float64\n",
            " 31  Croatia_nan                 130 non-null    float64\n",
            " 32  Cuba_nan                    130 non-null    float64\n",
            " 33  Czechia_nan                 130 non-null    float64\n",
            " 34  Denmark_nan                 130 non-null    float64\n",
            " 35  Djibouti_nan                130 non-null    float64\n",
            " 36  Dominican Republic_nan      130 non-null    float64\n",
            " 37  Ecuador_nan                 130 non-null    float64\n",
            " 38  Egypt_nan                   130 non-null    float64\n",
            " 39  Estonia_nan                 130 non-null    float64\n",
            " 40  Finland_nan                 130 non-null    float64\n",
            " 41  France_nan                  130 non-null    float64\n",
            " 42  Germany_nan                 130 non-null    float64\n",
            " 43  Ghana_nan                   130 non-null    float64\n",
            " 44  Greece_nan                  130 non-null    float64\n",
            " 45  Guinea_nan                  130 non-null    float64\n",
            " 46  Hungary_nan                 130 non-null    float64\n",
            " 47  Iceland_nan                 130 non-null    float64\n",
            " 48  India_nan                   130 non-null    float64\n",
            " 49  Indonesia_nan               130 non-null    float64\n",
            " 50  Iran_nan                    130 non-null    float64\n",
            " 51  Iraq_nan                    130 non-null    float64\n",
            " 52  Ireland_nan                 130 non-null    float64\n",
            " 53  Israel_nan                  130 non-null    float64\n",
            " 54  Italy_nan                   130 non-null    float64\n",
            " 55  Japan_nan                   130 non-null    float64\n",
            " 56  Kazakhstan_nan              130 non-null    float64\n",
            " 57  Korea, South_nan            130 non-null    float64\n",
            " 58  Kuwait_nan                  130 non-null    float64\n",
            " 59  Lithuania_nan               130 non-null    float64\n",
            " 60  Luxembourg_nan              130 non-null    float64\n",
            " 61  Malaysia_nan                130 non-null    float64\n",
            " 62  Mexico_nan                  130 non-null    float64\n",
            " 63  Moldova_nan                 130 non-null    float64\n",
            " 64  Morocco_nan                 130 non-null    float64\n",
            " 65  Netherlands_nan             130 non-null    float64\n",
            " 66  New Zealand_nan             130 non-null    float64\n",
            " 67  Nigeria_nan                 130 non-null    float64\n",
            " 68  North Macedonia_nan         130 non-null    float64\n",
            " 69  Norway_nan                  130 non-null    float64\n",
            " 70  Oman_nan                    130 non-null    float64\n",
            " 71  Pakistan_nan                130 non-null    float64\n",
            " 72  Panama_nan                  130 non-null    float64\n",
            " 73  Peru_nan                    130 non-null    float64\n",
            " 74  Philippines_nan             130 non-null    float64\n",
            " 75  Poland_nan                  130 non-null    float64\n",
            " 76  Portugal_nan                130 non-null    float64\n",
            " 77  Qatar_nan                   130 non-null    float64\n",
            " 78  Romania_nan                 130 non-null    float64\n",
            " 79  Russia_nan                  130 non-null    float64\n",
            " 80  Saudi Arabia_nan            130 non-null    float64\n",
            " 81  Serbia_nan                  130 non-null    float64\n",
            " 82  Singapore_nan               130 non-null    float64\n",
            " 83  Slovakia_nan                130 non-null    float64\n",
            " 84  Slovenia_nan                130 non-null    float64\n",
            " 85  South Africa_nan            130 non-null    float64\n",
            " 86  Spain_nan                   130 non-null    float64\n",
            " 87  Sweden_nan                  130 non-null    float64\n",
            " 88  Switzerland_nan             130 non-null    float64\n",
            " 89  Thailand_nan                130 non-null    float64\n",
            " 90  Turkey_nan                  130 non-null    float64\n",
            " 91  Ukraine_nan                 130 non-null    float64\n",
            " 92  United Arab Emirates_nan    130 non-null    float64\n",
            " 93  United Kingdom_nan          130 non-null    float64\n",
            " 94  Unites States_nan           130 non-null    float64\n",
            " 95  Uzbekistan_nan              130 non-null    float64\n",
            "dtypes: float64(96)\n",
            "memory usage: 98.5 KB\n"
          ],
          "name": "stdout"
        }
      ]
    },
    {
      "cell_type": "markdown",
      "metadata": {
        "id": "hVisDZzKQCte",
        "colab_type": "text"
      },
      "source": [
        "* Now saving the above obtained predictions for using them in the npi prediction step."
      ]
    },
    {
      "cell_type": "code",
      "metadata": {
        "id": "wNERy0nN4_Xs",
        "trusted": false,
        "colab_type": "code",
        "colab": {}
      },
      "source": [
        "d = pred\n",
        "d = d.T\n",
        "d.to_csv(r'/content/gdrive/My Drive/covid19h/pred.csv')\n"
      ],
      "execution_count": 0,
      "outputs": []
    },
    {
      "cell_type": "markdown",
      "metadata": {
        "id": "m9vun1qwQCtk",
        "colab_type": "text"
      },
      "source": [
        "# Now, we go into step 2 wherin we are going to try and predict the best applicable npis for a particular situation.\n",
        "\n",
        "* Again as a prelimnary step, we will be importing all the necessary packages, libraries and algorithms.\n",
        "\n",
        "* For more details regarding the algorithms and their usage on your own dataset, please find it here: https://scikit-learn.org/"
      ]
    },
    {
      "cell_type": "code",
      "metadata": {
        "trusted": true,
        "id": "YdZMpkSAQCtk",
        "colab_type": "code",
        "colab": {}
      },
      "source": [
        "# Importing the libraries\n",
        "import numpy as np\n",
        "import pandas as pd\n",
        "import datetime \n",
        "import calendar \n",
        "# data visualization\n",
        "import seaborn as sns\n",
        "from matplotlib import pyplot as plt\n",
        "from matplotlib import style\n",
        "from sklearn.preprocessing import StandardScaler\n",
        "\n",
        "# Algorithms\n",
        "from sklearn import linear_model\n",
        "from sklearn.linear_model import LogisticRegression\n",
        "from sklearn.ensemble import RandomForestClassifier\n",
        "from sklearn.linear_model import Perceptron\n",
        "from sklearn.linear_model import SGDClassifier\n",
        "from sklearn.tree import DecisionTreeClassifier\n",
        "from sklearn.neighbors import KNeighborsClassifier\n",
        "from sklearn.svm import SVC, LinearSVC\n",
        "from sklearn.naive_bayes import GaussianNB\n",
        "from sklearn.metrics import accuracy_score\n",
        "from sklearn.tree import ExtraTreeClassifier"
      ],
      "execution_count": 0,
      "outputs": []
    },
    {
      "cell_type": "markdown",
      "metadata": {
        "id": "uTNKSzIAQCto",
        "colab_type": "text"
      },
      "source": [
        "# Importing our cleaned and modified dataset.\n",
        "\n",
        "* Sources:\n",
        "\n",
        "* https://www.kaggle.com/sudalairajkumar/novel-corona-virus-2019-dataset \n",
        "\n",
        "* https://www.kaggle.com/davidoj/covid19-national-responses-dataset\n",
        "\n",
        "* https://www.kaggle.com/fernandol/countries-of-the-world\n",
        "\n",
        "Also the prediction-values which I have saved in the last phase of step 1.\n",
        "\n",
        "Some details regarding the columns of mastersheet prediction are:\n",
        "\n",
        "* Each row is an entry/instance of a particular Npi getting implemented.\n",
        "\n",
        "* Country: This column represents the country to which the entry belongs to.\n",
        "\n",
        "* Net migration: The net migration rate is the difference between the number of immigrants (people coming into an area) and the number of emigrants (people leaving an area) throughout the year.\n",
        "\n",
        "* Population density: Population density is the number of individuals per unit geographic area, for example, number per square meter, per hectare, or per square kilometer.\n",
        "\n",
        "* Sex Ratio: The sex ratio is the ratio of males to females in a population.\n",
        "\n",
        "* Population age-distribution: Age distribution, also called Age Composition, in population studies, the proportionate numbers of persons in successive age categories in a given population. (0-14yrs/60+yrs %)\n",
        "\n",
        "* Health physicians per 1000 population: Number of medical doctors (physicians), including generalist and specialist medical practitioners, per 1 000 population.\n",
        "\n",
        "* Mobile cellular subscription per 100 inhabitants: Mobile cellular telephone subscriptions are subscriptions to a public mobile telephone service that provide access to the PSTN using cellular technology.\n",
        "\n",
        "* Active on day: The number of active cases of covid19 infections in that particular country on the day it was implemented.\n",
        "\n",
        "* Sevenday, twelveday and thirty day predictions are for active cases from the date it was implemented.\n",
        "\n",
        "* And the date-implemented is converted to whether it was a week-day or a week-end to make it usable for training.\n",
        "\n",
        "* The last column represents the category to which the npi that implemented belonged to.\n",
        "\n",
        "Category 1: Public -health measures and social-distancing.\n",
        "\n",
        "Category 2: Social-economic measures and movement-restrictions.\n",
        "\n",
        "Category 3: Partial/complete lockdown.\n"
      ]
    },
    {
      "cell_type": "markdown",
      "metadata": {
        "id": "tD4nAk9gQCtr",
        "colab_type": "text"
      },
      "source": [
        "* To categorise the npis we followed a 5 step analysis:\n",
        "\n",
        "* Step 1: We choosed 6 different countries that have implemented atleast one of the above-mentioned npis.\n",
        "\n",
        "* Step 2: We had chosen a particular date wherein one of the npi was implemented.\n",
        "\n",
        "* Step 3: From that date (chosen) we had calculated 5day, 8day, 12day growth rate in the number of confirmed cases in that country.\n",
        "\n",
        "* Step 4: According to: 1) https://www.ncbi.nlm.nih.gov/pmc/articles/PMC4327893/\n",
        "    2) https://www.worldometers.info/coronavirus/coronavirus-incubation-period/\n",
        "    we took a reference that, over 50% of the people who are affected on day1 show symptoms by day5, over 30% of the people affected on           day1 show symptoms by day8 and the last 20% start showing symptoms by day12. Assuming that, they get a checkup as soon as they are             showing symptoms, we had calculated a cumilative growth rate.\n",
        "* Step 5: This cumilative growth rate was not very accurate due to the population densities of the countries being different. So, we had normalised the obtained scores from step4 by the population densities. That gave us the following results.\n",
        "\n",
        "* More information can be found here: https://archive.is/JNx03 and https://archive.is/UA3g14"
      ]
    },
    {
      "cell_type": "markdown",
      "metadata": {
        "id": "uX73UKbPQCts",
        "colab_type": "text"
      },
      "source": [
        "* [ (896.4961042933885, 'CHINA', 'SOCIAL DISTANCING'),\n",
        "*  (720.7571447424511, 'FRANCE', 'PUBLIC HEALTH MEASURES'),\n",
        "*  (578.0345389562175, 'SPAIN', 'SOCIAL AND ECONOMIC MEASURES'),\n",
        "*  (527.7087251438776, 'IRAN', 'MOV RESTRICTION'),\n",
        "*  (484.1021819976962, 'ITALY', 'PARTIAL LOCKDOWN'),\n",
        "*  (207.67676767676767, 'INDIA', 'COMPLETE LOCKDOWN')]\n",
        "\n",
        "Ex: (Cumilative growthrate(normalised), Country Name, Measure-taken)"
      ]
    },
    {
      "cell_type": "markdown",
      "metadata": {
        "id": "JPEFtFhoQCtt",
        "colab_type": "text"
      },
      "source": [
        "* So the above analysis shows the decreasing order of growth rates, however this is not very accurate due to various other reasons, but this gives a rough estimate of the effectiveness/strength of the npis."
      ]
    },
    {
      "cell_type": "markdown",
      "metadata": {
        "id": "f1zGhDyQQCtu",
        "colab_type": "text"
      },
      "source": [
        "* With this categorisation in mind, let's go the next step."
      ]
    },
    {
      "cell_type": "markdown",
      "metadata": {
        "id": "nwI-bzRDQCtx",
        "colab_type": "text"
      },
      "source": [
        "So, the dataset that we used is: https://www.kaggle.com/davidoj/covid19-national-responses-dataset"
      ]
    },
    {
      "cell_type": "code",
      "metadata": {
        "trusted": true,
        "id": "KPynDuXmQCtz",
        "colab_type": "code",
        "colab": {}
      },
      "source": [
        "dataset = pd.read_csv(\"/content/gdrive/My Drive/covid19h/mastersheetprediction.csv\")"
      ],
      "execution_count": 0,
      "outputs": []
    },
    {
      "cell_type": "markdown",
      "metadata": {
        "id": "utEEF0jDQCt7",
        "colab_type": "text"
      },
      "source": [
        "* Noting down the information of the dataset for a quick look,"
      ]
    },
    {
      "cell_type": "code",
      "metadata": {
        "trusted": true,
        "id": "KfqQs-K6QCt8",
        "colab_type": "code",
        "colab": {
          "base_uri": "https://localhost:8080/",
          "height": 370
        },
        "outputId": "5bf0f1f6-7277-4872-b44c-794d35b65cc5"
      },
      "source": [
        "dataset.info()"
      ],
      "execution_count": 53,
      "outputs": [
        {
          "output_type": "stream",
          "text": [
            "<class 'pandas.core.frame.DataFrame'>\n",
            "RangeIndex: 891 entries, 0 to 890\n",
            "Data columns (total 14 columns):\n",
            " #   Column                                               Non-Null Count  Dtype  \n",
            "---  ------                                               --------------  -----  \n",
            " 0   Country                                              891 non-null    object \n",
            " 1   Net migration                                        891 non-null    float64\n",
            " 2   Population density (per km2, 2017)                   891 non-null    float64\n",
            " 3   Sex ratio (m per 100 f, 2017)                        891 non-null    float64\n",
            " 4   Population age distribution (0-14   60+ years, %)    891 non-null    float64\n",
            " 5   Health: Physicians (per 1000 pop.)                   891 non-null    float64\n",
            " 6   Mobile-cellular subscriptions (per 100 inhabitants)  891 non-null    float64\n",
            " 7   activeondateimp                                      891 non-null    int64  \n",
            " 8   Sevendaypred                                         891 non-null    float64\n",
            " 9   twelvedaypred                                        891 non-null    float64\n",
            " 10  thirtydaypred                                        891 non-null    float64\n",
            " 11  Weekend                                              891 non-null    int64  \n",
            " 12  Weekday                                              891 non-null    int64  \n",
            " 13  CATEGORY                                             891 non-null    int64  \n",
            "dtypes: float64(9), int64(4), object(1)\n",
            "memory usage: 97.6+ KB\n"
          ],
          "name": "stdout"
        }
      ]
    },
    {
      "cell_type": "markdown",
      "metadata": {
        "id": "S6bcAPGkQCuC",
        "colab_type": "text"
      },
      "source": [
        "# There are 54 countries in the dataset, which have more than 1000cases at the time of creating this notebook."
      ]
    },
    {
      "cell_type": "code",
      "metadata": {
        "trusted": true,
        "id": "vmyH0eptQCuD",
        "colab_type": "code",
        "colab": {
          "base_uri": "https://localhost:8080/",
          "height": 202
        },
        "outputId": "bf78566d-22db-4c42-aa01-edce0bcc1b8c"
      },
      "source": [
        "dataset.Country.unique()"
      ],
      "execution_count": 54,
      "outputs": [
        {
          "output_type": "execute_result",
          "data": {
            "text/plain": [
              "array(['Algeria', 'Argentina', 'Austria', 'Belgium', 'Brazil', 'Chile',\n",
              "       'China', 'Colombia', 'Croatia', 'Czech Republic', 'Denmark',\n",
              "       'Dominican Republic', 'Ecuador', 'Egypt', 'Estonia', 'Finland',\n",
              "       'France', 'Germany', 'Greece', 'Iceland', 'India', 'Indonesia',\n",
              "       'Iran', 'Ireland', 'Israel', 'Italy', 'Japan', 'Luxembourg',\n",
              "       'Malaysia', 'Mexico', 'Morocco', 'Netherlands', 'New Zealand',\n",
              "       'Norway', 'Pakistan', 'Panama', 'Peru', 'Philippines', 'Poland',\n",
              "       'Portugal', 'Qatar', 'Romania', 'Saudi Arabia', 'Serbia',\n",
              "       'South Africa', 'Spain', 'Sweden', 'Switzerland', 'Thailand',\n",
              "       'Turkey', 'Ukraine', 'United Arab Emirates', 'United Kingdom',\n",
              "       'United States of America'], dtype=object)"
            ]
          },
          "metadata": {
            "tags": []
          },
          "execution_count": 54
        }
      ]
    },
    {
      "cell_type": "markdown",
      "metadata": {
        "id": "vnyjq6HhQCuL",
        "colab_type": "text"
      },
      "source": [
        "# Now extracting the input-features and the target by df.iloc function.\n",
        "* For more information regarding the df.iloc, please use this link: https://pandas.pydata.org/pandas-docs/stable/reference/api/pandas.DataFrame.iloc.html"
      ]
    },
    {
      "cell_type": "code",
      "metadata": {
        "trusted": true,
        "id": "SDgMv4GKQCuM",
        "colab_type": "code",
        "colab": {}
      },
      "source": [
        "X = dataset.iloc[:, 0:13].values# input feature\n",
        "y = dataset.iloc[:, 13].values# label/target"
      ],
      "execution_count": 0,
      "outputs": []
    },
    {
      "cell_type": "markdown",
      "metadata": {
        "id": "deNFal6_QCuR",
        "colab_type": "text"
      },
      "source": [
        "* Checking the shape by using the numpy.ndarray.shape function.\n",
        "\n",
        "* Find more information here: https://docs.scipy.org/doc/numpy/reference/generated/numpy.ndarray.shape.html"
      ]
    },
    {
      "cell_type": "code",
      "metadata": {
        "trusted": true,
        "id": "Pr62gTgxQCuS",
        "colab_type": "code",
        "colab": {
          "base_uri": "https://localhost:8080/",
          "height": 34
        },
        "outputId": "4e3e1dfe-f795-46ef-ad9b-687bd004c1c9"
      },
      "source": [
        "X.shape, y.shape"
      ],
      "execution_count": 56,
      "outputs": [
        {
          "output_type": "execute_result",
          "data": {
            "text/plain": [
              "((891, 13), (891,))"
            ]
          },
          "metadata": {
            "tags": []
          },
          "execution_count": 56
        }
      ]
    },
    {
      "cell_type": "markdown",
      "metadata": {
        "id": "yXYs6taRQCuW",
        "colab_type": "text"
      },
      "source": [
        "* The next step is encoding the categorical data, this was done using labelencoder and one-hot encoder.\n",
        "\n",
        "* You can find more information regarding the sklearn-preprocessing library here: http://scikit-learn.org/stable/modules/preprocessing.html\n",
        "\n",
        "* Instead of one-hot encoder, we used using ColumnTransformer here: http://scikit-learn.org/stable/modules/generated/sklearn.compose.ColumnTransformer.html"
      ]
    },
    {
      "cell_type": "code",
      "metadata": {
        "trusted": true,
        "id": "Oe4BBfMBQCuX",
        "colab_type": "code",
        "colab": {}
      },
      "source": [
        "from sklearn.preprocessing import LabelEncoder, OneHotEncoder\n",
        "from sklearn.compose import ColumnTransformer"
      ],
      "execution_count": 0,
      "outputs": []
    },
    {
      "cell_type": "code",
      "metadata": {
        "trusted": true,
        "id": "WLKZ0zjnQCuc",
        "colab_type": "code",
        "colab": {}
      },
      "source": [
        "#encoding the X\n",
        "ct = ColumnTransformer([(\"Country\", OneHotEncoder(), [0])], remainder = 'passthrough')\n",
        "X = ct.fit_transform(X)\n",
        "X = X[:, 0:]"
      ],
      "execution_count": 0,
      "outputs": []
    },
    {
      "cell_type": "markdown",
      "metadata": {
        "id": "CXv_sBOHQCui",
        "colab_type": "text"
      },
      "source": [
        "# Now we split the dataset into train and test set.\n",
        "\n",
        "* We will used train_test_split for this part, find more information here: http://scikit-learn.org/stable/modules/generated/sklearn.model_selection.train_test_split.html"
      ]
    },
    {
      "cell_type": "code",
      "metadata": {
        "trusted": true,
        "id": "zSc7u-81QCui",
        "colab_type": "code",
        "colab": {}
      },
      "source": [
        "from sklearn.model_selection import train_test_split\n",
        "X_train, X_test, y_train, y_test = train_test_split(X, y, test_size = 0.15, random_state = 0)"
      ],
      "execution_count": 0,
      "outputs": []
    },
    {
      "cell_type": "markdown",
      "metadata": {
        "id": "H1UP59X6QCum",
        "colab_type": "text"
      },
      "source": [
        "# We would be feature scaling the inputs.\n",
        "\n",
        "* We used standard StandardScaler function from sklearn's preprocessing library.\n",
        "\n",
        "* Find more information here: http://scikit-learn.org/stable/modules/generated/sklearn.preprocessing.StandardScaler.html"
      ]
    },
    {
      "cell_type": "code",
      "metadata": {
        "trusted": true,
        "id": "lZj91KOyQCun",
        "colab_type": "code",
        "colab": {}
      },
      "source": [
        "# Feature Scaling\n",
        "from sklearn.preprocessing import StandardScaler\n",
        "sc = StandardScaler()\n",
        "X_train = sc.fit_transform(X_train.toarray())\n",
        "X_test = sc.transform(X_test.toarray())"
      ],
      "execution_count": 0,
      "outputs": []
    },
    {
      "cell_type": "markdown",
      "metadata": {
        "id": "X5OZU887QCuq",
        "colab_type": "text"
      },
      "source": [
        "# Checking the frequencies of our categories in the target array-(y)\n",
        "\n",
        "* We use the np.unique() function, find more information here: https://docs.scipy.org/doc/numpy/reference/generated/numpy.unique.html"
      ]
    },
    {
      "cell_type": "code",
      "metadata": {
        "trusted": true,
        "id": "lX71KXOpQCuq",
        "colab_type": "code",
        "colab": {
          "base_uri": "https://localhost:8080/",
          "height": 34
        },
        "outputId": "7b083147-d6ee-4ff3-9d36-7434ba633498"
      },
      "source": [
        "np.unique(y, return_counts=True)"
      ],
      "execution_count": 61,
      "outputs": [
        {
          "output_type": "execute_result",
          "data": {
            "text/plain": [
              "(array([1, 2, 3]), array([459, 395,  37]))"
            ]
          },
          "metadata": {
            "tags": []
          },
          "execution_count": 61
        }
      ]
    },
    {
      "cell_type": "markdown",
      "metadata": {
        "id": "lN8btmPzQCuu",
        "colab_type": "text"
      },
      "source": [
        "# Class-imbalance problem.\n",
        "\n",
        "* We notice that there is a class-imbalance problem. The caegory 3 is a minority class which is only 2% of the dataset.\n",
        "\n",
        "* To tackle this problem we have used smote technique(over-sampling technique as we have less number of examples), find more information here: https://imbalanced-learn.readthedocs.io/en/stable/generated/imblearn.over_sampling.SMOTE.html\n"
      ]
    },
    {
      "cell_type": "code",
      "metadata": {
        "trusted": true,
        "id": "G_BFIh9WQCuy",
        "colab_type": "code",
        "colab": {
          "base_uri": "https://localhost:8080/",
          "height": 1000
        },
        "outputId": "6921c8d6-93d6-421c-ee07-a1af728eb2e9"
      },
      "source": [
        "!pip install smote-variants"
      ],
      "execution_count": 62,
      "outputs": [
        {
          "output_type": "stream",
          "text": [
            "Collecting smote-variants\n",
            "\u001b[?25l  Downloading https://files.pythonhosted.org/packages/c2/a9/ce76c71804f935c00e7a4f4222ea83744f88ae140b080e4428535fc88ddc/smote_variants-0.3.13-py3-none-any.whl (131kB)\n",
            "     |████████████████████████████████| 133kB 4.9MB/s \n",
            "\u001b[?25hRequirement already satisfied: scipy in /usr/local/lib/python3.6/dist-packages (from smote-variants) (1.4.1)\n",
            "Collecting statistics\n",
            "  Downloading https://files.pythonhosted.org/packages/bb/3a/ae99a15e65636559d936dd2159d75af1619491e8cb770859fbc8aa62cef6/statistics-1.0.3.5.tar.gz\n",
            "Requirement already satisfied: pandas in /usr/local/lib/python3.6/dist-packages (from smote-variants) (1.0.3)\n",
            "Requirement already satisfied: keras in /usr/local/lib/python3.6/dist-packages (from smote-variants) (2.3.1)\n",
            "Requirement already satisfied: numpy>=1.13.0 in /usr/local/lib/python3.6/dist-packages (from smote-variants) (1.18.3)\n",
            "Requirement already satisfied: scikit-learn in /usr/local/lib/python3.6/dist-packages (from smote-variants) (0.22.2.post1)\n",
            "Requirement already satisfied: mkl in /usr/local/lib/python3.6/dist-packages (from smote-variants) (2019.0)\n",
            "Requirement already satisfied: tensorflow in /usr/local/lib/python3.6/dist-packages (from smote-variants) (2.2.0rc3)\n",
            "Collecting minisom\n",
            "  Downloading https://files.pythonhosted.org/packages/10/17/88e894b68c062f6917e77a657927c9199b63d24ebbd0c34682816d3c770d/MiniSom-2.2.5.tar.gz\n",
            "Requirement already satisfied: joblib in /usr/local/lib/python3.6/dist-packages (from smote-variants) (0.14.1)\n",
            "Requirement already satisfied: docutils>=0.3 in /usr/local/lib/python3.6/dist-packages (from statistics->smote-variants) (0.15.2)\n",
            "Requirement already satisfied: pytz>=2017.2 in /usr/local/lib/python3.6/dist-packages (from pandas->smote-variants) (2018.9)\n",
            "Requirement already satisfied: python-dateutil>=2.6.1 in /usr/local/lib/python3.6/dist-packages (from pandas->smote-variants) (2.8.1)\n",
            "Requirement already satisfied: keras-applications>=1.0.6 in /usr/local/lib/python3.6/dist-packages (from keras->smote-variants) (1.0.8)\n",
            "Requirement already satisfied: pyyaml in /usr/local/lib/python3.6/dist-packages (from keras->smote-variants) (3.13)\n",
            "Requirement already satisfied: keras-preprocessing>=1.0.5 in /usr/local/lib/python3.6/dist-packages (from keras->smote-variants) (1.1.0)\n",
            "Requirement already satisfied: six>=1.9.0 in /usr/local/lib/python3.6/dist-packages (from keras->smote-variants) (1.12.0)\n",
            "Requirement already satisfied: h5py in /usr/local/lib/python3.6/dist-packages (from keras->smote-variants) (2.10.0)\n",
            "Requirement already satisfied: intel-openmp in /usr/local/lib/python3.6/dist-packages (from mkl->smote-variants) (2020.0.133)\n",
            "Requirement already satisfied: opt-einsum>=2.3.2 in /usr/local/lib/python3.6/dist-packages (from tensorflow->smote-variants) (3.2.1)\n",
            "Requirement already satisfied: astunparse==1.6.3 in /usr/local/lib/python3.6/dist-packages (from tensorflow->smote-variants) (1.6.3)\n",
            "Requirement already satisfied: termcolor>=1.1.0 in /usr/local/lib/python3.6/dist-packages (from tensorflow->smote-variants) (1.1.0)\n",
            "Requirement already satisfied: google-pasta>=0.1.8 in /usr/local/lib/python3.6/dist-packages (from tensorflow->smote-variants) (0.2.0)\n",
            "Requirement already satisfied: grpcio>=1.8.6 in /usr/local/lib/python3.6/dist-packages (from tensorflow->smote-variants) (1.28.1)\n",
            "Requirement already satisfied: wheel>=0.26; python_version >= \"3\" in /usr/local/lib/python3.6/dist-packages (from tensorflow->smote-variants) (0.34.2)\n",
            "Requirement already satisfied: wrapt>=1.11.1 in /usr/local/lib/python3.6/dist-packages (from tensorflow->smote-variants) (1.12.1)\n",
            "Requirement already satisfied: tensorboard<2.3.0,>=2.2.0 in /usr/local/lib/python3.6/dist-packages (from tensorflow->smote-variants) (2.2.1)\n",
            "Requirement already satisfied: absl-py>=0.7.0 in /usr/local/lib/python3.6/dist-packages (from tensorflow->smote-variants) (0.9.0)\n",
            "Requirement already satisfied: gast==0.3.3 in /usr/local/lib/python3.6/dist-packages (from tensorflow->smote-variants) (0.3.3)\n",
            "Requirement already satisfied: protobuf>=3.8.0 in /usr/local/lib/python3.6/dist-packages (from tensorflow->smote-variants) (3.10.0)\n",
            "Requirement already satisfied: tensorflow-estimator<2.3.0,>=2.2.0rc0 in /usr/local/lib/python3.6/dist-packages (from tensorflow->smote-variants) (2.2.0)\n",
            "Requirement already satisfied: requests<3,>=2.21.0 in /usr/local/lib/python3.6/dist-packages (from tensorboard<2.3.0,>=2.2.0->tensorflow->smote-variants) (2.21.0)\n",
            "Requirement already satisfied: setuptools>=41.0.0 in /usr/local/lib/python3.6/dist-packages (from tensorboard<2.3.0,>=2.2.0->tensorflow->smote-variants) (46.1.3)\n",
            "Requirement already satisfied: markdown>=2.6.8 in /usr/local/lib/python3.6/dist-packages (from tensorboard<2.3.0,>=2.2.0->tensorflow->smote-variants) (3.2.1)\n",
            "Requirement already satisfied: tensorboard-plugin-wit>=1.6.0 in /usr/local/lib/python3.6/dist-packages (from tensorboard<2.3.0,>=2.2.0->tensorflow->smote-variants) (1.6.0.post3)\n",
            "Requirement already satisfied: google-auth-oauthlib<0.5,>=0.4.1 in /usr/local/lib/python3.6/dist-packages (from tensorboard<2.3.0,>=2.2.0->tensorflow->smote-variants) (0.4.1)\n",
            "Requirement already satisfied: werkzeug>=0.11.15 in /usr/local/lib/python3.6/dist-packages (from tensorboard<2.3.0,>=2.2.0->tensorflow->smote-variants) (1.0.1)\n",
            "Requirement already satisfied: google-auth<2,>=1.6.3 in /usr/local/lib/python3.6/dist-packages (from tensorboard<2.3.0,>=2.2.0->tensorflow->smote-variants) (1.7.2)\n",
            "Requirement already satisfied: chardet<3.1.0,>=3.0.2 in /usr/local/lib/python3.6/dist-packages (from requests<3,>=2.21.0->tensorboard<2.3.0,>=2.2.0->tensorflow->smote-variants) (3.0.4)\n",
            "Requirement already satisfied: idna<2.9,>=2.5 in /usr/local/lib/python3.6/dist-packages (from requests<3,>=2.21.0->tensorboard<2.3.0,>=2.2.0->tensorflow->smote-variants) (2.8)\n",
            "Requirement already satisfied: urllib3<1.25,>=1.21.1 in /usr/local/lib/python3.6/dist-packages (from requests<3,>=2.21.0->tensorboard<2.3.0,>=2.2.0->tensorflow->smote-variants) (1.24.3)\n",
            "Requirement already satisfied: certifi>=2017.4.17 in /usr/local/lib/python3.6/dist-packages (from requests<3,>=2.21.0->tensorboard<2.3.0,>=2.2.0->tensorflow->smote-variants) (2020.4.5.1)\n",
            "Requirement already satisfied: requests-oauthlib>=0.7.0 in /usr/local/lib/python3.6/dist-packages (from google-auth-oauthlib<0.5,>=0.4.1->tensorboard<2.3.0,>=2.2.0->tensorflow->smote-variants) (1.3.0)\n",
            "Requirement already satisfied: cachetools<3.2,>=2.0.0 in /usr/local/lib/python3.6/dist-packages (from google-auth<2,>=1.6.3->tensorboard<2.3.0,>=2.2.0->tensorflow->smote-variants) (3.1.1)\n",
            "Requirement already satisfied: rsa<4.1,>=3.1.4 in /usr/local/lib/python3.6/dist-packages (from google-auth<2,>=1.6.3->tensorboard<2.3.0,>=2.2.0->tensorflow->smote-variants) (4.0)\n",
            "Requirement already satisfied: pyasn1-modules>=0.2.1 in /usr/local/lib/python3.6/dist-packages (from google-auth<2,>=1.6.3->tensorboard<2.3.0,>=2.2.0->tensorflow->smote-variants) (0.2.8)\n",
            "Requirement already satisfied: oauthlib>=3.0.0 in /usr/local/lib/python3.6/dist-packages (from requests-oauthlib>=0.7.0->google-auth-oauthlib<0.5,>=0.4.1->tensorboard<2.3.0,>=2.2.0->tensorflow->smote-variants) (3.1.0)\n",
            "Requirement already satisfied: pyasn1>=0.1.3 in /usr/local/lib/python3.6/dist-packages (from rsa<4.1,>=3.1.4->google-auth<2,>=1.6.3->tensorboard<2.3.0,>=2.2.0->tensorflow->smote-variants) (0.4.8)\n",
            "Building wheels for collected packages: statistics, minisom\n",
            "  Building wheel for statistics (setup.py) ... \u001b[?25l\u001b[?25hdone\n",
            "  Created wheel for statistics: filename=statistics-1.0.3.5-cp36-none-any.whl size=7453 sha256=8d4a9dca47fd912c941720916f5a972a3d41a2135e3564a01930adc746848718\n",
            "  Stored in directory: /root/.cache/pip/wheels/75/55/90/73aa7662bfb4565b567618547a275f01372a678ca92ecd64f3\n",
            "  Building wheel for minisom (setup.py) ... \u001b[?25l\u001b[?25hdone\n",
            "  Created wheel for minisom: filename=MiniSom-2.2.5-cp36-none-any.whl size=8474 sha256=3c2ef1e25645fe120604576a9fe170e48a71bbf874acc8a5363086d4e754c097\n",
            "  Stored in directory: /root/.cache/pip/wheels/39/5b/16/cc9402ffc58cafb1da6997e5c94b1bde65e8cb214907879fd4\n",
            "Successfully built statistics minisom\n",
            "Installing collected packages: statistics, minisom, smote-variants\n",
            "Successfully installed minisom-2.2.5 smote-variants-0.3.13 statistics-1.0.3.5\n"
          ],
          "name": "stdout"
        }
      ]
    },
    {
      "cell_type": "code",
      "metadata": {
        "trusted": true,
        "id": "EDZJe0tQQCu2",
        "colab_type": "code",
        "colab": {
          "base_uri": "https://localhost:8080/",
          "height": 353
        },
        "outputId": "a3885194-fba0-4ba0-f6bd-0691ec457fde"
      },
      "source": [
        "import smote_variants as sv\n",
        "\n",
        "oversampler= sv.MulticlassOversampling(sv.distance_SMOTE())\n",
        "# X_samp and y_samp contain the oversampled train-dataset\n",
        "X_samp, y_samp= oversampler.sample(X_train, y_train)\n",
        "#oversampling the test dataset\n",
        "X_samptest, y_samptest= oversampler.sample(X_test, y_test.ravel())"
      ],
      "execution_count": 63,
      "outputs": [
        {
          "output_type": "stream",
          "text": [
            "2020-04-30 09:15:28,552:INFO:MulticlassOversampling: Running multiclass oversampling with strategy equalize_1_vs_many_successive\n",
            "INFO:smote_variants:MulticlassOversampling: Running multiclass oversampling with strategy equalize_1_vs_many_successive\n",
            "2020-04-30 09:15:28,562:INFO:MulticlassOversampling: Sampling minority class with label: 2\n",
            "INFO:smote_variants:MulticlassOversampling: Sampling minority class with label: 2\n",
            "2020-04-30 09:15:28,569:INFO:distance_SMOTE: Running sampling via ('distance_SMOTE', \"{'proportion': 1.0, 'n_neighbors': 5, 'n_jobs': 1, 'random_state': None}\")\n",
            "INFO:smote_variants:distance_SMOTE: Running sampling via ('distance_SMOTE', \"{'proportion': 1.0, 'n_neighbors': 5, 'n_jobs': 1, 'random_state': None}\")\n",
            "2020-04-30 09:15:28,601:INFO:MulticlassOversampling: Sampling minority class with label: 3\n",
            "INFO:smote_variants:MulticlassOversampling: Sampling minority class with label: 3\n",
            "2020-04-30 09:15:28,605:INFO:distance_SMOTE: Running sampling via ('distance_SMOTE', \"{'proportion': 0.4779116465863454, 'n_neighbors': 5, 'n_jobs': 1, 'random_state': None}\")\n",
            "INFO:smote_variants:distance_SMOTE: Running sampling via ('distance_SMOTE', \"{'proportion': 0.4779116465863454, 'n_neighbors': 5, 'n_jobs': 1, 'random_state': None}\")\n",
            "2020-04-30 09:15:28,633:INFO:MulticlassOversampling: Running multiclass oversampling with strategy equalize_1_vs_many_successive\n",
            "INFO:smote_variants:MulticlassOversampling: Running multiclass oversampling with strategy equalize_1_vs_many_successive\n",
            "2020-04-30 09:15:28,636:INFO:MulticlassOversampling: Sampling minority class with label: 2\n",
            "INFO:smote_variants:MulticlassOversampling: Sampling minority class with label: 2\n",
            "2020-04-30 09:15:28,640:INFO:distance_SMOTE: Running sampling via ('distance_SMOTE', \"{'proportion': 1.0, 'n_neighbors': 5, 'n_jobs': 1, 'random_state': None}\")\n",
            "INFO:smote_variants:distance_SMOTE: Running sampling via ('distance_SMOTE', \"{'proportion': 1.0, 'n_neighbors': 5, 'n_jobs': 1, 'random_state': None}\")\n",
            "2020-04-30 09:15:28,650:INFO:MulticlassOversampling: Sampling minority class with label: 3\n",
            "INFO:smote_variants:MulticlassOversampling: Sampling minority class with label: 3\n",
            "2020-04-30 09:15:28,657:INFO:distance_SMOTE: Running sampling via ('distance_SMOTE', \"{'proportion': 0.48507462686567165, 'n_neighbors': 5, 'n_jobs': 1, 'random_state': None}\")\n",
            "INFO:smote_variants:distance_SMOTE: Running sampling via ('distance_SMOTE', \"{'proportion': 0.48507462686567165, 'n_neighbors': 5, 'n_jobs': 1, 'random_state': None}\")\n"
          ],
          "name": "stderr"
        }
      ]
    },
    {
      "cell_type": "code",
      "metadata": {
        "trusted": true,
        "id": "7He2kPoWQCu5",
        "colab_type": "code",
        "colab": {
          "base_uri": "https://localhost:8080/",
          "height": 34
        },
        "outputId": "37953e9d-89be-4922-aeb3-1c77fb29819b"
      },
      "source": [
        "y_samp.shape, y_samptest.shape"
      ],
      "execution_count": 64,
      "outputs": [
        {
          "output_type": "execute_result",
          "data": {
            "text/plain": [
              "((1170,), (207,))"
            ]
          },
          "metadata": {
            "tags": []
          },
          "execution_count": 64
        }
      ]
    },
    {
      "cell_type": "markdown",
      "metadata": {
        "id": "h15dwNUlQCu-",
        "colab_type": "text"
      },
      "source": [
        "# The problem of multilabel classification.\n",
        "\n",
        "* Multi-label classification is a generalization of multiclass classification, which is the single-label problem of categorizing instances into precisely one of more than two classes.\n",
        "\n",
        "* Our dataset suffers from multilabel classification problem, this is due to that many countries have implemented npis that belong to more than one category in a single day, this makes an entry which have all the input variables same but the target-category is different. \n",
        "\n",
        "* This makes it a difficult problem with the existing features.\n",
        "\n",
        "* Drawback: We did not have any strong differentiating feature in our dataset."
      ]
    },
    {
      "cell_type": "markdown",
      "metadata": {
        "id": "VxangAh0QCu_",
        "colab_type": "text"
      },
      "source": [
        "# To tackle this problem of multilabel classfication problem to an extent we used various multilearn models from sklearn."
      ]
    },
    {
      "cell_type": "markdown",
      "metadata": {
        "id": "dSVO_tnxQCvA",
        "colab_type": "text"
      },
      "source": [
        "# To use the multioutputclassifier, we encoded the category column."
      ]
    },
    {
      "cell_type": "code",
      "metadata": {
        "trusted": true,
        "id": "BHBzFIdvQCvA",
        "colab_type": "code",
        "colab": {
          "base_uri": "https://localhost:8080/",
          "height": 402
        },
        "outputId": "49330b85-8d74-4ca0-c7e9-a61d706544bb"
      },
      "source": [
        "yovs = pd.read_csv(\"/content/gdrive/My Drive/covid19h/oversampletargets.csv\")\n",
        "yovs = yovs.iloc[:,1:]\n",
        "yovs"
      ],
      "execution_count": 66,
      "outputs": [
        {
          "output_type": "execute_result",
          "data": {
            "text/html": [
              "<div>\n",
              "<style scoped>\n",
              "    .dataframe tbody tr th:only-of-type {\n",
              "        vertical-align: middle;\n",
              "    }\n",
              "\n",
              "    .dataframe tbody tr th {\n",
              "        vertical-align: top;\n",
              "    }\n",
              "\n",
              "    .dataframe thead th {\n",
              "        text-align: right;\n",
              "    }\n",
              "</style>\n",
              "<table border=\"1\" class=\"dataframe\">\n",
              "  <thead>\n",
              "    <tr style=\"text-align: right;\">\n",
              "      <th></th>\n",
              "      <th>C1</th>\n",
              "      <th>C2</th>\n",
              "      <th>C3</th>\n",
              "    </tr>\n",
              "  </thead>\n",
              "  <tbody>\n",
              "    <tr>\n",
              "      <th>0</th>\n",
              "      <td>0</td>\n",
              "      <td>1</td>\n",
              "      <td>0</td>\n",
              "    </tr>\n",
              "    <tr>\n",
              "      <th>1</th>\n",
              "      <td>0</td>\n",
              "      <td>1</td>\n",
              "      <td>0</td>\n",
              "    </tr>\n",
              "    <tr>\n",
              "      <th>2</th>\n",
              "      <td>1</td>\n",
              "      <td>0</td>\n",
              "      <td>0</td>\n",
              "    </tr>\n",
              "    <tr>\n",
              "      <th>3</th>\n",
              "      <td>1</td>\n",
              "      <td>0</td>\n",
              "      <td>0</td>\n",
              "    </tr>\n",
              "    <tr>\n",
              "      <th>4</th>\n",
              "      <td>1</td>\n",
              "      <td>0</td>\n",
              "      <td>0</td>\n",
              "    </tr>\n",
              "    <tr>\n",
              "      <th>...</th>\n",
              "      <td>...</td>\n",
              "      <td>...</td>\n",
              "      <td>...</td>\n",
              "    </tr>\n",
              "    <tr>\n",
              "      <th>1165</th>\n",
              "      <td>0</td>\n",
              "      <td>0</td>\n",
              "      <td>1</td>\n",
              "    </tr>\n",
              "    <tr>\n",
              "      <th>1166</th>\n",
              "      <td>0</td>\n",
              "      <td>0</td>\n",
              "      <td>1</td>\n",
              "    </tr>\n",
              "    <tr>\n",
              "      <th>1167</th>\n",
              "      <td>0</td>\n",
              "      <td>0</td>\n",
              "      <td>1</td>\n",
              "    </tr>\n",
              "    <tr>\n",
              "      <th>1168</th>\n",
              "      <td>0</td>\n",
              "      <td>0</td>\n",
              "      <td>1</td>\n",
              "    </tr>\n",
              "    <tr>\n",
              "      <th>1169</th>\n",
              "      <td>0</td>\n",
              "      <td>0</td>\n",
              "      <td>1</td>\n",
              "    </tr>\n",
              "  </tbody>\n",
              "</table>\n",
              "<p>1170 rows × 3 columns</p>\n",
              "</div>"
            ],
            "text/plain": [
              "      C1  C2  C3\n",
              "0      0   1   0\n",
              "1      0   1   0\n",
              "2      1   0   0\n",
              "3      1   0   0\n",
              "4      1   0   0\n",
              "...   ..  ..  ..\n",
              "1165   0   0   1\n",
              "1166   0   0   1\n",
              "1167   0   0   1\n",
              "1168   0   0   1\n",
              "1169   0   0   1\n",
              "\n",
              "[1170 rows x 3 columns]"
            ]
          },
          "metadata": {
            "tags": []
          },
          "execution_count": 66
        }
      ]
    },
    {
      "cell_type": "markdown",
      "metadata": {
        "id": "d8EfcOinQCvE",
        "colab_type": "text"
      },
      "source": [
        "* We use the multi-ouput classifier using the randomforest as the base-algorithm.\n",
        "\n",
        "* Find more information here: http://scikit-learn.org/stable/modules/generated/sklearn.multioutput.MultiOutputClassifier.html"
      ]
    },
    {
      "cell_type": "code",
      "metadata": {
        "trusted": true,
        "id": "5Wtrj_P6QCvF",
        "colab_type": "code",
        "colab": {
          "base_uri": "https://localhost:8080/",
          "height": 50
        },
        "outputId": "dab72a57-14d7-4068-93d8-3e0bb2affac1"
      },
      "source": [
        "#multi-output classifier and the random-forest classifier.\n",
        "from sklearn.multioutput import MultiOutputClassifier\n",
        "random_forest = RandomForestClassifier(n_estimators=1000, criterion = 'entropy')#with single column targets\n",
        "random_forest.fit(X_samp, y_samp)\n",
        "\n",
        "Y_pred = random_forest.predict(X_samp)\n",
        "\n",
        "multi_target_forest = MultiOutputClassifier(random_forest, n_jobs=-1)\n",
        "Ypred = multi_target_forest.fit(X_samp, yovs).predict(X_samp)\n",
        "multi_target_forest.score(X_samp, yovs)\n",
        "acc_multi = round(multi_target_forest.score(X_samp, yovs) * 100, 2)\n",
        "print(acc_multi,\"trainset-multi-output\")\n",
        "\n",
        "random_forest.score(X_samp, y_samp)\n",
        "acc_random_forest = round(random_forest.score(X_samp, y_samp) * 100, 2)\n",
        "print(acc_random_forest,\"trainset-Randomforest\")"
      ],
      "execution_count": 67,
      "outputs": [
        {
          "output_type": "stream",
          "text": [
            "85.81 trainset-multi-output\n",
            "88.12 trainset-Randomforest\n"
          ],
          "name": "stdout"
        }
      ]
    },
    {
      "cell_type": "markdown",
      "metadata": {
        "id": "dKJ4KOlsQCvJ",
        "colab_type": "text"
      },
      "source": [
        "* Hamming loss for the predictions on train set by randomforest classifier."
      ]
    },
    {
      "cell_type": "code",
      "metadata": {
        "trusted": true,
        "id": "wq7HDG7oQCvK",
        "colab_type": "code",
        "colab": {
          "base_uri": "https://localhost:8080/",
          "height": 34
        },
        "outputId": "5019fc7a-905f-403b-db1e-2c58d91df963"
      },
      "source": [
        "from sklearn.metrics import hamming_loss\n",
        "print(\"Hamming loss = \",hamming_loss(y_samp,Y_pred))"
      ],
      "execution_count": 68,
      "outputs": [
        {
          "output_type": "stream",
          "text": [
            "Hamming loss =  0.1188034188034188\n"
          ],
          "name": "stdout"
        }
      ]
    },
    {
      "cell_type": "markdown",
      "metadata": {
        "id": "twrT1HDgQCvO",
        "colab_type": "text"
      },
      "source": [
        "# We used the pipeline technique from sklearn.\n",
        "\n",
        "* Find more information here: http://scikit-learn.org/stable/modules/generated/sklearn.pipeline.Pipeline.html\n",
        "\n",
        "* We used the NeighborhoodComponentsAnalysis and  KNeighborsClassifier with pipeline."
      ]
    },
    {
      "cell_type": "code",
      "metadata": {
        "trusted": true,
        "id": "_Yuum3-3QCvP",
        "colab_type": "code",
        "colab": {
          "base_uri": "https://localhost:8080/",
          "height": 34
        },
        "outputId": "491f2064-6ac2-4bf8-866a-862e885675ea"
      },
      "source": [
        "from sklearn.neighbors import (NeighborhoodComponentsAnalysis, KNeighborsClassifier)\n",
        "from sklearn.datasets import load_iris\n",
        "from sklearn.model_selection import train_test_split\n",
        "from sklearn.pipeline import Pipeline\n",
        "\n",
        "nca = NeighborhoodComponentsAnalysis(random_state=10)\n",
        "knn = KNeighborsClassifier(n_neighbors=1)\n",
        "nca_pipe = Pipeline([('nca', nca), ('knn', knn)])\n",
        "nca_pipe.fit(X_samp, y_samp)\n",
        "\n",
        "print(nca_pipe.score(X_samp, y_samp)*100, \"%\")"
      ],
      "execution_count": 69,
      "outputs": [
        {
          "output_type": "stream",
          "text": [
            "85.8974358974359 %\n"
          ],
          "name": "stdout"
        }
      ]
    },
    {
      "cell_type": "markdown",
      "metadata": {
        "id": "RDmcQYKfQCvT",
        "colab_type": "text"
      },
      "source": [
        "# Finding the oob score using RF classifier.\n",
        "\n",
        "* Find more information here: https://en.wikipedia.org/wiki/Out-of-bag_error"
      ]
    },
    {
      "cell_type": "markdown",
      "metadata": {
        "id": "grG9r5HlQCvU",
        "colab_type": "text"
      },
      "source": [
        "* We are finding the oob-score for our train set."
      ]
    },
    {
      "cell_type": "code",
      "metadata": {
        "trusted": true,
        "id": "iojcc2O3QCvV",
        "colab_type": "code",
        "colab": {
          "base_uri": "https://localhost:8080/",
          "height": 50
        },
        "outputId": "90e0cb52-7c01-4fae-d648-2fe573c11cec"
      },
      "source": [
        "random_forest = RandomForestClassifier(n_estimators=100, criterion = 'entropy', oob_score = True)\n",
        "random_forest.fit(X_samp, y_samp)\n",
        "Y_prediction = random_forest.predict(X_samp)\n",
        "\n",
        "random_forest.score(X_samp, y_samp)\n",
        "\n",
        "acc_random_forest2 = round(random_forest.score(X_samp, y_samp) * 100, 2)\n",
        "print(round(acc_random_forest2,2,), \"%\")\n",
        "\n",
        "print(\"oob score:\", round(random_forest.oob_score_, 4)*100, \"%\")"
      ],
      "execution_count": 70,
      "outputs": [
        {
          "output_type": "stream",
          "text": [
            "88.12 %\n",
            "oob score: 69.39999999999999 %\n"
          ],
          "name": "stdout"
        }
      ]
    },
    {
      "cell_type": "markdown",
      "metadata": {
        "id": "R9woS7JLQCvY",
        "colab_type": "text"
      },
      "source": [
        "# We used Cross validation also and calculated mean accuracies.\n",
        "\n",
        "* For more information, refer this: http://scikit-learn.org/stable/modules/generated/sklearn.model_selection.cross_val_score.html"
      ]
    },
    {
      "cell_type": "code",
      "metadata": {
        "trusted": true,
        "id": "K6TjzclfQCva",
        "colab_type": "code",
        "colab": {
          "base_uri": "https://localhost:8080/",
          "height": 84
        },
        "outputId": "06eb0b86-9058-42f6-be7c-5563c773c942"
      },
      "source": [
        "from sklearn.model_selection import cross_val_score\n",
        "rf = RandomForestClassifier(n_estimators=100, criterion = 'entropy')\n",
        "scores = cross_val_score(rf, X_samp, y_samp, cv=10, scoring = \"accuracy\")\n",
        "print(\"Scores:\", scores)\n",
        "print(\"Mean:\", scores.mean())\n",
        "print(\"Standard Deviation:\", scores.std())"
      ],
      "execution_count": 71,
      "outputs": [
        {
          "output_type": "stream",
          "text": [
            "Scores: [0.44444444 0.69230769 0.72649573 0.73504274 0.69230769 0.67521368\n",
            " 0.66666667 0.70940171 0.76068376 0.84615385]\n",
            "Mean: 0.6948717948717948\n",
            "Standard Deviation: 0.09692850344326052\n"
          ],
          "name": "stdout"
        }
      ]
    },
    {
      "cell_type": "markdown",
      "metadata": {
        "id": "ZaLwxi_MQCvg",
        "colab_type": "text"
      },
      "source": [
        "# KNeighborsClassifier\n",
        "\n",
        "* Find more information here: http://scikit-learn.org/stable/modules/generated/sklearn.neighbors.KNeighborsClassifier.html"
      ]
    },
    {
      "cell_type": "code",
      "metadata": {
        "trusted": true,
        "id": "L-zuhsPIQCvh",
        "colab_type": "code",
        "colab": {
          "base_uri": "https://localhost:8080/",
          "height": 34
        },
        "outputId": "1efb996f-7c15-4e68-bfc2-a38da5a3cdc1"
      },
      "source": [
        "knn = KNeighborsClassifier(n_neighbors = 1) \n",
        "knn.fit(X_samp, y_samp)  \n",
        "Y_pred = knn.predict(X_samp)  \n",
        "acc_knn = round(knn.score(X_samp, y_samp) * 100, 2)\n",
        "print(acc_knn,\"trainset\")"
      ],
      "execution_count": 72,
      "outputs": [
        {
          "output_type": "stream",
          "text": [
            "84.79 trainset\n"
          ],
          "name": "stdout"
        }
      ]
    },
    {
      "cell_type": "code",
      "metadata": {
        "trusted": true,
        "id": "HY5DGppiQCvl",
        "colab_type": "code",
        "colab": {
          "base_uri": "https://localhost:8080/",
          "height": 34
        },
        "outputId": "cbfe187c-40e2-470a-af28-24de207c89cf"
      },
      "source": [
        "from sklearn.metrics import hamming_loss\n",
        "print(\"Hamming loss-trainset = \",hamming_loss(y_samp,Y_pred))"
      ],
      "execution_count": 73,
      "outputs": [
        {
          "output_type": "stream",
          "text": [
            "Hamming loss-trainset =  0.15213675213675212\n"
          ],
          "name": "stdout"
        }
      ]
    },
    {
      "cell_type": "markdown",
      "metadata": {
        "id": "RnKU67V3QCvo",
        "colab_type": "text"
      },
      "source": [
        "# Decision tree-classifier\n",
        "* For more information: http://scikit-learn.org/stable/modules/generated/sklearn.tree.DecisionTreeClassifier.html"
      ]
    },
    {
      "cell_type": "code",
      "metadata": {
        "trusted": true,
        "id": "pXuyd8EoQCvo",
        "colab_type": "code",
        "colab": {
          "base_uri": "https://localhost:8080/",
          "height": 34
        },
        "outputId": "b4c42c9e-268d-4dbd-ad6c-2bf0e964b511"
      },
      "source": [
        "decision_tree = DecisionTreeClassifier() \n",
        "decision_tree.fit(X_samp, y_samp)  \n",
        "Y_pred = decision_tree.predict(X_samp)  \n",
        "acc_decision_tree = round(decision_tree.score(X_samp, y_samp) * 100, 2)\n",
        "print(acc_decision_tree,\"trainset\")"
      ],
      "execution_count": 74,
      "outputs": [
        {
          "output_type": "stream",
          "text": [
            "88.12 trainset\n"
          ],
          "name": "stdout"
        }
      ]
    },
    {
      "cell_type": "code",
      "metadata": {
        "trusted": true,
        "id": "UMF_L_lbQCvs",
        "colab_type": "code",
        "colab": {
          "base_uri": "https://localhost:8080/",
          "height": 34
        },
        "outputId": "031eb678-2966-49a6-f106-3f199b422fbc"
      },
      "source": [
        "from sklearn.metrics import hamming_loss\n",
        "print(\"Hamming loss-trainset = \",hamming_loss(y_samp,Y_pred))"
      ],
      "execution_count": 75,
      "outputs": [
        {
          "output_type": "stream",
          "text": [
            "Hamming loss-trainset =  0.1188034188034188\n"
          ],
          "name": "stdout"
        }
      ]
    },
    {
      "cell_type": "markdown",
      "metadata": {
        "id": "Nm7GBWQiQCvv",
        "colab_type": "text"
      },
      "source": [
        "# Hyperparameter tuning using GridsearchCV\n",
        "\n",
        "* We tuned the hyperparameters of the random-forest classifier using gridsearchcv.\n",
        "\n",
        "* Find more information here: http://scikit-learn.org/stable/modules/generated/sklearn.model_selection.GridSearchCV.html"
      ]
    },
    {
      "cell_type": "code",
      "metadata": {
        "trusted": true,
        "id": "Hf4Tmh6bQCvw",
        "colab_type": "code",
        "colab": {}
      },
      "source": [
        "param_grid = { \"criterion\" : [\"gini\", \"entropy\"], \"min_samples_leaf\" : [1, 5, 10, 25, 50, 70], \"min_samples_split\" : [2, 4, 10, 12, 16, 18, 25, 35], \"n_estimators\": [100, 400, 700, 1000, 1500]}\n",
        "from sklearn.model_selection import GridSearchCV, cross_val_score\n",
        "rf = RandomForestClassifier(n_estimators=100, max_features='auto', oob_score=True, random_state=1, n_jobs=-1)\n",
        "clf = GridSearchCV(estimator=rf, param_grid=param_grid, n_jobs=-1)\n",
        "clf.fit(X_samp, y_samp)\n",
        "clf.best_params_"
      ],
      "execution_count": 0,
      "outputs": []
    },
    {
      "cell_type": "markdown",
      "metadata": {
        "id": "SrXg75Q6QCv4",
        "colab_type": "text"
      },
      "source": [
        "* I'm not executing the above cell, because it will take a huge time to get completed, rather the output is displayed below."
      ]
    },
    {
      "cell_type": "markdown",
      "metadata": {
        "id": "lQYJbjF4QCv4",
        "colab_type": "text"
      },
      "source": [
        "{'criterion': 'gini',\n",
        " 'min_samples_leaf': 10,\n",
        " 'min_samples_split': 2,\n",
        " 'n_estimators': 100}"
      ]
    },
    {
      "cell_type": "markdown",
      "metadata": {
        "id": "zIromi3CQCv5",
        "colab_type": "text"
      },
      "source": [
        "* Retraining the Rf with the above mentioned hyperparameters."
      ]
    },
    {
      "cell_type": "code",
      "metadata": {
        "trusted": true,
        "id": "nuQjH1CNQCv6",
        "colab_type": "code",
        "colab": {
          "base_uri": "https://localhost:8080/",
          "height": 34
        },
        "outputId": "1dce9ecc-c3ac-44b5-ccd4-589b523ca73b"
      },
      "source": [
        "random_forest = RandomForestClassifier(criterion = \"gini\",    #the best parameters for the rf classifier\n",
        "                                       min_samples_leaf = 10, \n",
        "                                       min_samples_split = 2,   \n",
        "                                       n_estimators=100, \n",
        "                                       max_features='auto', \n",
        "                                       oob_score=True, \n",
        "                                       random_state=1, \n",
        "                                       n_jobs=-1)\n",
        "\n",
        "random_forest.fit(X_samp, y_samp)\n",
        "Y_prediction = random_forest.predict(X_samptest)\n",
        "\n",
        "random_forest.score(X_samp, y_samp)\n",
        "\n",
        "print(\"oob score:\", round(random_forest.oob_score_, 4)*100, \"%\")"
      ],
      "execution_count": 76,
      "outputs": [
        {
          "output_type": "stream",
          "text": [
            "oob score: 71.03 %\n"
          ],
          "name": "stdout"
        }
      ]
    },
    {
      "cell_type": "code",
      "metadata": {
        "id": "roRfnN1vYadr",
        "colab_type": "code",
        "colab": {
          "base_uri": "https://localhost:8080/",
          "height": 101
        },
        "outputId": "c5ccb047-8f08-465c-e25e-a01dac059830"
      },
      "source": [
        "!pip install scikit-multilearn"
      ],
      "execution_count": 79,
      "outputs": [
        {
          "output_type": "stream",
          "text": [
            "Collecting scikit-multilearn\n",
            "\u001b[?25l  Downloading https://files.pythonhosted.org/packages/bb/1f/e6ff649c72a1cdf2c7a1d31eb21705110ce1c5d3e7e26b2cc300e1637272/scikit_multilearn-0.2.0-py3-none-any.whl (89kB)\n",
            "     |████████████████████████████████| 92kB 3.6MB/s \n",
            "\u001b[?25hInstalling collected packages: scikit-multilearn\n",
            "Successfully installed scikit-multilearn-0.2.0\n"
          ],
          "name": "stdout"
        }
      ]
    },
    {
      "cell_type": "markdown",
      "metadata": {
        "id": "wI45neNNQCv_",
        "colab_type": "text"
      },
      "source": [
        "# Implementing classifier chain technique as it tackles multilabel classification problems.\n",
        "\n",
        "* For more information: http://scikit-learn.org/stable/modules/generated/sklearn.multioutput.ClassifierChain.html"
      ]
    },
    {
      "cell_type": "code",
      "metadata": {
        "trusted": true,
        "id": "LRLyTgaWQCwA",
        "colab_type": "code",
        "colab": {}
      },
      "source": [
        "from skmultilearn.problem_transform import ClassifierChain\n",
        "from sklearn.ensemble import RandomForestClassifier\n",
        "\n",
        "# initialize LabelPowerset multi-label classifier with a RandomForest\n",
        "classifier = ClassifierChain(\n",
        "    classifier = RandomForestClassifier(n_estimators=200),\n",
        "    require_dense = [False, True]\n",
        ")\n",
        "\n",
        "# train\n",
        "classifier.fit(X_samp, y_samp)\n",
        "\n",
        "# predict\n",
        "predictions = classifier.predict(X_samp)\n",
        "pred2 = classifier.predict(X_samptest)"
      ],
      "execution_count": 0,
      "outputs": []
    },
    {
      "cell_type": "code",
      "metadata": {
        "trusted": true,
        "id": "jQjP5-PIQCwE",
        "colab_type": "code",
        "colab": {
          "base_uri": "https://localhost:8080/",
          "height": 50
        },
        "outputId": "43fa8431-89f4-49b0-8c8f-4cadeb81cb67"
      },
      "source": [
        "from sklearn import metrics\n",
        "# Model Accuracy, how often is the classifier correct?\n",
        "print(\"Accuracy-train:\",metrics.accuracy_score(y_samp.reshape(-1,1), predictions.todense())*100, \"%\")\n",
        "print(\"Accuracy-test:\",metrics.accuracy_score(y_samptest.reshape(-1,1), pred2.todense())*100, \"%\")"
      ],
      "execution_count": 82,
      "outputs": [
        {
          "output_type": "stream",
          "text": [
            "Accuracy-train: 88.11965811965811 %\n",
            "Accuracy-test: 64.25120772946859 %\n"
          ],
          "name": "stdout"
        }
      ]
    },
    {
      "cell_type": "markdown",
      "metadata": {
        "id": "hEqka-GAQCwI",
        "colab_type": "text"
      },
      "source": [
        "# Using the onevsrest classifier.\n",
        "\n",
        "* For more details: http://scikit-learn.org/stable/modules/generated/sklearn.multiclass.OneVsRestClassifier.html"
      ]
    },
    {
      "cell_type": "code",
      "metadata": {
        "trusted": true,
        "id": "uw9kF3RAQCwJ",
        "colab_type": "code",
        "colab": {}
      },
      "source": [
        "from sklearn import datasets\n",
        "from sklearn.multiclass import OneVsRestClassifier\n",
        "pred = OneVsRestClassifier(RandomForestClassifier(n_estimators=200, class_weight='balanced')).fit(X_samp, y_samp).predict(X_samp)\n",
        "pred2 = OneVsRestClassifier(RandomForestClassifier(n_estimators=200, class_weight='balanced')).fit(X_samp, y_samp).predict(X_samptest)"
      ],
      "execution_count": 0,
      "outputs": []
    },
    {
      "cell_type": "code",
      "metadata": {
        "trusted": true,
        "id": "6-Z-bJEEQCwN",
        "colab_type": "code",
        "colab": {
          "base_uri": "https://localhost:8080/",
          "height": 50
        },
        "outputId": "18c1f8c2-2543-4ffb-9715-98017271a6a0"
      },
      "source": [
        "print(\"Accuracy-train:\",metrics.accuracy_score(y_samp, pred)*100, \"%\")\n",
        "print(\"Accuracy-test:\",metrics.accuracy_score(y_samptest, pred2)*100, \"%\")"
      ],
      "execution_count": 84,
      "outputs": [
        {
          "output_type": "stream",
          "text": [
            "Accuracy-train: 88.11965811965811 %\n",
            "Accuracy-test: 65.70048309178745 %\n"
          ],
          "name": "stdout"
        }
      ]
    },
    {
      "cell_type": "markdown",
      "metadata": {
        "id": "RZ2mnwSzQCwT",
        "colab_type": "text"
      },
      "source": [
        "* This is by far the best accuracy we have got on the train and test set."
      ]
    },
    {
      "cell_type": "markdown",
      "metadata": {
        "id": "IrejBHXkQCwU",
        "colab_type": "text"
      },
      "source": [
        "# Next, RadiusNeighborsClassifier with radius =1.\n",
        "\n",
        "* It is considered to be a lazy algorithm.\n",
        "\n",
        "* This gives the best accuracy as this fits the best to our dataset. This is because the training-examples we used for classification are very closed to each other in the feature space.\n",
        "\n",
        "* For more information: http://scikit-learn.org/stable/modules/generated/sklearn.neighbors.RadiusNeighborsClassifier.html"
      ]
    },
    {
      "cell_type": "code",
      "metadata": {
        "trusted": true,
        "id": "4lbvywXzQCwV",
        "colab_type": "code",
        "colab": {}
      },
      "source": [
        "from sklearn.neighbors import RadiusNeighborsClassifier\n",
        "neigh = RadiusNeighborsClassifier(radius=1, weights='distance',algorithm='brute')\n",
        "neigh.fit(X_samp, y_samp)\n",
        "ypredu = neigh.predict(X_samp)"
      ],
      "execution_count": 0,
      "outputs": []
    },
    {
      "cell_type": "code",
      "metadata": {
        "trusted": true,
        "id": "Fb5AjG1NQCwY",
        "colab_type": "code",
        "colab": {
          "base_uri": "https://localhost:8080/",
          "height": 34
        },
        "outputId": "ca148d64-69d9-4c0a-f253-3fff5acb5c75"
      },
      "source": [
        "from sklearn import metrics\n",
        "# Model Accuracy, how often is the classifier correct?\n",
        "print(\"Accuracy-train:\",metrics.accuracy_score(y_samp, ypredu)*100, \"%\")"
      ],
      "execution_count": 86,
      "outputs": [
        {
          "output_type": "stream",
          "text": [
            "Accuracy-train: 91.7948717948718 %\n"
          ],
          "name": "stdout"
        }
      ]
    },
    {
      "cell_type": "code",
      "metadata": {
        "trusted": true,
        "id": "xc6KAqGNQCwi",
        "colab_type": "code",
        "colab": {
          "base_uri": "https://localhost:8080/",
          "height": 34
        },
        "outputId": "2d6dde14-b9d3-4df6-ae10-c0f617e9e990"
      },
      "source": [
        "from sklearn.metrics import hamming_loss\n",
        "print(\"Hamming loss = \",hamming_loss(y_samp,ypredu))"
      ],
      "execution_count": 87,
      "outputs": [
        {
          "output_type": "stream",
          "text": [
            "Hamming loss =  0.08205128205128205\n"
          ],
          "name": "stdout"
        }
      ]
    },
    {
      "cell_type": "markdown",
      "metadata": {
        "id": "ymkdLJyAQCwn",
        "colab_type": "text"
      },
      "source": [
        "Find more about the jaccard_score: http://scikit-learn.org/stable/modules/generated/sklearn.metrics.jaccard_score.html"
      ]
    },
    {
      "cell_type": "code",
      "metadata": {
        "trusted": true,
        "id": "f7IwbtEXQCwo",
        "colab_type": "code",
        "colab": {
          "base_uri": "https://localhost:8080/",
          "height": 34
        },
        "outputId": "151d6566-edd4-432f-91e2-902890b5e13a"
      },
      "source": [
        "from sklearn.metrics import jaccard_score\n",
        "js= jaccard_score(y_samp, ypredu, average=None)\n",
        "js"
      ],
      "execution_count": 88,
      "outputs": [
        {
          "output_type": "execute_result",
          "data": {
            "text/plain": [
              "array([0.80952381, 0.78019324, 0.96666667])"
            ]
          },
          "metadata": {
            "tags": []
          },
          "execution_count": 88
        }
      ]
    },
    {
      "cell_type": "markdown",
      "metadata": {
        "id": "7maL97BGQCwr",
        "colab_type": "text"
      },
      "source": [
        "Find more about the classification report: http://scikit-learn.org/stable/modules/generated/sklearn.metrics.classification_report.html"
      ]
    },
    {
      "cell_type": "code",
      "metadata": {
        "trusted": true,
        "id": "iNGc_krbQCws",
        "colab_type": "code",
        "colab": {
          "base_uri": "https://localhost:8080/",
          "height": 185
        },
        "outputId": "c70b3f5f-5695-4b94-bf39-502a124c9b31"
      },
      "source": [
        "from sklearn.metrics import classification_report\n",
        "target_names = ['class 1', 'class 2', 'class 3']\n",
        "print(classification_report(y_samp, ypredu, target_names=target_names))"
      ],
      "execution_count": 89,
      "outputs": [
        {
          "output_type": "stream",
          "text": [
            "              precision    recall  f1-score   support\n",
            "\n",
            "     class 1       0.84      0.96      0.89       390\n",
            "     class 2       0.93      0.83      0.88       390\n",
            "     class 3       1.00      0.97      0.98       390\n",
            "\n",
            "    accuracy                           0.92      1170\n",
            "   macro avg       0.92      0.92      0.92      1170\n",
            "weighted avg       0.92      0.92      0.92      1170\n",
            "\n"
          ],
          "name": "stdout"
        }
      ]
    },
    {
      "cell_type": "markdown",
      "metadata": {
        "id": "3InTRzioQCwv",
        "colab_type": "text"
      },
      "source": [
        "* We plot the confusion matrix to see what's actually happening.\n",
        "\n",
        "* Find more information here: http://scikit-learn.org/stable/auto_examples/model_selection/plot_confusion_matrix.html"
      ]
    },
    {
      "cell_type": "code",
      "metadata": {
        "trusted": true,
        "id": "RJ_SkhPLQCwv",
        "colab_type": "code",
        "colab": {}
      },
      "source": [
        "\n",
        "import numpy as np\n",
        "import seaborn as sns\n",
        "import matplotlib.pyplot as plt\n",
        "def plot_confusion_matrix(cm, classes, normalized=True, cmap='bone'):\n",
        "    plt.figure(figsize=[7, 6])\n",
        "    norm_cm = cm\n",
        "    if normalized:\n",
        "        norm_cm = cm.astype('float') / cm.sum(axis=1)[:, np.newaxis]\n",
        "        sns.heatmap(norm_cm, annot=cm, fmt='g', xticklabels=classes, yticklabels=classes, cmap=cmap)\n",
        "        plt.savefig('confusion-matrix.png')"
      ],
      "execution_count": 0,
      "outputs": []
    },
    {
      "cell_type": "code",
      "metadata": {
        "trusted": true,
        "id": "ViyhOCCbQCwy",
        "colab_type": "code",
        "colab": {}
      },
      "source": [
        "from sklearn.metrics import confusion_matrix\n",
        "target_names = ['class 1', 'class 2', 'class 3']\n",
        "cm = confusion_matrix(y_samp, ypredu)"
      ],
      "execution_count": 0,
      "outputs": []
    },
    {
      "cell_type": "code",
      "metadata": {
        "trusted": true,
        "id": "qsEyVAgcQCw1",
        "colab_type": "code",
        "colab": {
          "base_uri": "https://localhost:8080/",
          "height": 377
        },
        "outputId": "533bf421-2768-4d26-b870-a2512361b74d"
      },
      "source": [
        "plot_confusion_matrix(cm, classes=target_names)"
      ],
      "execution_count": 92,
      "outputs": [
        {
          "output_type": "display_data",
          "data": {
            "image/png": "[encoded data removed]",
            "text/plain": [
              "<Figure size 504x432 with 2 Axes>"
            ]
          },
          "metadata": {
            "tags": []
          }
        }
      ]
    },
    {
      "cell_type": "markdown",
      "metadata": {
        "id": "AuETM2jHQCw6",
        "colab_type": "text"
      },
      "source": [
        "# The drawbacks of our approach.\n",
        "\n",
        "* This above-mentioned approach has many drawbacks, one of them is an incomplete dataset.\n",
        "\n",
        "* There are no good-differentiating features in the dataset.\n",
        "\n",
        "* In our approach we are not able to decide the effectiveness and a go-to plan of action for deploying npis.\n",
        "\n",
        "* All the data-points are very-similar to one-another, hence it is being difficult for the algorithm to learn."
      ]
    },
    {
      "cell_type": "markdown",
      "metadata": {
        "id": "eosk5mXCQCw7",
        "colab_type": "text"
      },
      "source": [
        "# Further work:\n",
        "\n",
        "* There could be a set of strong differentiating features in the dataset, which will make the generalization easy.\n",
        "\n",
        "* There can be further categorisation of npis for better implementation of them.\n",
        "\n",
        "* The dataset can also be combined with economic parameters further, to understand the economic feasibilty of the npi-implementation.\n",
        "\n",
        "* It can further be used to predict the decrease in growth rates, once an npi is implemented to further note the real-time effectiveness of the npis in a particular demographic"
      ]
    },
    {
      "cell_type": "markdown",
      "metadata": {
        "id": "oYEMPn5gQCw9",
        "colab_type": "text"
      },
      "source": [
        "Note: This work is inspired from many data science resources. Any traces of replications, which may appear, is purely co-incidental."
      ]
    }
  ]
}